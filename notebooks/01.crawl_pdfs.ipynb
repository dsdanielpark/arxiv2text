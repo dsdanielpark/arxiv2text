{
 "cells": [
  {
   "cell_type": "code",
   "execution_count": 17,
   "metadata": {},
   "outputs": [],
   "source": [
    "import pandas as pd\n",
    "import arxiv2text\n",
    "import pandas as pd\n",
    "from datetime import datetime"
   ]
  },
  {
   "cell_type": "code",
   "execution_count": 12,
   "metadata": {},
   "outputs": [],
   "source": [
    "df = pd.read_csv(\"cs_ai_24400.csv\")"
   ]
  },
  {
   "cell_type": "code",
   "execution_count": 13,
   "metadata": {},
   "outputs": [
    {
     "data": {
      "text/html": [
       "<div>\n",
       "<style scoped>\n",
       "    .dataframe tbody tr th:only-of-type {\n",
       "        vertical-align: middle;\n",
       "    }\n",
       "\n",
       "    .dataframe tbody tr th {\n",
       "        vertical-align: top;\n",
       "    }\n",
       "\n",
       "    .dataframe thead th {\n",
       "        text-align: right;\n",
       "    }\n",
       "</style>\n",
       "<table border=\"1\" class=\"dataframe\">\n",
       "  <thead>\n",
       "    <tr style=\"text-align: right;\">\n",
       "      <th></th>\n",
       "      <th>title</th>\n",
       "      <th>abstract</th>\n",
       "      <th>arxiv_url</th>\n",
       "      <th>pdf_url</th>\n",
       "      <th>published_date</th>\n",
       "      <th>doi</th>\n",
       "    </tr>\n",
       "  </thead>\n",
       "  <tbody>\n",
       "    <tr>\n",
       "      <th>0</th>\n",
       "      <td>Explainable Spatio-Temporal Graph Neural Networks</td>\n",
       "      <td>Spatio-temporal graph neural networks (STGNNs)...</td>\n",
       "      <td>http://arxiv.org/abs/2310.17149v1</td>\n",
       "      <td>http://arxiv.org/pdf/2310.17149v1</td>\n",
       "      <td>2023-10-26</td>\n",
       "      <td>NaN</td>\n",
       "    </tr>\n",
       "    <tr>\n",
       "      <th>1</th>\n",
       "      <td>Meaning and understanding in large language mo...</td>\n",
       "      <td>Can a machine understand the meanings of natur...</td>\n",
       "      <td>http://arxiv.org/abs/2310.17407v1</td>\n",
       "      <td>http://arxiv.org/pdf/2310.17407v1</td>\n",
       "      <td>2023-10-26</td>\n",
       "      <td>NaN</td>\n",
       "    </tr>\n",
       "    <tr>\n",
       "      <th>2</th>\n",
       "      <td>Foundation Model Based Native AI Framework in ...</td>\n",
       "      <td>Future wireless communication networks are in ...</td>\n",
       "      <td>http://arxiv.org/abs/2310.17471v1</td>\n",
       "      <td>http://arxiv.org/pdf/2310.17471v1</td>\n",
       "      <td>2023-10-26</td>\n",
       "      <td>NaN</td>\n",
       "    </tr>\n",
       "    <tr>\n",
       "      <th>3</th>\n",
       "      <td>Handshape recognition for Argentinian Sign Lan...</td>\n",
       "      <td>Automatic sign language recognition is an impo...</td>\n",
       "      <td>http://arxiv.org/abs/2310.17427v1</td>\n",
       "      <td>http://arxiv.org/pdf/2310.17427v1</td>\n",
       "      <td>2023-10-26</td>\n",
       "      <td>NaN</td>\n",
       "    </tr>\n",
       "    <tr>\n",
       "      <th>4</th>\n",
       "      <td>Efficient Data Fusion using the Tsetlin Machine</td>\n",
       "      <td>We propose a novel way of assessing and fusing...</td>\n",
       "      <td>http://arxiv.org/abs/2310.17207v1</td>\n",
       "      <td>http://arxiv.org/pdf/2310.17207v1</td>\n",
       "      <td>2023-10-26</td>\n",
       "      <td>NaN</td>\n",
       "    </tr>\n",
       "    <tr>\n",
       "      <th>...</th>\n",
       "      <td>...</td>\n",
       "      <td>...</td>\n",
       "      <td>...</td>\n",
       "      <td>...</td>\n",
       "      <td>...</td>\n",
       "      <td>...</td>\n",
       "    </tr>\n",
       "    <tr>\n",
       "      <th>24395</th>\n",
       "      <td>The Difficulties of Learning Logic Programs wi...</td>\n",
       "      <td>As real logic programmers normally use cut (!)...</td>\n",
       "      <td>http://arxiv.org/abs/cs/9311101v1</td>\n",
       "      <td>http://arxiv.org/pdf/cs/9311101v1</td>\n",
       "      <td>1993-11-01</td>\n",
       "      <td>NaN</td>\n",
       "    </tr>\n",
       "    <tr>\n",
       "      <th>24396</th>\n",
       "      <td>Software Agents: Completing Patterns and Const...</td>\n",
       "      <td>To support the goal of allowing users to recor...</td>\n",
       "      <td>http://arxiv.org/abs/cs/9311102v1</td>\n",
       "      <td>http://arxiv.org/pdf/cs/9311102v1</td>\n",
       "      <td>1993-11-01</td>\n",
       "      <td>NaN</td>\n",
       "    </tr>\n",
       "    <tr>\n",
       "      <th>24397</th>\n",
       "      <td>An Empirical Analysis of Search in GSAT</td>\n",
       "      <td>We describe an extensive study of search in GS...</td>\n",
       "      <td>http://arxiv.org/abs/cs/9309101v1</td>\n",
       "      <td>http://arxiv.org/pdf/cs/9309101v1</td>\n",
       "      <td>1993-09-01</td>\n",
       "      <td>NaN</td>\n",
       "    </tr>\n",
       "    <tr>\n",
       "      <th>24398</th>\n",
       "      <td>A Market-Oriented Programming Environment and ...</td>\n",
       "      <td>Market price systems constitute a well-underst...</td>\n",
       "      <td>http://arxiv.org/abs/cs/9308102v1</td>\n",
       "      <td>http://arxiv.org/pdf/cs/9308102v1</td>\n",
       "      <td>1993-08-01</td>\n",
       "      <td>NaN</td>\n",
       "    </tr>\n",
       "    <tr>\n",
       "      <th>24399</th>\n",
       "      <td>Dynamic Backtracking</td>\n",
       "      <td>Because of their occasional need to return to ...</td>\n",
       "      <td>http://arxiv.org/abs/cs/9308101v1</td>\n",
       "      <td>http://arxiv.org/pdf/cs/9308101v1</td>\n",
       "      <td>1993-08-01</td>\n",
       "      <td>NaN</td>\n",
       "    </tr>\n",
       "  </tbody>\n",
       "</table>\n",
       "<p>24400 rows × 6 columns</p>\n",
       "</div>"
      ],
      "text/plain": [
       "                                                   title  \\\n",
       "0      Explainable Spatio-Temporal Graph Neural Networks   \n",
       "1      Meaning and understanding in large language mo...   \n",
       "2      Foundation Model Based Native AI Framework in ...   \n",
       "3      Handshape recognition for Argentinian Sign Lan...   \n",
       "4        Efficient Data Fusion using the Tsetlin Machine   \n",
       "...                                                  ...   \n",
       "24395  The Difficulties of Learning Logic Programs wi...   \n",
       "24396  Software Agents: Completing Patterns and Const...   \n",
       "24397            An Empirical Analysis of Search in GSAT   \n",
       "24398  A Market-Oriented Programming Environment and ...   \n",
       "24399                               Dynamic Backtracking   \n",
       "\n",
       "                                                abstract  \\\n",
       "0      Spatio-temporal graph neural networks (STGNNs)...   \n",
       "1      Can a machine understand the meanings of natur...   \n",
       "2      Future wireless communication networks are in ...   \n",
       "3      Automatic sign language recognition is an impo...   \n",
       "4      We propose a novel way of assessing and fusing...   \n",
       "...                                                  ...   \n",
       "24395  As real logic programmers normally use cut (!)...   \n",
       "24396  To support the goal of allowing users to recor...   \n",
       "24397  We describe an extensive study of search in GS...   \n",
       "24398  Market price systems constitute a well-underst...   \n",
       "24399  Because of their occasional need to return to ...   \n",
       "\n",
       "                               arxiv_url                            pdf_url  \\\n",
       "0      http://arxiv.org/abs/2310.17149v1  http://arxiv.org/pdf/2310.17149v1   \n",
       "1      http://arxiv.org/abs/2310.17407v1  http://arxiv.org/pdf/2310.17407v1   \n",
       "2      http://arxiv.org/abs/2310.17471v1  http://arxiv.org/pdf/2310.17471v1   \n",
       "3      http://arxiv.org/abs/2310.17427v1  http://arxiv.org/pdf/2310.17427v1   \n",
       "4      http://arxiv.org/abs/2310.17207v1  http://arxiv.org/pdf/2310.17207v1   \n",
       "...                                  ...                                ...   \n",
       "24395  http://arxiv.org/abs/cs/9311101v1  http://arxiv.org/pdf/cs/9311101v1   \n",
       "24396  http://arxiv.org/abs/cs/9311102v1  http://arxiv.org/pdf/cs/9311102v1   \n",
       "24397  http://arxiv.org/abs/cs/9309101v1  http://arxiv.org/pdf/cs/9309101v1   \n",
       "24398  http://arxiv.org/abs/cs/9308102v1  http://arxiv.org/pdf/cs/9308102v1   \n",
       "24399  http://arxiv.org/abs/cs/9308101v1  http://arxiv.org/pdf/cs/9308101v1   \n",
       "\n",
       "      published_date  doi  \n",
       "0         2023-10-26  NaN  \n",
       "1         2023-10-26  NaN  \n",
       "2         2023-10-26  NaN  \n",
       "3         2023-10-26  NaN  \n",
       "4         2023-10-26  NaN  \n",
       "...              ...  ...  \n",
       "24395     1993-11-01  NaN  \n",
       "24396     1993-11-01  NaN  \n",
       "24397     1993-09-01  NaN  \n",
       "24398     1993-08-01  NaN  \n",
       "24399     1993-08-01  NaN  \n",
       "\n",
       "[24400 rows x 6 columns]"
      ]
     },
     "execution_count": 13,
     "metadata": {},
     "output_type": "execute_result"
    }
   ],
   "source": [
    "df"
   ]
  },
  {
   "cell_type": "code",
   "execution_count": 18,
   "metadata": {},
   "outputs": [
    {
     "name": "stderr",
     "output_type": "stream",
     "text": [
      "C:\\Users\\parkm\\AppData\\Local\\Temp\\ipykernel_22744\\104301468.py:1: SettingWithCopyWarning: \n",
      "A value is trying to be set on a copy of a slice from a DataFrame.\n",
      "Try using .loc[row_indexer,col_indexer] = value instead\n",
      "\n",
      "See the caveats in the documentation: https://pandas.pydata.org/pandas-docs/stable/user_guide/indexing.html#returning-a-view-versus-a-copy\n",
      "  df['published_date'] = pd.to_datetime(df['published_date'])\n"
     ]
    }
   ],
   "source": [
    "df['published_date'] = pd.to_datetime(df['published_date'])\n",
    "\n",
    "df = df[df['published_date'] >= datetime(2018, 1, 1)]"
   ]
  },
  {
   "cell_type": "code",
   "execution_count": 21,
   "metadata": {},
   "outputs": [],
   "source": [
    "pdf_url_list = df['pdf_url'].to_list()"
   ]
  },
  {
   "cell_type": "code",
   "execution_count": 24,
   "metadata": {},
   "outputs": [
    {
     "name": "stderr",
     "output_type": "stream",
     "text": [
      "  1%|          | 182/16327 [00:04<06:31, 41.23it/s]"
     ]
    },
    {
     "name": "stdout",
     "output_type": "stream",
     "text": [
      "Markdown content saved to cs_ai_markdown\\2310.06547v1.md\n",
      "Process on 181: Completed\n",
      "Markdown content saved to cs_ai_markdown\\2310.05751v1.md\n",
      "Process on 182: Completed\n"
     ]
    },
    {
     "name": "stderr",
     "output_type": "stream",
     "text": [
      "  1%|          | 184/16327 [00:24<48:57,  5.49it/s]"
     ]
    },
    {
     "name": "stdout",
     "output_type": "stream",
     "text": [
      "Markdown content saved to cs_ai_markdown\\2310.05414v1.md\n",
      "Process on 183: Completed\n"
     ]
    },
    {
     "name": "stderr",
     "output_type": "stream",
     "text": [
      "  1%|          | 185/16327 [00:28<57:54,  4.65it/s]"
     ]
    },
    {
     "name": "stdout",
     "output_type": "stream",
     "text": [
      "Markdown content saved to cs_ai_markdown\\2310.05566v1.md\n",
      "Process on 184: Completed\n",
      "Markdown content saved to cs_ai_markdown\\2310.05464v1.md\n",
      "Process on 185: Completed\n"
     ]
    },
    {
     "name": "stderr",
     "output_type": "stream",
     "text": [
      "  1%|          | 187/16327 [00:49<2:21:51,  1.90it/s]"
     ]
    },
    {
     "name": "stdout",
     "output_type": "stream",
     "text": [
      "Markdown content saved to cs_ai_markdown\\2310.05845v1.md\n",
      "Process on 186: Completed\n"
     ]
    },
    {
     "name": "stderr",
     "output_type": "stream",
     "text": [
      "  1%|          | 188/16327 [00:56<2:58:55,  1.50it/s]"
     ]
    },
    {
     "name": "stdout",
     "output_type": "stream",
     "text": [
      "Markdown content saved to cs_ai_markdown\\2310.06167v1.md\n",
      "Process on 187: Completed\n"
     ]
    },
    {
     "name": "stderr",
     "output_type": "stream",
     "text": [
      "  1%|          | 189/16327 [01:10<4:46:51,  1.07s/it]"
     ]
    },
    {
     "name": "stdout",
     "output_type": "stream",
     "text": [
      "Markdown content saved to cs_ai_markdown\\2310.05692v1.md\n",
      "Process on 188: Completed\n"
     ]
    },
    {
     "name": "stderr",
     "output_type": "stream",
     "text": [
      "  1%|          | 190/16327 [01:17<5:48:04,  1.29s/it]"
     ]
    },
    {
     "name": "stdout",
     "output_type": "stream",
     "text": [
      "Markdown content saved to cs_ai_markdown\\2310.05456v1.md\n",
      "Process on 189: Completed\n"
     ]
    },
    {
     "name": "stderr",
     "output_type": "stream",
     "text": [
      "  1%|          | 191/16327 [01:22<6:47:10,  1.51s/it]"
     ]
    },
    {
     "name": "stdout",
     "output_type": "stream",
     "text": [
      "Markdown content saved to cs_ai_markdown\\2310.05884v1.md\n",
      "Process on 190: Completed\n"
     ]
    },
    {
     "name": "stderr",
     "output_type": "stream",
     "text": [
      "  1%|          | 192/16327 [01:30<8:56:24,  1.99s/it]"
     ]
    },
    {
     "name": "stdout",
     "output_type": "stream",
     "text": [
      "Markdown content saved to cs_ai_markdown\\2310.05563v1.md\n",
      "Process on 191: Completed\n"
     ]
    },
    {
     "name": "stderr",
     "output_type": "stream",
     "text": [
      "  1%|          | 193/16327 [01:34<9:38:56,  2.15s/it]"
     ]
    },
    {
     "name": "stdout",
     "output_type": "stream",
     "text": [
      "Markdown content saved to cs_ai_markdown\\2310.05627v1.md\n",
      "Process on 192: Completed\n"
     ]
    },
    {
     "name": "stderr",
     "output_type": "stream",
     "text": [
      "  1%|          | 194/16327 [01:40<11:35:03,  2.58s/it]"
     ]
    },
    {
     "name": "stdout",
     "output_type": "stream",
     "text": [
      "Markdown content saved to cs_ai_markdown\\2310.05797v2.md\n",
      "Process on 193: Completed\n"
     ]
    },
    {
     "name": "stderr",
     "output_type": "stream",
     "text": [
      "  1%|          | 195/16327 [01:49<16:02:45,  3.58s/it]"
     ]
    },
    {
     "name": "stdout",
     "output_type": "stream",
     "text": [
      "Markdown content saved to cs_ai_markdown\\2310.05918v1.md\n",
      "Process on 194: Completed\n"
     ]
    },
    {
     "name": "stderr",
     "output_type": "stream",
     "text": [
      "  1%|          | 196/16327 [03:17<80:20:56, 17.93s/it]"
     ]
    },
    {
     "name": "stdout",
     "output_type": "stream",
     "text": [
      "Markdown content saved to cs_ai_markdown\\2310.06114v1.md\n",
      "Process on 195: Completed\n"
     ]
    },
    {
     "name": "stderr",
     "output_type": "stream",
     "text": [
      "  1%|          | 197/16327 [03:56<98:54:20, 22.07s/it]"
     ]
    },
    {
     "name": "stdout",
     "output_type": "stream",
     "text": [
      "Markdown content saved to cs_ai_markdown\\2310.05753v1.md\n",
      "Process on 196: Completed\n"
     ]
    },
    {
     "name": "stderr",
     "output_type": "stream",
     "text": [
      "  1%|          | 198/16327 [04:14<95:05:38, 21.23s/it]"
     ]
    },
    {
     "name": "stdout",
     "output_type": "stream",
     "text": [
      "Markdown content saved to cs_ai_markdown\\2310.05512v1.md\n",
      "Process on 197: Completed\n"
     ]
    },
    {
     "name": "stderr",
     "output_type": "stream",
     "text": [
      "  1%|          | 199/16327 [04:19<77:05:01, 17.21s/it]"
     ]
    },
    {
     "name": "stdout",
     "output_type": "stream",
     "text": [
      "Markdown content saved to cs_ai_markdown\\2310.05727v1.md\n",
      "Process on 198: Completed\n"
     ]
    },
    {
     "name": "stderr",
     "output_type": "stream",
     "text": [
      "  1%|          | 200/16327 [04:23<62:09:45, 13.88s/it]"
     ]
    },
    {
     "name": "stdout",
     "output_type": "stream",
     "text": [
      "Markdown content saved to cs_ai_markdown\\2310.04997v1.md\n",
      "Process on 199: Completed\n"
     ]
    },
    {
     "name": "stderr",
     "output_type": "stream",
     "text": [
      "  1%|          | 201/16327 [04:52<80:55:09, 18.06s/it]"
     ]
    },
    {
     "name": "stdout",
     "output_type": "stream",
     "text": [
      "Markdown content saved to cs_ai_markdown\\2310.04986v3.md\n",
      "Process on 200: Completed\n"
     ]
    },
    {
     "name": "stderr",
     "output_type": "stream",
     "text": [
      "  1%|          | 202/16327 [04:56<63:14:05, 14.12s/it]"
     ]
    },
    {
     "name": "stdout",
     "output_type": "stream",
     "text": [
      "Markdown content saved to cs_ai_markdown\\2310.05286v1.md\n",
      "Process on 201: Completed\n"
     ]
    },
    {
     "name": "stderr",
     "output_type": "stream",
     "text": [
      "  1%|          | 203/16327 [05:09<61:05:26, 13.64s/it]"
     ]
    },
    {
     "name": "stdout",
     "output_type": "stream",
     "text": [
      "Markdown content saved to cs_ai_markdown\\2310.05022v1.md\n",
      "Process on 202: Completed\n"
     ]
    },
    {
     "name": "stderr",
     "output_type": "stream",
     "text": [
      "  1%|          | 204/16327 [05:42<86:39:36, 19.35s/it]"
     ]
    },
    {
     "name": "stdout",
     "output_type": "stream",
     "text": [
      "Markdown content saved to cs_ai_markdown\\2310.04992v1.md\n",
      "Process on 203: Completed\n"
     ]
    },
    {
     "name": "stderr",
     "output_type": "stream",
     "text": [
      "  1%|▏         | 205/16327 [05:51<72:29:01, 16.19s/it]"
     ]
    },
    {
     "name": "stdout",
     "output_type": "stream",
     "text": [
      "Markdown content saved to cs_ai_markdown\\2310.05186v1.md\n",
      "Process on 204: Completed\n"
     ]
    },
    {
     "name": "stderr",
     "output_type": "stream",
     "text": [
      "  1%|▏         | 206/16327 [05:57<59:30:46, 13.29s/it]"
     ]
    },
    {
     "name": "stdout",
     "output_type": "stream",
     "text": [
      "Markdown content saved to cs_ai_markdown\\2310.05099v1.md\n",
      "Process on 205: Completed\n"
     ]
    },
    {
     "name": "stderr",
     "output_type": "stream",
     "text": [
      "  1%|▏         | 207/16327 [05:59<45:03:24, 10.06s/it]"
     ]
    },
    {
     "name": "stdout",
     "output_type": "stream",
     "text": [
      "Markdown content saved to cs_ai_markdown\\2310.04804v1.md\n",
      "Process on 206: Completed\n"
     ]
    },
    {
     "name": "stderr",
     "output_type": "stream",
     "text": [
      "  1%|▏         | 208/16327 [06:44<90:32:02, 20.22s/it]"
     ]
    },
    {
     "name": "stdout",
     "output_type": "stream",
     "text": [
      "Markdown content saved to cs_ai_markdown\\2310.04816v1.md\n",
      "Process on 207: Completed\n"
     ]
    },
    {
     "name": "stderr",
     "output_type": "stream",
     "text": [
      "  1%|▏         | 209/16327 [06:55<78:30:11, 17.53s/it]"
     ]
    },
    {
     "name": "stdout",
     "output_type": "stream",
     "text": [
      "Markdown content saved to cs_ai_markdown\\2310.04837v1.md\n",
      "Process on 208: Completed\n"
     ]
    },
    {
     "name": "stderr",
     "output_type": "stream",
     "text": [
      "  1%|▏         | 210/16327 [07:01<63:21:14, 14.15s/it]"
     ]
    },
    {
     "name": "stdout",
     "output_type": "stream",
     "text": [
      "Markdown content saved to cs_ai_markdown\\2310.04852v1.md\n",
      "Process on 209: Completed\n"
     ]
    },
    {
     "name": "stderr",
     "output_type": "stream",
     "text": [
      "  1%|▏         | 211/16327 [07:16<64:12:30, 14.34s/it]"
     ]
    },
    {
     "name": "stdout",
     "output_type": "stream",
     "text": [
      "Markdown content saved to cs_ai_markdown\\2310.04835v2.md\n",
      "Process on 210: Completed\n"
     ]
    },
    {
     "name": "stderr",
     "output_type": "stream",
     "text": [
      "  1%|▏         | 212/16327 [07:21<51:33:10, 11.52s/it]"
     ]
    },
    {
     "name": "stdout",
     "output_type": "stream",
     "text": [
      "Markdown content saved to cs_ai_markdown\\2310.04704v1.md\n",
      "Process on 211: Completed\n"
     ]
    },
    {
     "name": "stderr",
     "output_type": "stream",
     "text": [
      "  1%|▏         | 213/16327 [07:25<41:51:36,  9.35s/it]"
     ]
    },
    {
     "name": "stdout",
     "output_type": "stream",
     "text": [
      "Markdown content saved to cs_ai_markdown\\2310.04870v2.md\n",
      "Process on 212: Completed\n"
     ]
    },
    {
     "name": "stderr",
     "output_type": "stream",
     "text": [
      "  1%|▏         | 214/16327 [07:33<39:47:42,  8.89s/it]"
     ]
    },
    {
     "name": "stdout",
     "output_type": "stream",
     "text": [
      "Markdown content saved to cs_ai_markdown\\2310.04930v2.md\n",
      "Process on 213: Completed\n"
     ]
    },
    {
     "name": "stderr",
     "output_type": "stream",
     "text": [
      "  1%|▏         | 215/16327 [07:37<33:05:38,  7.39s/it]"
     ]
    },
    {
     "name": "stdout",
     "output_type": "stream",
     "text": [
      "Markdown content saved to cs_ai_markdown\\2310.04266v1.md\n",
      "Process on 214: Completed\n"
     ]
    },
    {
     "name": "stderr",
     "output_type": "stream",
     "text": [
      "  1%|▏         | 216/16327 [07:42<30:43:12,  6.86s/it]"
     ]
    },
    {
     "name": "stdout",
     "output_type": "stream",
     "text": [
      "Markdown content saved to cs_ai_markdown\\2310.04102v1.md\n",
      "Process on 215: Completed\n"
     ]
    },
    {
     "name": "stderr",
     "output_type": "stream",
     "text": [
      "  1%|▏         | 217/16327 [07:47<28:14:30,  6.31s/it]"
     ]
    },
    {
     "name": "stdout",
     "output_type": "stream",
     "text": [
      "Markdown content saved to cs_ai_markdown\\2310.04607v1.md\n",
      "Process on 216: Completed\n"
     ]
    },
    {
     "name": "stderr",
     "output_type": "stream",
     "text": [
      "  1%|▏         | 218/16327 [07:51<25:24:46,  5.68s/it]"
     ]
    },
    {
     "name": "stdout",
     "output_type": "stream",
     "text": [
      "Markdown content saved to cs_ai_markdown\\2310.04081v1.md\n",
      "Process on 217: Completed\n"
     ]
    },
    {
     "name": "stderr",
     "output_type": "stream",
     "text": [
      "  1%|▏         | 219/16327 [07:59<28:22:38,  6.34s/it]"
     ]
    },
    {
     "name": "stdout",
     "output_type": "stream",
     "text": [
      "Markdown content saved to cs_ai_markdown\\2310.04276v1.md\n",
      "Process on 218: Completed\n"
     ]
    },
    {
     "name": "stderr",
     "output_type": "stream",
     "text": [
      "  1%|▏         | 220/16327 [08:16<41:39:55,  9.31s/it]"
     ]
    },
    {
     "name": "stdout",
     "output_type": "stream",
     "text": [
      "Markdown content saved to cs_ai_markdown\\2310.04621v1.md\n",
      "Process on 219: Completed\n"
     ]
    },
    {
     "name": "stderr",
     "output_type": "stream",
     "text": [
      "  1%|▏         | 221/16327 [08:22<37:53:10,  8.47s/it]"
     ]
    },
    {
     "name": "stdout",
     "output_type": "stream",
     "text": [
      "Markdown content saved to cs_ai_markdown\\2310.04003v1.md\n",
      "Process on 220: Completed\n"
     ]
    },
    {
     "name": "stderr",
     "output_type": "stream",
     "text": [
      "  1%|▏         | 222/16327 [08:27<32:50:33,  7.34s/it]"
     ]
    },
    {
     "name": "stdout",
     "output_type": "stream",
     "text": [
      "Markdown content saved to cs_ai_markdown\\2310.05985v2.md\n",
      "Process on 221: Completed\n"
     ]
    },
    {
     "name": "stderr",
     "output_type": "stream",
     "text": [
      "  1%|▏         | 223/16327 [08:35<34:24:04,  7.69s/it]"
     ]
    },
    {
     "name": "stdout",
     "output_type": "stream",
     "text": [
      "Markdown content saved to cs_ai_markdown\\2310.03374v1.md\n",
      "Process on 222: Completed\n"
     ]
    },
    {
     "name": "stderr",
     "output_type": "stream",
     "text": [
      "  1%|▏         | 224/16327 [08:44<35:04:45,  7.84s/it]"
     ]
    },
    {
     "name": "stdout",
     "output_type": "stream",
     "text": [
      "Markdown content saved to cs_ai_markdown\\2310.04460v1.md\n",
      "Process on 223: Completed\n"
     ]
    },
    {
     "name": "stderr",
     "output_type": "stream",
     "text": [
      "  1%|▏         | 225/16327 [08:54<38:11:06,  8.54s/it]"
     ]
    },
    {
     "name": "stdout",
     "output_type": "stream",
     "text": [
      "Markdown content saved to cs_ai_markdown\\2310.04467v1.md\n",
      "Process on 224: Completed\n"
     ]
    },
    {
     "name": "stderr",
     "output_type": "stream",
     "text": [
      "  1%|▏         | 226/16327 [09:18<58:55:32, 13.18s/it]"
     ]
    },
    {
     "name": "stdout",
     "output_type": "stream",
     "text": [
      "Markdown content saved to cs_ai_markdown\\2310.03882v1.md\n",
      "Process on 225: Completed\n"
     ]
    },
    {
     "name": "stderr",
     "output_type": "stream",
     "text": [
      "  1%|▏         | 227/16327 [09:27<53:12:48, 11.90s/it]"
     ]
    },
    {
     "name": "stdout",
     "output_type": "stream",
     "text": [
      "Markdown content saved to cs_ai_markdown\\2310.03589v1.md\n",
      "Process on 226: Completed\n"
     ]
    },
    {
     "name": "stderr",
     "output_type": "stream",
     "text": [
      "  1%|▏         | 228/16327 [11:39<214:29:08, 47.96s/it]"
     ]
    },
    {
     "name": "stdout",
     "output_type": "stream",
     "text": [
      "Markdown content saved to cs_ai_markdown\\2310.03715v1.md\n",
      "Process on 227: Completed\n"
     ]
    },
    {
     "name": "stderr",
     "output_type": "stream",
     "text": [
      "  1%|▏         | 229/16327 [11:43<155:47:05, 34.84s/it]"
     ]
    },
    {
     "name": "stdout",
     "output_type": "stream",
     "text": [
      "Markdown content saved to cs_ai_markdown\\2310.03591v1.md\n",
      "Process on 228: Completed\n"
     ]
    },
    {
     "name": "stderr",
     "output_type": "stream",
     "text": [
      "  1%|▏         | 230/16327 [12:05<138:57:33, 31.08s/it]"
     ]
    },
    {
     "name": "stdout",
     "output_type": "stream",
     "text": [
      "Markdown content saved to cs_ai_markdown\\2310.04461v1.md\n",
      "Process on 229: Completed\n"
     ]
    },
    {
     "name": "stderr",
     "output_type": "stream",
     "text": [
      "  1%|▏         | 231/16327 [12:14<108:41:10, 24.31s/it]"
     ]
    },
    {
     "name": "stdout",
     "output_type": "stream",
     "text": [
      "Markdown content saved to cs_ai_markdown\\2310.04463v1.md\n",
      "Process on 230: Completed\n"
     ]
    },
    {
     "name": "stderr",
     "output_type": "stream",
     "text": [
      "  1%|▏         | 232/16327 [12:22<86:34:37, 19.36s/it] "
     ]
    },
    {
     "name": "stdout",
     "output_type": "stream",
     "text": [
      "Markdown content saved to cs_ai_markdown\\2310.03659v1.md\n",
      "Process on 231: Completed\n"
     ]
    },
    {
     "name": "stderr",
     "output_type": "stream",
     "text": [
      "  1%|▏         | 233/16327 [12:38<82:48:09, 18.52s/it]"
     ]
    },
    {
     "name": "stdout",
     "output_type": "stream",
     "text": [
      "Markdown content saved to cs_ai_markdown\\2310.03195v1.md\n",
      "Process on 232: Completed\n"
     ]
    },
    {
     "name": "stderr",
     "output_type": "stream",
     "text": [
      "  1%|▏         | 234/16327 [13:07<97:05:40, 21.72s/it]"
     ]
    },
    {
     "name": "stdout",
     "output_type": "stream",
     "text": [
      "Markdown content saved to cs_ai_markdown\\2310.02870v1.md\n",
      "Process on 233: Completed\n"
     ]
    },
    {
     "name": "stderr",
     "output_type": "stream",
     "text": [
      "  1%|▏         | 235/16327 [13:11<72:33:29, 16.23s/it]"
     ]
    },
    {
     "name": "stdout",
     "output_type": "stream",
     "text": [
      "Markdown content saved to cs_ai_markdown\\2310.02896v1.md\n",
      "Process on 234: Completed\n"
     ]
    },
    {
     "name": "stderr",
     "output_type": "stream",
     "text": [
      "  1%|▏         | 236/16327 [13:15<55:58:34, 12.52s/it]"
     ]
    },
    {
     "name": "stdout",
     "output_type": "stream",
     "text": [
      "Markdown content saved to cs_ai_markdown\\2310.02727v1.md\n",
      "Process on 235: Completed\n"
     ]
    },
    {
     "name": "stderr",
     "output_type": "stream",
     "text": [
      "  1%|▏         | 237/16327 [13:27<56:28:15, 12.63s/it]"
     ]
    },
    {
     "name": "stdout",
     "output_type": "stream",
     "text": [
      "Markdown content saved to cs_ai_markdown\\2310.02984v1.md\n",
      "Process on 236: Completed\n"
     ]
    },
    {
     "name": "stderr",
     "output_type": "stream",
     "text": [
      "  1%|▏         | 238/16327 [13:32<45:39:14, 10.22s/it]"
     ]
    },
    {
     "name": "stdout",
     "output_type": "stream",
     "text": [
      "Markdown content saved to cs_ai_markdown\\2310.02593v1.md\n",
      "Process on 237: Completed\n"
     ]
    },
    {
     "name": "stderr",
     "output_type": "stream",
     "text": [
      "  1%|▏         | 239/16327 [13:38<39:31:45,  8.85s/it]"
     ]
    },
    {
     "name": "stdout",
     "output_type": "stream",
     "text": [
      "Markdown content saved to cs_ai_markdown\\2310.02565v1.md\n",
      "Process on 238: Completed\n"
     ]
    },
    {
     "name": "stderr",
     "output_type": "stream",
     "text": [
      "  1%|▏         | 240/16327 [13:41<32:10:12,  7.20s/it]"
     ]
    },
    {
     "name": "stdout",
     "output_type": "stream",
     "text": [
      "Markdown content saved to cs_ai_markdown\\2310.02654v1.md\n",
      "Process on 239: Completed\n"
     ]
    },
    {
     "name": "stderr",
     "output_type": "stream",
     "text": [
      "  1%|▏         | 241/16327 [13:44<26:05:10,  5.84s/it]"
     ]
    },
    {
     "name": "stdout",
     "output_type": "stream",
     "text": [
      "Markdown content saved to cs_ai_markdown\\2310.02344v1.md\n",
      "Process on 240: Completed\n"
     ]
    },
    {
     "name": "stderr",
     "output_type": "stream",
     "text": [
      "  1%|▏         | 242/16327 [13:47<22:19:33,  5.00s/it]"
     ]
    },
    {
     "name": "stdout",
     "output_type": "stream",
     "text": [
      "Markdown content saved to cs_ai_markdown\\2310.02355v1.md\n",
      "Process on 241: Completed\n"
     ]
    },
    {
     "name": "stderr",
     "output_type": "stream",
     "text": [
      "  1%|▏         | 243/16327 [13:49<18:30:35,  4.14s/it]"
     ]
    },
    {
     "name": "stdout",
     "output_type": "stream",
     "text": [
      "Markdown content saved to cs_ai_markdown\\2310.02357v3.md\n",
      "Process on 242: Completed\n"
     ]
    },
    {
     "name": "stderr",
     "output_type": "stream",
     "text": [
      "  1%|▏         | 244/16327 [13:56<22:51:12,  5.12s/it]"
     ]
    },
    {
     "name": "stdout",
     "output_type": "stream",
     "text": [
      "Markdown content saved to cs_ai_markdown\\2310.01837v1.md\n",
      "Process on 243: Completed\n"
     ]
    },
    {
     "name": "stderr",
     "output_type": "stream",
     "text": [
      "  2%|▏         | 245/16327 [14:23<51:29:45, 11.53s/it]"
     ]
    },
    {
     "name": "stdout",
     "output_type": "stream",
     "text": [
      "Markdown content saved to cs_ai_markdown\\2310.02430v1.md\n",
      "Process on 244: Completed\n"
     ]
    },
    {
     "name": "stderr",
     "output_type": "stream",
     "text": [
      "  2%|▏         | 246/16327 [14:27<42:12:17,  9.45s/it]"
     ]
    },
    {
     "name": "stdout",
     "output_type": "stream",
     "text": [
      "Markdown content saved to cs_ai_markdown\\2310.02040v1.md\n",
      "Process on 245: Completed\n"
     ]
    },
    {
     "name": "stderr",
     "output_type": "stream",
     "text": [
      "  2%|▏         | 247/16327 [14:30<33:39:27,  7.54s/it]"
     ]
    },
    {
     "name": "stdout",
     "output_type": "stream",
     "text": [
      "Markdown content saved to cs_ai_markdown\\2310.01961v1.md\n",
      "Process on 246: Completed\n"
     ]
    },
    {
     "name": "stderr",
     "output_type": "stream",
     "text": [
      "  2%|▏         | 248/16327 [14:38<33:08:37,  7.42s/it]"
     ]
    },
    {
     "name": "stdout",
     "output_type": "stream",
     "text": [
      "Markdown content saved to cs_ai_markdown\\2310.01943v1.md\n",
      "Process on 247: Completed\n"
     ]
    },
    {
     "name": "stderr",
     "output_type": "stream",
     "text": [
      "  2%|▏         | 249/16327 [16:01<135:03:50, 30.24s/it]"
     ]
    },
    {
     "name": "stdout",
     "output_type": "stream",
     "text": [
      "Markdown content saved to cs_ai_markdown\\2310.01884v1.md\n",
      "Process on 248: Completed\n"
     ]
    },
    {
     "name": "stderr",
     "output_type": "stream",
     "text": [
      "  2%|▏         | 250/16327 [16:06<100:38:28, 22.54s/it]"
     ]
    },
    {
     "name": "stdout",
     "output_type": "stream",
     "text": [
      "Markdown content saved to cs_ai_markdown\\2310.02195v1.md\n",
      "Process on 249: Completed\n"
     ]
    },
    {
     "name": "stderr",
     "output_type": "stream",
     "text": [
      "  2%|▏         | 251/16327 [16:09<75:34:12, 16.92s/it] "
     ]
    },
    {
     "name": "stdout",
     "output_type": "stream",
     "text": [
      "Markdown content saved to cs_ai_markdown\\2310.01828v1.md\n",
      "Process on 250: Completed\n"
     ]
    },
    {
     "name": "stderr",
     "output_type": "stream",
     "text": [
      "  2%|▏         | 252/16327 [16:17<62:27:50, 13.99s/it]"
     ]
    },
    {
     "name": "stdout",
     "output_type": "stream",
     "text": [
      "Markdown content saved to cs_ai_markdown\\2310.06775v1.md\n",
      "Process on 251: Completed\n"
     ]
    },
    {
     "name": "stderr",
     "output_type": "stream",
     "text": [
      "  2%|▏         | 253/16327 [16:27<56:59:40, 12.76s/it]"
     ]
    },
    {
     "name": "stdout",
     "output_type": "stream",
     "text": [
      "Markdown content saved to cs_ai_markdown\\2310.01756v1.md\n",
      "Process on 252: Completed\n"
     ]
    },
    {
     "name": "stderr",
     "output_type": "stream",
     "text": [
      "  2%|▏         | 254/16327 [16:41<59:49:30, 13.40s/it]"
     ]
    },
    {
     "name": "stdout",
     "output_type": "stream",
     "text": [
      "Markdown content saved to cs_ai_markdown\\2310.02435v1.md\n",
      "Process on 253: Completed\n"
     ]
    },
    {
     "name": "stderr",
     "output_type": "stream",
     "text": [
      "  2%|▏         | 255/16327 [16:52<56:42:03, 12.70s/it]"
     ]
    },
    {
     "name": "stdout",
     "output_type": "stream",
     "text": [
      "Markdown content saved to cs_ai_markdown\\2310.02172v1.md\n",
      "Process on 254: Completed\n"
     ]
    },
    {
     "name": "stderr",
     "output_type": "stream",
     "text": [
      "  2%|▏         | 256/16327 [17:04<55:09:42, 12.36s/it]"
     ]
    },
    {
     "name": "stdout",
     "output_type": "stream",
     "text": [
      "Markdown content saved to cs_ai_markdown\\2310.01767v1.md\n",
      "Process on 255: Completed\n"
     ]
    },
    {
     "name": "stderr",
     "output_type": "stream",
     "text": [
      "  2%|▏         | 257/16327 [17:07<42:36:16,  9.54s/it]"
     ]
    },
    {
     "name": "stdout",
     "output_type": "stream",
     "text": [
      "Markdown content saved to cs_ai_markdown\\2310.04450v1.md\n",
      "Process on 256: Completed\n"
     ]
    },
    {
     "name": "stderr",
     "output_type": "stream",
     "text": [
      "  2%|▏         | 258/16327 [17:31<61:41:26, 13.82s/it]"
     ]
    },
    {
     "name": "stdout",
     "output_type": "stream",
     "text": [
      "Markdown content saved to cs_ai_markdown\\2310.02124v1.md\n",
      "Process on 257: Completed\n"
     ]
    },
    {
     "name": "stderr",
     "output_type": "stream",
     "text": [
      "  2%|▏         | 259/16327 [17:42<58:26:48, 13.09s/it]"
     ]
    },
    {
     "name": "stdout",
     "output_type": "stream",
     "text": [
      "Markdown content saved to cs_ai_markdown\\2310.01830v3.md\n",
      "Process on 258: Completed\n"
     ]
    },
    {
     "name": "stderr",
     "output_type": "stream",
     "text": [
      "  2%|▏         | 260/16327 [17:50<51:10:04, 11.46s/it]"
     ]
    },
    {
     "name": "stdout",
     "output_type": "stream",
     "text": [
      "Markdown content saved to cs_ai_markdown\\2310.12994v1.md\n",
      "Process on 259: Completed\n"
     ]
    },
    {
     "name": "stderr",
     "output_type": "stream",
     "text": [
      "  2%|▏         | 261/16327 [17:57<45:03:42, 10.10s/it]"
     ]
    },
    {
     "name": "stdout",
     "output_type": "stream",
     "text": [
      "Markdown content saved to cs_ai_markdown\\2310.02031v4.md\n",
      "Process on 260: Completed\n"
     ]
    },
    {
     "name": "stderr",
     "output_type": "stream",
     "text": [
      "  2%|▏         | 262/16327 [18:01<37:38:42,  8.44s/it]"
     ]
    },
    {
     "name": "stdout",
     "output_type": "stream",
     "text": [
      "Markdown content saved to cs_ai_markdown\\2310.00836v1.md\n",
      "Process on 261: Completed\n"
     ]
    },
    {
     "name": "stderr",
     "output_type": "stream",
     "text": [
      "  2%|▏         | 263/16327 [18:04<30:11:46,  6.77s/it]"
     ]
    },
    {
     "name": "stdout",
     "output_type": "stream",
     "text": [
      "Markdown content saved to cs_ai_markdown\\2310.01470v1.md\n",
      "Process on 262: Completed\n"
     ]
    },
    {
     "name": "stderr",
     "output_type": "stream",
     "text": [
      "  2%|▏         | 264/16327 [18:07<25:15:41,  5.66s/it]"
     ]
    },
    {
     "name": "stdout",
     "output_type": "stream",
     "text": [
      "Markdown content saved to cs_ai_markdown\\2310.01206v2.md\n",
      "Process on 263: Completed\n"
     ]
    },
    {
     "name": "stderr",
     "output_type": "stream",
     "text": [
      "  2%|▏         | 265/16327 [18:20<35:19:48,  7.92s/it]"
     ]
    },
    {
     "name": "stdout",
     "output_type": "stream",
     "text": [
      "Markdown content saved to cs_ai_markdown\\2310.02261v1.md\n",
      "Process on 264: Completed\n"
     ]
    },
    {
     "name": "stderr",
     "output_type": "stream",
     "text": [
      "  2%|▏         | 266/16327 [18:26<31:47:55,  7.13s/it]"
     ]
    },
    {
     "name": "stdout",
     "output_type": "stream",
     "text": [
      "Markdown content saved to cs_ai_markdown\\2310.01152v2.md\n",
      "Process on 265: Completed\n"
     ]
    },
    {
     "name": "stderr",
     "output_type": "stream",
     "text": [
      "  2%|▏         | 267/16327 [18:38<38:57:11,  8.73s/it]"
     ]
    },
    {
     "name": "stdout",
     "output_type": "stream",
     "text": [
      "Markdown content saved to cs_ai_markdown\\2310.01468v2.md\n",
      "Process on 266: Completed\n"
     ]
    },
    {
     "name": "stderr",
     "output_type": "stream",
     "text": [
      "  2%|▏         | 268/16327 [18:49<40:59:33,  9.19s/it]"
     ]
    },
    {
     "name": "stdout",
     "output_type": "stream",
     "text": [
      "Markdown content saved to cs_ai_markdown\\2310.01503v1.md\n",
      "Process on 267: Completed\n"
     ]
    },
    {
     "name": "stderr",
     "output_type": "stream",
     "text": [
      "  2%|▏         | 269/16327 [18:53<35:05:47,  7.87s/it]"
     ]
    },
    {
     "name": "stdout",
     "output_type": "stream",
     "text": [
      "Markdown content saved to cs_ai_markdown\\2310.02282v1.md\n",
      "Process on 268: Completed\n"
     ]
    },
    {
     "name": "stderr",
     "output_type": "stream",
     "text": [
      "  2%|▏         | 270/16327 [19:00<33:03:14,  7.41s/it]"
     ]
    },
    {
     "name": "stdout",
     "output_type": "stream",
     "text": [
      "Markdown content saved to cs_ai_markdown\\2310.01649v2.md\n",
      "Process on 269: Completed\n"
     ]
    },
    {
     "name": "stderr",
     "output_type": "stream",
     "text": [
      "  2%|▏         | 271/16327 [19:02<26:37:51,  5.97s/it]"
     ]
    },
    {
     "name": "stdout",
     "output_type": "stream",
     "text": [
      "Markdown content saved to cs_ai_markdown\\2310.00863v1.md\n",
      "Process on 270: Completed\n"
     ]
    },
    {
     "name": "stderr",
     "output_type": "stream",
     "text": [
      "  2%|▏         | 272/16327 [19:06<24:06:03,  5.40s/it]"
     ]
    },
    {
     "name": "stdout",
     "output_type": "stream",
     "text": [
      "Markdown content saved to cs_ai_markdown\\2310.01691v1.md\n",
      "Process on 271: Completed\n"
     ]
    },
    {
     "name": "stderr",
     "output_type": "stream",
     "text": [
      "  2%|▏         | 273/16327 [19:15<29:03:45,  6.52s/it]"
     ]
    },
    {
     "name": "stdout",
     "output_type": "stream",
     "text": [
      "Markdown content saved to cs_ai_markdown\\2310.01220v1.md\n",
      "Process on 272: Completed\n"
     ]
    },
    {
     "name": "stderr",
     "output_type": "stream",
     "text": [
      "  2%|▏         | 274/16327 [19:25<33:28:46,  7.51s/it]"
     ]
    },
    {
     "name": "stdout",
     "output_type": "stream",
     "text": [
      "Markdown content saved to cs_ai_markdown\\2310.01282v1.md\n",
      "Process on 273: Completed\n"
     ]
    },
    {
     "name": "stderr",
     "output_type": "stream",
     "text": [
      "  2%|▏         | 275/16327 [19:53<60:05:19, 13.48s/it]"
     ]
    },
    {
     "name": "stdout",
     "output_type": "stream",
     "text": [
      "Markdown content saved to cs_ai_markdown\\2310.01557v2.md\n",
      "Process on 274: Completed\n"
     ]
    },
    {
     "name": "stderr",
     "output_type": "stream",
     "text": [
      "  2%|▏         | 276/16327 [20:10<65:45:49, 14.75s/it]"
     ]
    },
    {
     "name": "stdout",
     "output_type": "stream",
     "text": [
      "Markdown content saved to cs_ai_markdown\\2310.00887v2.md\n",
      "Process on 275: Completed\n"
     ]
    },
    {
     "name": "stderr",
     "output_type": "stream",
     "text": [
      "  2%|▏         | 277/16327 [20:15<52:02:10, 11.67s/it]"
     ]
    },
    {
     "name": "stdout",
     "output_type": "stream",
     "text": [
      "Markdown content saved to cs_ai_markdown\\2310.02281v1.md\n",
      "Process on 276: Completed\n"
     ]
    },
    {
     "name": "stderr",
     "output_type": "stream",
     "text": [
      "  2%|▏         | 278/16327 [20:19<42:11:13,  9.46s/it]"
     ]
    },
    {
     "name": "stdout",
     "output_type": "stream",
     "text": [
      "Markdown content saved to cs_ai_markdown\\2310.00900v1.md\n",
      "Process on 277: Completed\n"
     ]
    },
    {
     "name": "stderr",
     "output_type": "stream",
     "text": [
      "  2%|▏         | 279/16327 [21:20<111:25:29, 25.00s/it]"
     ]
    },
    {
     "name": "stdout",
     "output_type": "stream",
     "text": [
      "Markdown content saved to cs_ai_markdown\\2310.01580v1.md\n",
      "Process on 278: Completed\n"
     ]
    },
    {
     "name": "stderr",
     "output_type": "stream",
     "text": [
      "  2%|▏         | 280/16327 [21:34<96:12:37, 21.58s/it] "
     ]
    },
    {
     "name": "stdout",
     "output_type": "stream",
     "text": [
      "Markdown content saved to cs_ai_markdown\\2310.01603v1.md\n",
      "Process on 279: Completed\n"
     ]
    },
    {
     "name": "stderr",
     "output_type": "stream",
     "text": [
      "  2%|▏         | 281/16327 [21:38<72:14:54, 16.21s/it]"
     ]
    },
    {
     "name": "stdout",
     "output_type": "stream",
     "text": [
      "Markdown content saved to cs_ai_markdown\\2310.04443v2.md\n",
      "Process on 280: Completed\n"
     ]
    },
    {
     "name": "stderr",
     "output_type": "stream",
     "text": [
      "  2%|▏         | 282/16327 [21:47<63:13:30, 14.19s/it]"
     ]
    },
    {
     "name": "stdout",
     "output_type": "stream",
     "text": [
      "Markdown content saved to cs_ai_markdown\\2310.01188v1.md\n",
      "Process on 281: Completed\n"
     ]
    },
    {
     "name": "stderr",
     "output_type": "stream",
     "text": [
      "  2%|▏         | 283/16327 [21:53<51:50:32, 11.63s/it]"
     ]
    },
    {
     "name": "stdout",
     "output_type": "stream",
     "text": [
      "Markdown content saved to cs_ai_markdown\\2310.00552v1.md\n",
      "Process on 282: Completed\n"
     ]
    },
    {
     "name": "stderr",
     "output_type": "stream",
     "text": [
      "  2%|▏         | 284/16327 [21:59<44:16:52,  9.94s/it]"
     ]
    },
    {
     "name": "stdout",
     "output_type": "stream",
     "text": [
      "Markdown content saved to cs_ai_markdown\\2310.00804v1.md\n",
      "Process on 283: Completed\n"
     ]
    },
    {
     "name": "stderr",
     "output_type": "stream",
     "text": [
      "  2%|▏         | 285/16327 [22:11<46:50:42, 10.51s/it]"
     ]
    },
    {
     "name": "stdout",
     "output_type": "stream",
     "text": [
      "Markdown content saved to cs_ai_markdown\\2310.00795v1.md\n",
      "Process on 284: Completed\n"
     ]
    },
    {
     "name": "stderr",
     "output_type": "stream",
     "text": [
      "  2%|▏         | 286/16327 [22:18<42:35:15,  9.56s/it]"
     ]
    },
    {
     "name": "stdout",
     "output_type": "stream",
     "text": [
      "Markdown content saved to cs_ai_markdown\\2310.00809v1.md\n",
      "Process on 285: Completed\n"
     ]
    },
    {
     "name": "stderr",
     "output_type": "stream",
     "text": [
      "  2%|▏         | 287/16327 [22:24<37:37:11,  8.44s/it]"
     ]
    },
    {
     "name": "stdout",
     "output_type": "stream",
     "text": [
      "Markdown content saved to cs_ai_markdown\\2310.00747v1.md\n",
      "Process on 286: Completed\n"
     ]
    },
    {
     "name": "stderr",
     "output_type": "stream",
     "text": [
      "  2%|▏         | 288/16327 [22:29<33:44:26,  7.57s/it]"
     ]
    },
    {
     "name": "stdout",
     "output_type": "stream",
     "text": [
      "Markdown content saved to cs_ai_markdown\\2310.00637v1.md\n",
      "Process on 287: Completed\n"
     ]
    },
    {
     "name": "stderr",
     "output_type": "stream",
     "text": [
      "  2%|▏         | 289/16327 [22:53<54:49:56, 12.31s/it]"
     ]
    },
    {
     "name": "stdout",
     "output_type": "stream",
     "text": [
      "Markdown content saved to cs_ai_markdown\\2310.00583v1.md\n",
      "Process on 288: Completed\n"
     ]
    },
    {
     "name": "stderr",
     "output_type": "stream",
     "text": [
      "  2%|▏         | 290/16327 [23:00<47:28:21, 10.66s/it]"
     ]
    },
    {
     "name": "stdout",
     "output_type": "stream",
     "text": [
      "Markdown content saved to cs_ai_markdown\\2310.00757v1.md\n",
      "Process on 289: Completed\n"
     ]
    },
    {
     "name": "stderr",
     "output_type": "stream",
     "text": [
      "  2%|▏         | 291/16327 [23:09<45:44:41, 10.27s/it]"
     ]
    },
    {
     "name": "stdout",
     "output_type": "stream",
     "text": [
      "Markdown content saved to cs_ai_markdown\\2310.00627v2.md\n",
      "Process on 290: Completed\n"
     ]
    },
    {
     "name": "stderr",
     "output_type": "stream",
     "text": [
      "  2%|▏         | 292/16327 [23:12<35:39:16,  8.00s/it]"
     ]
    },
    {
     "name": "stdout",
     "output_type": "stream",
     "text": [
      "Markdown content saved to cs_ai_markdown\\2310.13704v1.md\n",
      "Process on 291: Completed\n"
     ]
    },
    {
     "name": "stderr",
     "output_type": "stream",
     "text": [
      "  2%|▏         | 293/16327 [23:20<36:26:54,  8.18s/it]"
     ]
    },
    {
     "name": "stdout",
     "output_type": "stream",
     "text": [
      "Markdown content saved to cs_ai_markdown\\2310.00737v2.md\n",
      "Process on 292: Completed\n"
     ]
    },
    {
     "name": "stderr",
     "output_type": "stream",
     "text": [
      "  2%|▏         | 294/16327 [23:26<32:37:43,  7.33s/it]"
     ]
    },
    {
     "name": "stdout",
     "output_type": "stream",
     "text": [
      "Markdown content saved to cs_ai_markdown\\2310.00800v1.md\n",
      "Process on 293: Completed\n"
     ]
    },
    {
     "name": "stderr",
     "output_type": "stream",
     "text": [
      "  2%|▏         | 295/16327 [23:36<36:18:57,  8.15s/it]"
     ]
    },
    {
     "name": "stdout",
     "output_type": "stream",
     "text": [
      "Markdown content saved to cs_ai_markdown\\2310.08595v2.md\n",
      "Process on 294: Completed\n"
     ]
    },
    {
     "name": "stderr",
     "output_type": "stream",
     "text": [
      "  2%|▏         | 296/16327 [23:51<45:19:09, 10.18s/it]"
     ]
    },
    {
     "name": "stdout",
     "output_type": "stream",
     "text": [
      "Markdown content saved to cs_ai_markdown\\2310.00268v1.md\n",
      "Process on 295: Completed\n"
     ]
    },
    {
     "name": "stderr",
     "output_type": "stream",
     "text": [
      "  2%|▏         | 297/16327 [23:57<40:31:10,  9.10s/it]"
     ]
    },
    {
     "name": "stdout",
     "output_type": "stream",
     "text": [
      "Markdown content saved to cs_ai_markdown\\2310.00525v1.md\n",
      "Process on 296: Completed\n"
     ]
    },
    {
     "name": "stderr",
     "output_type": "stream",
     "text": [
      "  2%|▏         | 298/16327 [24:01<34:01:52,  7.64s/it]"
     ]
    },
    {
     "name": "stdout",
     "output_type": "stream",
     "text": [
      "Markdown content saved to cs_ai_markdown\\2310.00354v1.md\n",
      "Process on 297: Completed\n"
     ]
    },
    {
     "name": "stderr",
     "output_type": "stream",
     "text": [
      "  2%|▏         | 299/16327 [24:06<29:51:20,  6.71s/it]"
     ]
    },
    {
     "name": "stdout",
     "output_type": "stream",
     "text": [
      "Markdown content saved to cs_ai_markdown\\2310.00435v1.md\n",
      "Process on 298: Completed\n"
     ]
    },
    {
     "name": "stderr",
     "output_type": "stream",
     "text": [
      "  2%|▏         | 300/16327 [24:08<23:25:37,  5.26s/it]"
     ]
    },
    {
     "name": "stdout",
     "output_type": "stream",
     "text": [
      "No /Root object! - Is this really a PDF?\n"
     ]
    },
    {
     "name": "stderr",
     "output_type": "stream",
     "text": [
      "  2%|▏         | 301/16327 [24:11<20:57:28,  4.71s/it]"
     ]
    },
    {
     "name": "stdout",
     "output_type": "stream",
     "text": [
      "Markdown content saved to cs_ai_markdown\\2310.00267v1.md\n",
      "Process on 300: Completed\n"
     ]
    },
    {
     "name": "stderr",
     "output_type": "stream",
     "text": [
      "  2%|▏         | 302/16327 [24:17<21:47:34,  4.90s/it]"
     ]
    },
    {
     "name": "stdout",
     "output_type": "stream",
     "text": [
      "Markdown content saved to cs_ai_markdown\\2309.16960v1.md\n",
      "Process on 301: Completed\n"
     ]
    },
    {
     "name": "stderr",
     "output_type": "stream",
     "text": [
      "  2%|▏         | 303/16327 [24:27<28:43:44,  6.45s/it]"
     ]
    },
    {
     "name": "stdout",
     "output_type": "stream",
     "text": [
      "Markdown content saved to cs_ai_markdown\\2310.00166v1.md\n",
      "Process on 302: Completed\n"
     ]
    },
    {
     "name": "stderr",
     "output_type": "stream",
     "text": [
      "  2%|▏         | 304/16327 [24:33<28:15:23,  6.35s/it]"
     ]
    },
    {
     "name": "stdout",
     "output_type": "stream",
     "text": [
      "Markdown content saved to cs_ai_markdown\\2309.17255v2.md\n",
      "Process on 303: Completed\n"
     ]
    },
    {
     "name": "stderr",
     "output_type": "stream",
     "text": [
      "  2%|▏         | 305/16327 [24:38<27:27:09,  6.17s/it]"
     ]
    },
    {
     "name": "stdout",
     "output_type": "stream",
     "text": [
      "Markdown content saved to cs_ai_markdown\\2309.16977v2.md\n",
      "Process on 304: Completed\n"
     ]
    },
    {
     "name": "stderr",
     "output_type": "stream",
     "text": [
      "  2%|▏         | 306/16327 [25:01<48:43:29, 10.95s/it]"
     ]
    },
    {
     "name": "stdout",
     "output_type": "stream",
     "text": [
      "Markdown content saved to cs_ai_markdown\\2310.00156v2.md\n",
      "Process on 305: Completed\n"
     ]
    },
    {
     "name": "stderr",
     "output_type": "stream",
     "text": [
      "  2%|▏         | 307/16327 [25:15<53:23:04, 12.00s/it]"
     ]
    },
    {
     "name": "stdout",
     "output_type": "stream",
     "text": [
      "Markdown content saved to cs_ai_markdown\\2310.00113v2.md\n",
      "Process on 306: Completed\n"
     ]
    },
    {
     "name": "stderr",
     "output_type": "stream",
     "text": [
      "  2%|▏         | 308/16327 [25:22<46:57:43, 10.55s/it]"
     ]
    },
    {
     "name": "stdout",
     "output_type": "stream",
     "text": [
      "Markdown content saved to cs_ai_markdown\\2309.17144v1.md\n",
      "Process on 307: Completed\n"
     ]
    },
    {
     "name": "stderr",
     "output_type": "stream",
     "text": [
      "  2%|▏         | 309/16327 [25:27<38:44:19,  8.71s/it]"
     ]
    },
    {
     "name": "stdout",
     "output_type": "stream",
     "text": [
      "Markdown content saved to cs_ai_markdown\\2309.17095v1.md\n",
      "Process on 308: Completed\n"
     ]
    },
    {
     "name": "stderr",
     "output_type": "stream",
     "text": [
      "  2%|▏         | 310/16327 [25:32<34:31:54,  7.76s/it]"
     ]
    },
    {
     "name": "stdout",
     "output_type": "stream",
     "text": [
      "Markdown content saved to cs_ai_markdown\\2309.17280v1.md\n",
      "Process on 309: Completed\n"
     ]
    },
    {
     "name": "stderr",
     "output_type": "stream",
     "text": [
      "  2%|▏         | 311/16327 [25:35<28:20:31,  6.37s/it]"
     ]
    },
    {
     "name": "stdout",
     "output_type": "stream",
     "text": [
      "Markdown content saved to cs_ai_markdown\\2309.17319v2.md\n",
      "Process on 310: Completed\n"
     ]
    },
    {
     "name": "stderr",
     "output_type": "stream",
     "text": [
      "  2%|▏         | 312/16327 [25:40<26:36:37,  5.98s/it]"
     ]
    },
    {
     "name": "stdout",
     "output_type": "stream",
     "text": [
      "Markdown content saved to cs_ai_markdown\\2310.00109v1.md\n",
      "Process on 311: Completed\n"
     ]
    },
    {
     "name": "stderr",
     "output_type": "stream",
     "text": [
      "  2%|▏         | 313/16327 [25:46<25:28:08,  5.73s/it]"
     ]
    },
    {
     "name": "stdout",
     "output_type": "stream",
     "text": [
      "Markdown content saved to cs_ai_markdown\\2310.01434v1.md\n",
      "Process on 312: Completed\n"
     ]
    },
    {
     "name": "stderr",
     "output_type": "stream",
     "text": [
      "  2%|▏         | 314/16327 [25:52<26:15:03,  5.90s/it]"
     ]
    },
    {
     "name": "stdout",
     "output_type": "stream",
     "text": [
      "Markdown content saved to cs_ai_markdown\\2309.17158v1.md\n",
      "Process on 313: Completed\n"
     ]
    },
    {
     "name": "stderr",
     "output_type": "stream",
     "text": [
      "  2%|▏         | 315/16327 [26:19<54:24:47, 12.23s/it]"
     ]
    },
    {
     "name": "stdout",
     "output_type": "stream",
     "text": [
      "Markdown content saved to cs_ai_markdown\\2309.17203v1.md\n",
      "Process on 314: Completed\n"
     ]
    },
    {
     "name": "stderr",
     "output_type": "stream",
     "text": [
      "  2%|▏         | 316/16327 [26:22<42:42:06,  9.60s/it]"
     ]
    },
    {
     "name": "stdout",
     "output_type": "stream",
     "text": [
      "Markdown content saved to cs_ai_markdown\\2309.17197v1.md\n",
      "Process on 315: Completed\n"
     ]
    },
    {
     "name": "stderr",
     "output_type": "stream",
     "text": [
      "  2%|▏         | 317/16327 [26:25<33:53:45,  7.62s/it]"
     ]
    },
    {
     "name": "stdout",
     "output_type": "stream",
     "text": [
      "Markdown content saved to cs_ai_markdown\\2310.06858v1.md\n",
      "Process on 316: Completed\n"
     ]
    },
    {
     "name": "stderr",
     "output_type": "stream",
     "text": [
      "  2%|▏         | 318/16327 [26:31<31:11:55,  7.02s/it]"
     ]
    },
    {
     "name": "stdout",
     "output_type": "stream",
     "text": [
      "Markdown content saved to cs_ai_markdown\\2309.16102v1.md\n",
      "Process on 317: Completed\n"
     ]
    },
    {
     "name": "stderr",
     "output_type": "stream",
     "text": [
      "  2%|▏         | 319/16327 [26:37<30:26:38,  6.85s/it]"
     ]
    },
    {
     "name": "stdout",
     "output_type": "stream",
     "text": [
      "Markdown content saved to cs_ai_markdown\\2309.16777v1.md\n",
      "Process on 318: Completed\n"
     ]
    },
    {
     "name": "stderr",
     "output_type": "stream",
     "text": [
      "  2%|▏         | 320/16327 [26:43<28:45:09,  6.47s/it]"
     ]
    },
    {
     "name": "stdout",
     "output_type": "stream",
     "text": [
      "Markdown content saved to cs_ai_markdown\\2309.16770v1.md\n",
      "Process on 319: Completed\n"
     ]
    },
    {
     "name": "stderr",
     "output_type": "stream",
     "text": [
      "  2%|▏         | 321/16327 [26:49<28:50:08,  6.49s/it]"
     ]
    },
    {
     "name": "stdout",
     "output_type": "stream",
     "text": [
      "Markdown content saved to cs_ai_markdown\\2309.16240v1.md\n",
      "Process on 320: Completed\n"
     ]
    },
    {
     "name": "stderr",
     "output_type": "stream",
     "text": [
      "  2%|▏         | 322/16327 [27:26<68:27:04, 15.40s/it]"
     ]
    },
    {
     "name": "stdout",
     "output_type": "stream",
     "text": [
      "Markdown content saved to cs_ai_markdown\\2309.16400v1.md\n",
      "Process on 321: Completed\n"
     ]
    },
    {
     "name": "stderr",
     "output_type": "stream",
     "text": [
      "  2%|▏         | 323/16327 [27:28<51:24:35, 11.56s/it]"
     ]
    },
    {
     "name": "stdout",
     "output_type": "stream",
     "text": [
      "Markdown content saved to cs_ai_markdown\\2309.16747v1.md\n",
      "Process on 322: Completed\n"
     ]
    },
    {
     "name": "stderr",
     "output_type": "stream",
     "text": [
      "  2%|▏         | 324/16327 [27:35<45:12:24, 10.17s/it]"
     ]
    },
    {
     "name": "stdout",
     "output_type": "stream",
     "text": [
      "Markdown content saved to cs_ai_markdown\\2309.16180v1.md\n",
      "Process on 323: Completed\n"
     ]
    },
    {
     "name": "stderr",
     "output_type": "stream",
     "text": [
      "  2%|▏         | 325/16327 [27:38<35:09:45,  7.91s/it]"
     ]
    },
    {
     "name": "stdout",
     "output_type": "stream",
     "text": [
      "Markdown content saved to cs_ai_markdown\\2309.16275v1.md\n",
      "Process on 324: Completed\n"
     ]
    },
    {
     "name": "stderr",
     "output_type": "stream",
     "text": [
      "  2%|▏         | 326/16327 [27:42<29:43:54,  6.69s/it]"
     ]
    },
    {
     "name": "stdout",
     "output_type": "stream",
     "text": [
      "Markdown content saved to cs_ai_markdown\\2310.01429v1.md\n",
      "Process on 325: Completed\n"
     ]
    },
    {
     "name": "stderr",
     "output_type": "stream",
     "text": [
      "  2%|▏         | 327/16327 [27:46<26:50:19,  6.04s/it]"
     ]
    },
    {
     "name": "stdout",
     "output_type": "stream",
     "text": [
      "Markdown content saved to cs_ai_markdown\\2310.07812v1.md\n",
      "Process on 326: Completed\n"
     ]
    },
    {
     "name": "stderr",
     "output_type": "stream",
     "text": [
      "  2%|▏         | 328/16327 [28:08<48:24:22, 10.89s/it]"
     ]
    },
    {
     "name": "stdout",
     "output_type": "stream",
     "text": [
      "Markdown content saved to cs_ai_markdown\\2309.15723v1.md\n",
      "Process on 327: Completed\n"
     ]
    },
    {
     "name": "stderr",
     "output_type": "stream",
     "text": [
      "  2%|▏         | 329/16327 [28:25<56:38:05, 12.74s/it]"
     ]
    },
    {
     "name": "stdout",
     "output_type": "stream",
     "text": [
      "Markdown content saved to cs_ai_markdown\\2310.07726v1.md\n",
      "Process on 328: Completed\n"
     ]
    },
    {
     "name": "stderr",
     "output_type": "stream",
     "text": [
      "  2%|▏         | 330/16327 [28:44<64:42:42, 14.56s/it]"
     ]
    },
    {
     "name": "stdout",
     "output_type": "stream",
     "text": [
      "Markdown content saved to cs_ai_markdown\\2309.15467v1.md\n",
      "Process on 329: Completed\n"
     ]
    },
    {
     "name": "stderr",
     "output_type": "stream",
     "text": [
      "  2%|▏         | 331/16327 [29:04<71:40:01, 16.13s/it]"
     ]
    },
    {
     "name": "stdout",
     "output_type": "stream",
     "text": [
      "Markdown content saved to cs_ai_markdown\\2309.15942v1.md\n",
      "Process on 330: Completed\n"
     ]
    },
    {
     "name": "stderr",
     "output_type": "stream",
     "text": [
      "  2%|▏         | 332/16327 [29:11<59:24:50, 13.37s/it]"
     ]
    },
    {
     "name": "stdout",
     "output_type": "stream",
     "text": [
      "Markdown content saved to cs_ai_markdown\\2309.15525v1.md\n",
      "Process on 331: Completed\n"
     ]
    },
    {
     "name": "stderr",
     "output_type": "stream",
     "text": [
      "  2%|▏         | 333/16327 [29:17<49:11:30, 11.07s/it]"
     ]
    },
    {
     "name": "stdout",
     "output_type": "stream",
     "text": [
      "Markdown content saved to cs_ai_markdown\\2310.01423v1.md\n",
      "Process on 332: Completed\n"
     ]
    },
    {
     "name": "stderr",
     "output_type": "stream",
     "text": [
      "  2%|▏         | 334/16327 [29:23<42:52:49,  9.65s/it]"
     ]
    },
    {
     "name": "stdout",
     "output_type": "stream",
     "text": [
      "Markdown content saved to cs_ai_markdown\\2309.15402v2.md\n",
      "Process on 333: Completed\n"
     ]
    },
    {
     "name": "stderr",
     "output_type": "stream",
     "text": [
      "  2%|▏         | 335/16327 [29:26<34:04:19,  7.67s/it]"
     ]
    },
    {
     "name": "stdout",
     "output_type": "stream",
     "text": [
      "Markdown content saved to cs_ai_markdown\\2309.15768v1.md\n",
      "Process on 334: Completed\n"
     ]
    },
    {
     "name": "stderr",
     "output_type": "stream",
     "text": [
      "  2%|▏         | 336/16327 [29:31<30:25:00,  6.85s/it]"
     ]
    },
    {
     "name": "stdout",
     "output_type": "stream",
     "text": [
      "Markdown content saved to cs_ai_markdown\\2309.15518v1.md\n",
      "Process on 335: Completed\n"
     ]
    },
    {
     "name": "stderr",
     "output_type": "stream",
     "text": [
      "  2%|▏         | 337/16327 [29:47<42:37:47,  9.60s/it]"
     ]
    },
    {
     "name": "stdout",
     "output_type": "stream",
     "text": [
      "Markdown content saved to cs_ai_markdown\\2309.15714v2.md\n",
      "Process on 336: Completed\n"
     ]
    },
    {
     "name": "stderr",
     "output_type": "stream",
     "text": [
      "  2%|▏         | 338/16327 [30:00<47:23:58, 10.67s/it]"
     ]
    },
    {
     "name": "stdout",
     "output_type": "stream",
     "text": [
      "Markdown content saved to cs_ai_markdown\\2309.16733v1.md\n",
      "Process on 337: Completed\n"
     ]
    },
    {
     "name": "stderr",
     "output_type": "stream",
     "text": [
      "  2%|▏         | 339/16327 [30:05<39:10:59,  8.82s/it]"
     ]
    },
    {
     "name": "stdout",
     "output_type": "stream",
     "text": [
      "Markdown content saved to cs_ai_markdown\\2309.16736v1.md\n",
      "Process on 338: Completed\n"
     ]
    },
    {
     "name": "stderr",
     "output_type": "stream",
     "text": [
      "  2%|▏         | 340/16327 [30:08<31:54:26,  7.18s/it]"
     ]
    },
    {
     "name": "stdout",
     "output_type": "stream",
     "text": [
      "Markdown content saved to cs_ai_markdown\\2309.15577v1.md\n",
      "Process on 339: Completed\n"
     ]
    },
    {
     "name": "stderr",
     "output_type": "stream",
     "text": [
      "  2%|▏         | 341/16327 [30:12<28:13:19,  6.36s/it]"
     ]
    },
    {
     "name": "stdout",
     "output_type": "stream",
     "text": [
      "Markdown content saved to cs_ai_markdown\\2309.15839v1.md\n",
      "Process on 340: Completed\n"
     ]
    },
    {
     "name": "stderr",
     "output_type": "stream",
     "text": [
      "  2%|▏         | 342/16327 [31:52<152:31:46, 34.35s/it]"
     ]
    },
    {
     "name": "stdout",
     "output_type": "stream",
     "text": [
      "Markdown content saved to cs_ai_markdown\\2309.15535v1.md\n",
      "Process on 341: Completed\n"
     ]
    },
    {
     "name": "stderr",
     "output_type": "stream",
     "text": [
      "  2%|▏         | 343/16327 [31:55<110:03:51, 24.79s/it]"
     ]
    },
    {
     "name": "stdout",
     "output_type": "stream",
     "text": [
      "Markdown content saved to cs_ai_markdown\\2310.01425v2.md\n",
      "Process on 342: Completed\n"
     ]
    },
    {
     "name": "stderr",
     "output_type": "stream",
     "text": [
      "  2%|▏         | 344/16327 [32:04<89:39:41, 20.20s/it] "
     ]
    },
    {
     "name": "stdout",
     "output_type": "stream",
     "text": [
      "Markdown content saved to cs_ai_markdown\\2309.14587v1.md\n",
      "Process on 343: Completed\n"
     ]
    },
    {
     "name": "stderr",
     "output_type": "stream",
     "text": [
      "  2%|▏         | 345/16327 [32:12<73:48:12, 16.62s/it]"
     ]
    },
    {
     "name": "stdout",
     "output_type": "stream",
     "text": [
      "Markdown content saved to cs_ai_markdown\\2309.14718v2.md\n",
      "Process on 344: Completed\n"
     ]
    },
    {
     "name": "stderr",
     "output_type": "stream",
     "text": [
      "  2%|▏         | 346/16327 [32:38<86:13:31, 19.42s/it]"
     ]
    },
    {
     "name": "stdout",
     "output_type": "stream",
     "text": [
      "Markdown content saved to cs_ai_markdown\\2309.15238v1.md\n",
      "Process on 345: Completed\n"
     ]
    },
    {
     "name": "stderr",
     "output_type": "stream",
     "text": [
      "  2%|▏         | 347/16327 [32:41<64:28:10, 14.52s/it]"
     ]
    },
    {
     "name": "stdout",
     "output_type": "stream",
     "text": [
      "Markdown content saved to cs_ai_markdown\\2309.15140v1.md\n",
      "Process on 346: Completed\n"
     ]
    },
    {
     "name": "stderr",
     "output_type": "stream",
     "text": [
      "  2%|▏         | 348/16327 [32:46<50:50:47, 11.46s/it]"
     ]
    },
    {
     "name": "stdout",
     "output_type": "stream",
     "text": [
      "Markdown content saved to cs_ai_markdown\\2309.15004v1.md\n",
      "Process on 347: Completed\n"
     ]
    },
    {
     "name": "stderr",
     "output_type": "stream",
     "text": [
      "  2%|▏         | 349/16327 [32:51<42:03:53,  9.48s/it]"
     ]
    },
    {
     "name": "stdout",
     "output_type": "stream",
     "text": [
      "Markdown content saved to cs_ai_markdown\\2309.14877v2.md\n",
      "Process on 348: Completed\n"
     ]
    },
    {
     "name": "stderr",
     "output_type": "stream",
     "text": [
      "  2%|▏         | 350/16327 [32:57<37:35:27,  8.47s/it]"
     ]
    },
    {
     "name": "stdout",
     "output_type": "stream",
     "text": [
      "Markdown content saved to cs_ai_markdown\\2309.15139v1.md\n",
      "Process on 349: Completed\n"
     ]
    },
    {
     "name": "stderr",
     "output_type": "stream",
     "text": [
      "  2%|▏         | 351/16327 [32:59<29:40:35,  6.69s/it]"
     ]
    },
    {
     "name": "stdout",
     "output_type": "stream",
     "text": [
      "Markdown content saved to cs_ai_markdown\\2309.14921v1.md\n",
      "Process on 350: Completed\n"
     ]
    },
    {
     "name": "stderr",
     "output_type": "stream",
     "text": [
      "  2%|▏         | 352/16327 [33:03<26:21:48,  5.94s/it]"
     ]
    },
    {
     "name": "stdout",
     "output_type": "stream",
     "text": [
      "Markdown content saved to cs_ai_markdown\\2309.15056v1.md\n",
      "Process on 351: Completed\n"
     ]
    },
    {
     "name": "stderr",
     "output_type": "stream",
     "text": [
      "  2%|▏         | 353/16327 [33:09<26:27:02,  5.96s/it]"
     ]
    },
    {
     "name": "stdout",
     "output_type": "stream",
     "text": [
      "Markdown content saved to cs_ai_markdown\\2309.15866v1.md\n",
      "Process on 352: Completed\n"
     ]
    },
    {
     "name": "stderr",
     "output_type": "stream",
     "text": [
      "  2%|▏         | 354/16327 [33:13<23:20:02,  5.26s/it]"
     ]
    },
    {
     "name": "stdout",
     "output_type": "stream",
     "text": [
      "Markdown content saved to cs_ai_markdown\\2309.14617v1.md\n",
      "Process on 353: Completed\n"
     ]
    },
    {
     "name": "stderr",
     "output_type": "stream",
     "text": [
      "  2%|▏         | 355/16327 [33:19<24:41:00,  5.56s/it]"
     ]
    },
    {
     "name": "stdout",
     "output_type": "stream",
     "text": [
      "Markdown content saved to cs_ai_markdown\\2309.14793v2.md\n",
      "Process on 354: Completed\n"
     ]
    },
    {
     "name": "stderr",
     "output_type": "stream",
     "text": [
      "  2%|▏         | 356/16327 [33:24<23:42:51,  5.35s/it]"
     ]
    },
    {
     "name": "stdout",
     "output_type": "stream",
     "text": [
      "Markdown content saved to cs_ai_markdown\\2309.15936v1.md\n",
      "Process on 355: Completed\n"
     ]
    },
    {
     "name": "stderr",
     "output_type": "stream",
     "text": [
      "  2%|▏         | 357/16327 [33:31<26:11:59,  5.91s/it]"
     ]
    },
    {
     "name": "stdout",
     "output_type": "stream",
     "text": [
      "Markdown content saved to cs_ai_markdown\\2309.15018v1.md\n",
      "Process on 356: Completed\n"
     ]
    },
    {
     "name": "stderr",
     "output_type": "stream",
     "text": [
      "  2%|▏         | 358/16327 [33:38<27:44:24,  6.25s/it]"
     ]
    },
    {
     "name": "stdout",
     "output_type": "stream",
     "text": [
      "Markdown content saved to cs_ai_markdown\\2309.15803v1.md\n",
      "Process on 357: Completed\n"
     ]
    },
    {
     "name": "stderr",
     "output_type": "stream",
     "text": [
      "  2%|▏         | 359/16327 [33:46<28:54:13,  6.52s/it]"
     ]
    },
    {
     "name": "stdout",
     "output_type": "stream",
     "text": [
      "Markdown content saved to cs_ai_markdown\\2309.15237v1.md\n",
      "Process on 358: Completed\n"
     ]
    },
    {
     "name": "stderr",
     "output_type": "stream",
     "text": [
      "  2%|▏         | 360/16327 [33:51<27:54:49,  6.29s/it]"
     ]
    },
    {
     "name": "stdout",
     "output_type": "stream",
     "text": [
      "Markdown content saved to cs_ai_markdown\\2309.14385v1.md\n",
      "Process on 359: Completed\n"
     ]
    },
    {
     "name": "stderr",
     "output_type": "stream",
     "text": [
      "  2%|▏         | 361/16327 [33:56<25:52:40,  5.83s/it]"
     ]
    },
    {
     "name": "stdout",
     "output_type": "stream",
     "text": [
      "Markdown content saved to cs_ai_markdown\\2309.13979v1.md\n",
      "Process on 360: Completed\n"
     ]
    },
    {
     "name": "stderr",
     "output_type": "stream",
     "text": [
      "  2%|▏         | 362/16327 [34:06<30:48:18,  6.95s/it]"
     ]
    },
    {
     "name": "stdout",
     "output_type": "stream",
     "text": [
      "Markdown content saved to cs_ai_markdown\\2309.14387v1.md\n",
      "Process on 361: Completed\n"
     ]
    },
    {
     "name": "stderr",
     "output_type": "stream",
     "text": [
      "  2%|▏         | 363/16327 [34:09<26:07:16,  5.89s/it]"
     ]
    },
    {
     "name": "stdout",
     "output_type": "stream",
     "text": [
      "Markdown content saved to cs_ai_markdown\\2309.14395v1.md\n",
      "Process on 362: Completed\n"
     ]
    },
    {
     "name": "stderr",
     "output_type": "stream",
     "text": [
      "  2%|▏         | 364/16327 [34:17<29:13:43,  6.59s/it]"
     ]
    },
    {
     "name": "stdout",
     "output_type": "stream",
     "text": [
      "Markdown content saved to cs_ai_markdown\\2309.14073v2.md\n",
      "Process on 363: Completed\n"
     ]
    },
    {
     "name": "stderr",
     "output_type": "stream",
     "text": [
      "  2%|▏         | 365/16327 [34:43<54:55:47, 12.39s/it]"
     ]
    },
    {
     "name": "stdout",
     "output_type": "stream",
     "text": [
      "Markdown content saved to cs_ai_markdown\\2309.14221v1.md\n",
      "Process on 364: Completed\n"
     ]
    },
    {
     "name": "stderr",
     "output_type": "stream",
     "text": [
      "  2%|▏         | 366/16327 [34:46<42:24:25,  9.56s/it]"
     ]
    },
    {
     "name": "stdout",
     "output_type": "stream",
     "text": [
      "Markdown content saved to cs_ai_markdown\\2309.14247v1.md\n",
      "Process on 365: Completed\n"
     ]
    },
    {
     "name": "stderr",
     "output_type": "stream",
     "text": [
      "  2%|▏         | 367/16327 [34:49<33:38:20,  7.59s/it]"
     ]
    },
    {
     "name": "stdout",
     "output_type": "stream",
     "text": [
      "Markdown content saved to cs_ai_markdown\\2309.13803v1.md\n",
      "Process on 366: Completed\n"
     ]
    },
    {
     "name": "stderr",
     "output_type": "stream",
     "text": [
      "  2%|▏         | 368/16327 [34:56<32:34:38,  7.35s/it]"
     ]
    },
    {
     "name": "stdout",
     "output_type": "stream",
     "text": [
      "Markdown content saved to cs_ai_markdown\\2309.14548v1.md\n",
      "Process on 367: Completed\n"
     ]
    },
    {
     "name": "stderr",
     "output_type": "stream",
     "text": [
      "  2%|▏         | 369/16327 [35:09<40:26:25,  9.12s/it]"
     ]
    },
    {
     "name": "stdout",
     "output_type": "stream",
     "text": [
      "Markdown content saved to cs_ai_markdown\\2309.14037v1.md\n",
      "Process on 368: Completed\n"
     ]
    },
    {
     "name": "stderr",
     "output_type": "stream",
     "text": [
      "  2%|▏         | 370/16327 [35:15<35:26:43,  8.00s/it]"
     ]
    },
    {
     "name": "stdout",
     "output_type": "stream",
     "text": [
      "Markdown content saved to cs_ai_markdown\\2309.14471v1.md\n",
      "Process on 369: Completed\n"
     ]
    },
    {
     "name": "stderr",
     "output_type": "stream",
     "text": [
      "  2%|▏         | 371/16327 [35:30<44:54:28, 10.13s/it]"
     ]
    },
    {
     "name": "stdout",
     "output_type": "stream",
     "text": [
      "Markdown content saved to cs_ai_markdown\\2309.14383v1.md\n",
      "Process on 370: Completed\n"
     ]
    },
    {
     "name": "stderr",
     "output_type": "stream",
     "text": [
      "  2%|▏         | 372/16327 [35:40<45:02:15, 10.16s/it]"
     ]
    },
    {
     "name": "stdout",
     "output_type": "stream",
     "text": [
      "Markdown content saved to cs_ai_markdown\\2309.13744v1.md\n",
      "Process on 371: Completed\n"
     ]
    },
    {
     "name": "stderr",
     "output_type": "stream",
     "text": [
      "  2%|▏         | 373/16327 [36:10<71:19:04, 16.09s/it]"
     ]
    },
    {
     "name": "stdout",
     "output_type": "stream",
     "text": [
      "Markdown content saved to cs_ai_markdown\\2309.14381v1.md\n",
      "Process on 372: Completed\n"
     ]
    },
    {
     "name": "stderr",
     "output_type": "stream",
     "text": [
      "  2%|▏         | 374/16327 [36:13<54:10:12, 12.22s/it]"
     ]
    },
    {
     "name": "stdout",
     "output_type": "stream",
     "text": [
      "Markdown content saved to cs_ai_markdown\\2309.13702v2.md\n",
      "Process on 373: Completed\n"
     ]
    },
    {
     "name": "stderr",
     "output_type": "stream",
     "text": [
      "  2%|▏         | 375/16327 [36:31<62:12:25, 14.04s/it]"
     ]
    },
    {
     "name": "stdout",
     "output_type": "stream",
     "text": [
      "Markdown content saved to cs_ai_markdown\\2309.14379v1.md\n",
      "Process on 374: Completed\n"
     ]
    },
    {
     "name": "stderr",
     "output_type": "stream",
     "text": [
      "  2%|▏         | 376/16327 [36:35<48:54:35, 11.04s/it]"
     ]
    },
    {
     "name": "stdout",
     "output_type": "stream",
     "text": [
      "Markdown content saved to cs_ai_markdown\\2309.13731v1.md\n",
      "Process on 375: Completed\n"
     ]
    },
    {
     "name": "stderr",
     "output_type": "stream",
     "text": [
      "  2%|▏         | 377/16327 [36:41<41:42:58,  9.42s/it]"
     ]
    },
    {
     "name": "stdout",
     "output_type": "stream",
     "text": [
      "Markdown content saved to cs_ai_markdown\\2309.13636v1.md\n",
      "Process on 376: Completed\n"
     ]
    },
    {
     "name": "stderr",
     "output_type": "stream",
     "text": [
      "  2%|▏         | 378/16327 [36:45<34:35:46,  7.81s/it]"
     ]
    },
    {
     "name": "stdout",
     "output_type": "stream",
     "text": [
      "Markdown content saved to cs_ai_markdown\\2309.14382v1.md\n",
      "Process on 377: Completed\n"
     ]
    },
    {
     "name": "stderr",
     "output_type": "stream",
     "text": [
      "  2%|▏         | 379/16327 [36:53<34:48:36,  7.86s/it]"
     ]
    },
    {
     "name": "stdout",
     "output_type": "stream",
     "text": [
      "Markdown content saved to cs_ai_markdown\\2309.13542v1.md\n",
      "Process on 378: Completed\n"
     ]
    },
    {
     "name": "stderr",
     "output_type": "stream",
     "text": [
      "  2%|▏         | 380/16327 [36:57<28:59:26,  6.54s/it]"
     ]
    },
    {
     "name": "stdout",
     "output_type": "stream",
     "text": [
      "Markdown content saved to cs_ai_markdown\\2309.13664v1.md\n",
      "Process on 379: Completed\n"
     ]
    },
    {
     "name": "stderr",
     "output_type": "stream",
     "text": [
      "  2%|▏         | 381/16327 [37:45<84:18:09, 19.03s/it]"
     ]
    },
    {
     "name": "stdout",
     "output_type": "stream",
     "text": [
      "Markdown content saved to cs_ai_markdown\\2309.13635v1.md\n",
      "Process on 380: Completed\n"
     ]
    },
    {
     "name": "stderr",
     "output_type": "stream",
     "text": [
      "  2%|▏         | 382/16327 [37:53<69:20:01, 15.65s/it]"
     ]
    },
    {
     "name": "stdout",
     "output_type": "stream",
     "text": [
      "Markdown content saved to cs_ai_markdown\\2309.14374v1.md\n",
      "Process on 381: Completed\n"
     ]
    },
    {
     "name": "stderr",
     "output_type": "stream",
     "text": [
      "  2%|▏         | 383/16327 [37:59<57:02:53, 12.88s/it]"
     ]
    },
    {
     "name": "stdout",
     "output_type": "stream",
     "text": [
      "Markdown content saved to cs_ai_markdown\\2309.15857v2.md\n",
      "Process on 382: Completed\n"
     ]
    },
    {
     "name": "stderr",
     "output_type": "stream",
     "text": [
      "  2%|▏         | 384/16327 [38:04<46:22:00, 10.47s/it]"
     ]
    },
    {
     "name": "stdout",
     "output_type": "stream",
     "text": [
      "Markdown content saved to cs_ai_markdown\\2309.13325v1.md\n",
      "Process on 383: Completed\n"
     ]
    },
    {
     "name": "stderr",
     "output_type": "stream",
     "text": [
      "  2%|▏         | 385/16327 [38:08<37:43:45,  8.52s/it]"
     ]
    },
    {
     "name": "stdout",
     "output_type": "stream",
     "text": [
      "Markdown content saved to cs_ai_markdown\\2310.14891v1.md\n",
      "Process on 384: Completed\n"
     ]
    },
    {
     "name": "stderr",
     "output_type": "stream",
     "text": [
      "  2%|▏         | 386/16327 [38:11<30:53:17,  6.98s/it]"
     ]
    },
    {
     "name": "stdout",
     "output_type": "stream",
     "text": [
      "Markdown content saved to cs_ai_markdown\\2309.13444v1.md\n",
      "Process on 385: Completed\n"
     ]
    },
    {
     "name": "stderr",
     "output_type": "stream",
     "text": [
      "  2%|▏         | 387/16327 [38:19<31:54:49,  7.21s/it]"
     ]
    },
    {
     "name": "stdout",
     "output_type": "stream",
     "text": [
      "Markdown content saved to cs_ai_markdown\\2309.13224v2.md\n",
      "Process on 386: Completed\n"
     ]
    },
    {
     "name": "stderr",
     "output_type": "stream",
     "text": [
      "  2%|▏         | 388/16327 [38:26<31:13:32,  7.05s/it]"
     ]
    },
    {
     "name": "stdout",
     "output_type": "stream",
     "text": [
      "Markdown content saved to cs_ai_markdown\\2309.13317v1.md\n",
      "Process on 387: Completed\n"
     ]
    },
    {
     "name": "stderr",
     "output_type": "stream",
     "text": [
      "  2%|▏         | 389/16327 [38:28<24:51:39,  5.62s/it]"
     ]
    },
    {
     "name": "stdout",
     "output_type": "stream",
     "text": [
      "Markdown content saved to cs_ai_markdown\\2309.13259v1.md\n",
      "Process on 388: Completed\n"
     ]
    },
    {
     "name": "stderr",
     "output_type": "stream",
     "text": [
      "  2%|▏         | 390/16327 [38:32<23:17:02,  5.26s/it]"
     ]
    },
    {
     "name": "stdout",
     "output_type": "stream",
     "text": [
      "Markdown content saved to cs_ai_markdown\\2309.14365v1.md\n",
      "Process on 389: Completed\n"
     ]
    },
    {
     "name": "stderr",
     "output_type": "stream",
     "text": [
      "  2%|▏         | 391/16327 [38:36<20:46:24,  4.69s/it]"
     ]
    },
    {
     "name": "stdout",
     "output_type": "stream",
     "text": [
      "Markdown content saved to cs_ai_markdown\\2309.13411v1.md\n",
      "Process on 390: Completed\n"
     ]
    },
    {
     "name": "stderr",
     "output_type": "stream",
     "text": [
      "  2%|▏         | 392/16327 [38:40<20:03:45,  4.53s/it]"
     ]
    },
    {
     "name": "stdout",
     "output_type": "stream",
     "text": [
      "Markdown content saved to cs_ai_markdown\\2309.13168v1.md\n",
      "Process on 391: Completed\n"
     ]
    },
    {
     "name": "stderr",
     "output_type": "stream",
     "text": [
      "  2%|▏         | 393/16327 [38:43<17:41:01,  4.00s/it]"
     ]
    },
    {
     "name": "stdout",
     "output_type": "stream",
     "text": [
      "Markdown content saved to cs_ai_markdown\\2309.12732v1.md\n",
      "Process on 392: Completed\n"
     ]
    },
    {
     "name": "stderr",
     "output_type": "stream",
     "text": [
      "  2%|▏         | 394/16327 [38:47<18:52:48,  4.27s/it]"
     ]
    },
    {
     "name": "stdout",
     "output_type": "stream",
     "text": [
      "Markdown content saved to cs_ai_markdown\\2309.13094v1.md\n",
      "Process on 393: Completed\n"
     ]
    },
    {
     "name": "stderr",
     "output_type": "stream",
     "text": [
      "  2%|▏         | 395/16327 [38:51<17:55:37,  4.05s/it]"
     ]
    },
    {
     "name": "stdout",
     "output_type": "stream",
     "text": [
      "Markdown content saved to cs_ai_markdown\\2309.13206v1.md\n",
      "Process on 394: Completed\n"
     ]
    },
    {
     "name": "stderr",
     "output_type": "stream",
     "text": [
      "  2%|▏         | 396/16327 [38:54<16:51:08,  3.81s/it]"
     ]
    },
    {
     "name": "stdout",
     "output_type": "stream",
     "text": [
      "Markdown content saved to cs_ai_markdown\\2309.12675v1.md\n",
      "Process on 395: Completed\n"
     ]
    },
    {
     "name": "stderr",
     "output_type": "stream",
     "text": [
      "  2%|▏         | 397/16327 [38:57<15:32:31,  3.51s/it]"
     ]
    },
    {
     "name": "stdout",
     "output_type": "stream",
     "text": [
      "Markdown content saved to cs_ai_markdown\\2309.12731v1.md\n",
      "Process on 396: Completed\n"
     ]
    },
    {
     "name": "stderr",
     "output_type": "stream",
     "text": [
      "  2%|▏         | 398/16327 [39:00<15:12:21,  3.44s/it]"
     ]
    },
    {
     "name": "stdout",
     "output_type": "stream",
     "text": [
      "Markdown content saved to cs_ai_markdown\\2309.12711v1.md\n",
      "Process on 397: Completed\n"
     ]
    },
    {
     "name": "stderr",
     "output_type": "stream",
     "text": [
      "  2%|▏         | 399/16327 [39:45<69:22:52, 15.68s/it]"
     ]
    },
    {
     "name": "stdout",
     "output_type": "stream",
     "text": [
      "Markdown content saved to cs_ai_markdown\\2309.13181v1.md\n",
      "Process on 398: Completed\n"
     ]
    },
    {
     "name": "stderr",
     "output_type": "stream",
     "text": [
      "  2%|▏         | 400/16327 [39:55<62:00:30, 14.02s/it]"
     ]
    },
    {
     "name": "stdout",
     "output_type": "stream",
     "text": [
      "Markdown content saved to cs_ai_markdown\\2309.13099v1.md\n",
      "Process on 399: Completed\n"
     ]
    },
    {
     "name": "stderr",
     "output_type": "stream",
     "text": [
      "  2%|▏         | 401/16327 [39:58<48:00:41, 10.85s/it]"
     ]
    },
    {
     "name": "stdout",
     "output_type": "stream",
     "text": [
      "Markdown content saved to cs_ai_markdown\\2309.12627v3.md\n",
      "Process on 400: Completed\n"
     ]
    },
    {
     "name": "stderr",
     "output_type": "stream",
     "text": [
      "  2%|▏         | 402/16327 [40:03<39:50:31,  9.01s/it]"
     ]
    },
    {
     "name": "stdout",
     "output_type": "stream",
     "text": [
      "Markdown content saved to cs_ai_markdown\\2309.12678v1.md\n",
      "Process on 401: Completed\n"
     ]
    },
    {
     "name": "stderr",
     "output_type": "stream",
     "text": [
      "  2%|▏         | 403/16327 [40:07<33:36:53,  7.60s/it]"
     ]
    },
    {
     "name": "stdout",
     "output_type": "stream",
     "text": [
      "Markdown content saved to cs_ai_markdown\\2309.11737v1.md\n",
      "Process on 402: Completed\n"
     ]
    },
    {
     "name": "stderr",
     "output_type": "stream",
     "text": [
      "  2%|▏         | 404/16327 [40:15<33:18:44,  7.53s/it]"
     ]
    },
    {
     "name": "stdout",
     "output_type": "stream",
     "text": [
      "Markdown content saved to cs_ai_markdown\\2309.11932v2.md\n",
      "Process on 403: Completed\n"
     ]
    },
    {
     "name": "stderr",
     "output_type": "stream",
     "text": [
      "  2%|▏         | 405/16327 [40:18<28:01:59,  6.34s/it]"
     ]
    },
    {
     "name": "stdout",
     "output_type": "stream",
     "text": [
      "Markdown content saved to cs_ai_markdown\\2309.12415v1.md\n",
      "Process on 404: Completed\n"
     ]
    },
    {
     "name": "stderr",
     "output_type": "stream",
     "text": [
      "  2%|▏         | 406/16327 [40:37<44:45:04, 10.12s/it]"
     ]
    },
    {
     "name": "stdout",
     "output_type": "stream",
     "text": [
      "Markdown content saved to cs_ai_markdown\\2309.12485v1.md\n",
      "Process on 405: Completed\n"
     ]
    },
    {
     "name": "stderr",
     "output_type": "stream",
     "text": [
      "  2%|▏         | 407/16327 [40:45<41:29:41,  9.38s/it]"
     ]
    },
    {
     "name": "stdout",
     "output_type": "stream",
     "text": [
      "Markdown content saved to cs_ai_markdown\\2309.11960v1.md\n",
      "Process on 406: Completed\n"
     ]
    },
    {
     "name": "stderr",
     "output_type": "stream",
     "text": [
      "  2%|▏         | 408/16327 [40:48<33:15:59,  7.52s/it]"
     ]
    },
    {
     "name": "stdout",
     "output_type": "stream",
     "text": [
      "Markdown content saved to cs_ai_markdown\\2309.11991v1.md\n",
      "Process on 407: Completed\n"
     ]
    },
    {
     "name": "stderr",
     "output_type": "stream",
     "text": [
      "  3%|▎         | 409/16327 [40:52<29:16:49,  6.62s/it]"
     ]
    },
    {
     "name": "stdout",
     "output_type": "stream",
     "text": [
      "Markdown content saved to cs_ai_markdown\\2309.12004v1.md\n",
      "Process on 408: Completed\n"
     ]
    },
    {
     "name": "stderr",
     "output_type": "stream",
     "text": [
      "  3%|▎         | 410/16327 [40:58<28:30:42,  6.45s/it]"
     ]
    },
    {
     "name": "stdout",
     "output_type": "stream",
     "text": [
      "Markdown content saved to cs_ai_markdown\\2309.11981v3.md\n",
      "Process on 409: Completed\n"
     ]
    },
    {
     "name": "stderr",
     "output_type": "stream",
     "text": [
      "  3%|▎         | 411/16327 [41:09<33:29:58,  7.58s/it]"
     ]
    },
    {
     "name": "stdout",
     "output_type": "stream",
     "text": [
      "Markdown content saved to cs_ai_markdown\\2309.12468v1.md\n",
      "Process on 410: Completed\n"
     ]
    },
    {
     "name": "stderr",
     "output_type": "stream",
     "text": [
      "  3%|▎         | 412/16327 [41:13<28:38:27,  6.48s/it]"
     ]
    },
    {
     "name": "stdout",
     "output_type": "stream",
     "text": [
      "Markdown content saved to cs_ai_markdown\\2309.12139v1.md\n",
      "Process on 411: Completed\n"
     ]
    },
    {
     "name": "stderr",
     "output_type": "stream",
     "text": [
      "  3%|▎         | 413/16327 [41:33<46:59:40, 10.63s/it]"
     ]
    },
    {
     "name": "stdout",
     "output_type": "stream",
     "text": [
      "Markdown content saved to cs_ai_markdown\\2309.12148v1.md\n",
      "Process on 412: Completed\n"
     ]
    },
    {
     "name": "stderr",
     "output_type": "stream",
     "text": [
      "  3%|▎         | 414/16327 [41:39<40:30:39,  9.16s/it]"
     ]
    },
    {
     "name": "stdout",
     "output_type": "stream",
     "text": [
      "Markdown content saved to cs_ai_markdown\\2309.12177v1.md\n",
      "Process on 413: Completed\n"
     ]
    },
    {
     "name": "stderr",
     "output_type": "stream",
     "text": [
      "  3%|▎         | 415/16327 [41:43<33:32:58,  7.59s/it]"
     ]
    },
    {
     "name": "stdout",
     "output_type": "stream",
     "text": [
      "Markdown content saved to cs_ai_markdown\\2309.11724v1.md\n",
      "Process on 414: Completed\n"
     ]
    },
    {
     "name": "stderr",
     "output_type": "stream",
     "text": [
      "  3%|▎         | 416/16327 [41:53<36:44:24,  8.31s/it]"
     ]
    },
    {
     "name": "stdout",
     "output_type": "stream",
     "text": [
      "Markdown content saved to cs_ai_markdown\\2309.11247v1.md\n",
      "Process on 415: Completed\n"
     ]
    },
    {
     "name": "stderr",
     "output_type": "stream",
     "text": [
      "  3%|▎         | 417/16327 [41:59<34:01:01,  7.70s/it]"
     ]
    },
    {
     "name": "stdout",
     "output_type": "stream",
     "text": [
      "Markdown content saved to cs_ai_markdown\\2309.11456v1.md\n",
      "Process on 416: Completed\n"
     ]
    },
    {
     "name": "stderr",
     "output_type": "stream",
     "text": [
      "  3%|▎         | 418/16327 [42:03<28:48:54,  6.52s/it]"
     ]
    },
    {
     "name": "stdout",
     "output_type": "stream",
     "text": [
      "Markdown content saved to cs_ai_markdown\\2309.11555v1.md\n",
      "Process on 417: Completed\n"
     ]
    },
    {
     "name": "stderr",
     "output_type": "stream",
     "text": [
      "  3%|▎         | 419/16327 [42:21<44:28:19, 10.06s/it]"
     ]
    },
    {
     "name": "stdout",
     "output_type": "stream",
     "text": [
      "Markdown content saved to cs_ai_markdown\\2309.11039v1.md\n",
      "Process on 418: Completed\n"
     ]
    },
    {
     "name": "stderr",
     "output_type": "stream",
     "text": [
      "  3%|▎         | 420/16327 [42:26<38:28:16,  8.71s/it]"
     ]
    },
    {
     "name": "stdout",
     "output_type": "stream",
     "text": [
      "Markdown content saved to cs_ai_markdown\\2309.11610v1.md\n",
      "Process on 419: Completed\n"
     ]
    },
    {
     "name": "stderr",
     "output_type": "stream",
     "text": [
      "  3%|▎         | 421/16327 [42:34<37:07:02,  8.40s/it]"
     ]
    },
    {
     "name": "stdout",
     "output_type": "stream",
     "text": [
      "Markdown content saved to cs_ai_markdown\\2309.11691v1.md\n",
      "Process on 420: Completed\n"
     ]
    },
    {
     "name": "stderr",
     "output_type": "stream",
     "text": [
      "  3%|▎         | 422/16327 [42:39<32:11:57,  7.29s/it]"
     ]
    },
    {
     "name": "stdout",
     "output_type": "stream",
     "text": [
      "Markdown content saved to cs_ai_markdown\\2309.11202v1.md\n",
      "Process on 421: Completed\n"
     ]
    },
    {
     "name": "stderr",
     "output_type": "stream",
     "text": [
      "  3%|▎         | 423/16327 [42:51<39:07:08,  8.85s/it]"
     ]
    },
    {
     "name": "stdout",
     "output_type": "stream",
     "text": [
      "Markdown content saved to cs_ai_markdown\\2309.10987v1.md\n",
      "Process on 422: Completed\n"
     ]
    },
    {
     "name": "stderr",
     "output_type": "stream",
     "text": [
      "  3%|▎         | 424/16327 [42:55<31:53:19,  7.22s/it]"
     ]
    },
    {
     "name": "stdout",
     "output_type": "stream",
     "text": [
      "Markdown content saved to cs_ai_markdown\\2309.11275v1.md\n",
      "Process on 423: Completed\n"
     ]
    },
    {
     "name": "stderr",
     "output_type": "stream",
     "text": [
      "  3%|▎         | 425/16327 [43:00<29:32:29,  6.69s/it]"
     ]
    },
    {
     "name": "stdout",
     "output_type": "stream",
     "text": [
      "Markdown content saved to cs_ai_markdown\\2309.11378v1.md\n",
      "Process on 424: Completed\n"
     ]
    },
    {
     "name": "stderr",
     "output_type": "stream",
     "text": [
      "  3%|▎         | 426/16327 [43:05<26:47:03,  6.06s/it]"
     ]
    },
    {
     "name": "stdout",
     "output_type": "stream",
     "text": [
      "Markdown content saved to cs_ai_markdown\\2309.11575v1.md\n",
      "Process on 425: Completed\n"
     ]
    },
    {
     "name": "stderr",
     "output_type": "stream",
     "text": [
      "  3%|▎         | 427/16327 [43:08<22:36:49,  5.12s/it]"
     ]
    },
    {
     "name": "stdout",
     "output_type": "stream",
     "text": [
      "Markdown content saved to cs_ai_markdown\\2309.11608v1.md\n",
      "Process on 426: Completed\n"
     ]
    },
    {
     "name": "stderr",
     "output_type": "stream",
     "text": [
      "  3%|▎         | 428/16327 [43:11<20:20:33,  4.61s/it]"
     ]
    },
    {
     "name": "stdout",
     "output_type": "stream",
     "text": [
      "Markdown content saved to cs_ai_markdown\\2309.11231v1.md\n",
      "Process on 427: Completed\n"
     ]
    },
    {
     "name": "stderr",
     "output_type": "stream",
     "text": [
      "  3%|▎         | 429/16327 [43:20<26:06:48,  5.91s/it]"
     ]
    },
    {
     "name": "stdout",
     "output_type": "stream",
     "text": [
      "Markdown content saved to cs_ai_markdown\\2309.11648v1.md\n",
      "Process on 428: Completed\n"
     ]
    },
    {
     "name": "stderr",
     "output_type": "stream",
     "text": [
      "  3%|▎         | 430/16327 [43:25<24:10:28,  5.47s/it]"
     ]
    },
    {
     "name": "stdout",
     "output_type": "stream",
     "text": [
      "Markdown content saved to cs_ai_markdown\\2309.11044v2.md\n",
      "Process on 429: Completed\n"
     ]
    },
    {
     "name": "stderr",
     "output_type": "stream",
     "text": [
      "  3%|▎         | 431/16327 [43:28<21:27:39,  4.86s/it]"
     ]
    },
    {
     "name": "stdout",
     "output_type": "stream",
     "text": [
      "Markdown content saved to cs_ai_markdown\\2309.10561v1.md\n",
      "Process on 430: Completed\n"
     ]
    },
    {
     "name": "stderr",
     "output_type": "stream",
     "text": [
      "  3%|▎         | 432/16327 [43:41<31:52:54,  7.22s/it]"
     ]
    },
    {
     "name": "stdout",
     "output_type": "stream",
     "text": [
      "Markdown content saved to cs_ai_markdown\\2309.10448v2.md\n",
      "Process on 431: Completed\n"
     ]
    },
    {
     "name": "stderr",
     "output_type": "stream",
     "text": [
      "  3%|▎         | 433/16327 [43:43<25:26:24,  5.76s/it]"
     ]
    },
    {
     "name": "stdout",
     "output_type": "stream",
     "text": [
      "Markdown content saved to cs_ai_markdown\\2309.10895v1.md\n",
      "Process on 432: Completed\n"
     ]
    },
    {
     "name": "stderr",
     "output_type": "stream",
     "text": [
      "  3%|▎         | 434/16327 [43:48<24:14:09,  5.49s/it]"
     ]
    },
    {
     "name": "stdout",
     "output_type": "stream",
     "text": [
      "Markdown content saved to cs_ai_markdown\\2309.10532v3.md\n",
      "Process on 433: Completed\n"
     ]
    },
    {
     "name": "stderr",
     "output_type": "stream",
     "text": [
      "  3%|▎         | 435/16327 [43:52<21:44:22,  4.92s/it]"
     ]
    },
    {
     "name": "stdout",
     "output_type": "stream",
     "text": [
      "Markdown content saved to cs_ai_markdown\\2309.10346v1.md\n",
      "Process on 434: Completed\n"
     ]
    },
    {
     "name": "stderr",
     "output_type": "stream",
     "text": [
      "  3%|▎         | 436/16327 [44:00<26:02:12,  5.90s/it]"
     ]
    },
    {
     "name": "stdout",
     "output_type": "stream",
     "text": [
      "Markdown content saved to cs_ai_markdown\\2309.13072v1.md\n",
      "Process on 435: Completed\n"
     ]
    },
    {
     "name": "stderr",
     "output_type": "stream",
     "text": [
      "  3%|▎         | 437/16327 [44:06<26:01:41,  5.90s/it]"
     ]
    },
    {
     "name": "stdout",
     "output_type": "stream",
     "text": [
      "Markdown content saved to cs_ai_markdown\\2309.10892v1.md\n",
      "Process on 436: Completed\n"
     ]
    },
    {
     "name": "stderr",
     "output_type": "stream",
     "text": [
      "  3%|▎         | 438/16327 [44:11<25:05:54,  5.69s/it]"
     ]
    },
    {
     "name": "stdout",
     "output_type": "stream",
     "text": [
      "Markdown content saved to cs_ai_markdown\\2309.10645v1.md\n",
      "Process on 437: Completed\n"
     ]
    },
    {
     "name": "stderr",
     "output_type": "stream",
     "text": [
      "  3%|▎         | 439/16327 [44:13<20:54:38,  4.74s/it]"
     ]
    },
    {
     "name": "stdout",
     "output_type": "stream",
     "text": [
      "Markdown content saved to cs_ai_markdown\\2309.10492v1.md\n",
      "Process on 438: Completed\n"
     ]
    },
    {
     "name": "stderr",
     "output_type": "stream",
     "text": [
      "  3%|▎         | 440/16327 [44:17<19:05:36,  4.33s/it]"
     ]
    },
    {
     "name": "stdout",
     "output_type": "stream",
     "text": [
      "Markdown content saved to cs_ai_markdown\\2309.10544v1.md\n",
      "Process on 439: Completed\n"
     ]
    },
    {
     "name": "stderr",
     "output_type": "stream",
     "text": [
      "  3%|▎         | 441/16327 [44:29<30:19:20,  6.87s/it]"
     ]
    },
    {
     "name": "stdout",
     "output_type": "stream",
     "text": [
      "Markdown content saved to cs_ai_markdown\\2309.10871v1.md\n",
      "Process on 440: Completed\n"
     ]
    },
    {
     "name": "stderr",
     "output_type": "stream",
     "text": [
      "  3%|▎         | 442/16327 [44:38<33:09:25,  7.51s/it]"
     ]
    },
    {
     "name": "stdout",
     "output_type": "stream",
     "text": [
      "Markdown content saved to cs_ai_markdown\\2310.04427v1.md\n",
      "Process on 441: Completed\n"
     ]
    },
    {
     "name": "stderr",
     "output_type": "stream",
     "text": [
      "  3%|▎         | 443/16327 [44:41<26:54:48,  6.10s/it]"
     ]
    },
    {
     "name": "stdout",
     "output_type": "stream",
     "text": [
      "Markdown content saved to cs_ai_markdown\\2310.12989v1.md\n",
      "Process on 442: Completed\n"
     ]
    },
    {
     "name": "stderr",
     "output_type": "stream",
     "text": [
      "  3%|▎         | 444/16327 [44:46<25:21:28,  5.75s/it]"
     ]
    },
    {
     "name": "stdout",
     "output_type": "stream",
     "text": [
      "Markdown content saved to cs_ai_markdown\\2309.10945v1.md\n",
      "Process on 443: Completed\n"
     ]
    },
    {
     "name": "stderr",
     "output_type": "stream",
     "text": [
      "  3%|▎         | 445/16327 [44:51<24:05:24,  5.46s/it]"
     ]
    },
    {
     "name": "stdout",
     "output_type": "stream",
     "text": [
      "Markdown content saved to cs_ai_markdown\\2309.10324v1.md\n",
      "Process on 444: Completed\n"
     ]
    },
    {
     "name": "stderr",
     "output_type": "stream",
     "text": [
      "  3%|▎         | 446/16327 [44:56<24:00:30,  5.44s/it]"
     ]
    },
    {
     "name": "stdout",
     "output_type": "stream",
     "text": [
      "Markdown content saved to cs_ai_markdown\\2309.10293v2.md\n",
      "Process on 445: Completed\n"
     ]
    },
    {
     "name": "stderr",
     "output_type": "stream",
     "text": [
      "  3%|▎         | 447/16327 [45:01<22:41:23,  5.14s/it]"
     ]
    },
    {
     "name": "stdout",
     "output_type": "stream",
     "text": [
      "Markdown content saved to cs_ai_markdown\\2309.10424v1.md\n",
      "Process on 446: Completed\n"
     ]
    },
    {
     "name": "stderr",
     "output_type": "stream",
     "text": [
      "  3%|▎         | 448/16327 [45:18<38:54:25,  8.82s/it]"
     ]
    },
    {
     "name": "stdout",
     "output_type": "stream",
     "text": [
      "Markdown content saved to cs_ai_markdown\\2309.10908v1.md\n",
      "Process on 447: Completed\n"
     ]
    },
    {
     "name": "stderr",
     "output_type": "stream",
     "text": [
      "  3%|▎         | 449/16327 [45:22<31:54:35,  7.23s/it]"
     ]
    },
    {
     "name": "stdout",
     "output_type": "stream",
     "text": [
      "Markdown content saved to cs_ai_markdown\\2309.10729v1.md\n",
      "Process on 448: Completed\n"
     ]
    },
    {
     "name": "stderr",
     "output_type": "stream",
     "text": [
      "  3%|▎         | 450/16327 [45:35<39:40:51,  9.00s/it]"
     ]
    },
    {
     "name": "stdout",
     "output_type": "stream",
     "text": [
      "Markdown content saved to cs_ai_markdown\\2310.10665v1.md\n",
      "Process on 449: Completed\n"
     ]
    },
    {
     "name": "stderr",
     "output_type": "stream",
     "text": [
      "  3%|▎         | 451/16327 [45:51<49:43:25, 11.28s/it]"
     ]
    },
    {
     "name": "stdout",
     "output_type": "stream",
     "text": [
      "Markdown content saved to cs_ai_markdown\\2309.10266v1.md\n",
      "Process on 450: Completed\n"
     ]
    },
    {
     "name": "stderr",
     "output_type": "stream",
     "text": [
      "  3%|▎         | 452/16327 [46:01<47:54:20, 10.86s/it]"
     ]
    },
    {
     "name": "stdout",
     "output_type": "stream",
     "text": [
      "Markdown content saved to cs_ai_markdown\\2309.10910v1.md\n",
      "Process on 451: Completed\n"
     ]
    },
    {
     "name": "stderr",
     "output_type": "stream",
     "text": [
      "  3%|▎         | 453/16327 [46:08<42:04:40,  9.54s/it]"
     ]
    },
    {
     "name": "stdout",
     "output_type": "stream",
     "text": [
      "Markdown content saved to cs_ai_markdown\\2309.09917v1.md\n",
      "Process on 452: Completed\n"
     ]
    },
    {
     "name": "stderr",
     "output_type": "stream",
     "text": [
      "  3%|▎         | 454/16327 [46:11<33:52:50,  7.68s/it]"
     ]
    },
    {
     "name": "stdout",
     "output_type": "stream",
     "text": [
      "Markdown content saved to cs_ai_markdown\\2309.09476v3.md\n",
      "Process on 453: Completed\n"
     ]
    },
    {
     "name": "stderr",
     "output_type": "stream",
     "text": [
      "  3%|▎         | 455/16327 [46:14<27:18:12,  6.19s/it]"
     ]
    },
    {
     "name": "stdout",
     "output_type": "stream",
     "text": [
      "Markdown content saved to cs_ai_markdown\\2309.10016v1.md\n",
      "Process on 454: Completed\n"
     ]
    },
    {
     "name": "stderr",
     "output_type": "stream",
     "text": [
      "  3%|▎         | 456/16327 [46:23<31:26:16,  7.13s/it]"
     ]
    },
    {
     "name": "stdout",
     "output_type": "stream",
     "text": [
      "Markdown content saved to cs_ai_markdown\\2309.10063v1.md\n",
      "Process on 455: Completed\n"
     ]
    },
    {
     "name": "stderr",
     "output_type": "stream",
     "text": [
      "  3%|▎         | 457/16327 [46:37<40:15:23,  9.13s/it]"
     ]
    },
    {
     "name": "stdout",
     "output_type": "stream",
     "text": [
      "Markdown content saved to cs_ai_markdown\\2309.09787v2.md\n",
      "Process on 456: Completed\n"
     ]
    },
    {
     "name": "stderr",
     "output_type": "stream",
     "text": [
      "  3%|▎         | 458/16327 [46:41<34:02:43,  7.72s/it]"
     ]
    },
    {
     "name": "stdout",
     "output_type": "stream",
     "text": [
      "Markdown content saved to cs_ai_markdown\\2309.10182v1.md\n",
      "Process on 457: Completed\n"
     ]
    },
    {
     "name": "stderr",
     "output_type": "stream",
     "text": [
      "  3%|▎         | 459/16327 [47:46<109:30:41, 24.85s/it]"
     ]
    },
    {
     "name": "stdout",
     "output_type": "stream",
     "text": [
      "Markdown content saved to cs_ai_markdown\\2309.10007v2.md\n",
      "Process on 458: Completed\n"
     ]
    },
    {
     "name": "stderr",
     "output_type": "stream",
     "text": [
      "  3%|▎         | 460/16327 [47:50<81:30:41, 18.49s/it] "
     ]
    },
    {
     "name": "stdout",
     "output_type": "stream",
     "text": [
      "Markdown content saved to cs_ai_markdown\\2309.10186v1.md\n",
      "Process on 459: Completed\n"
     ]
    },
    {
     "name": "stderr",
     "output_type": "stream",
     "text": [
      "  3%|▎         | 461/16327 [47:53<60:35:48, 13.75s/it]"
     ]
    },
    {
     "name": "stdout",
     "output_type": "stream",
     "text": [
      "Markdown content saved to cs_ai_markdown\\2309.09443v2.md\n",
      "Process on 460: Completed\n"
     ]
    },
    {
     "name": "stderr",
     "output_type": "stream",
     "text": [
      "  3%|▎         | 462/16327 [47:57<47:46:13, 10.84s/it]"
     ]
    },
    {
     "name": "stdout",
     "output_type": "stream",
     "text": [
      "Markdown content saved to cs_ai_markdown\\2309.09441v1.md\n",
      "Process on 461: Completed\n"
     ]
    },
    {
     "name": "stderr",
     "output_type": "stream",
     "text": [
      "  3%|▎         | 463/16327 [48:02<40:54:02,  9.28s/it]"
     ]
    },
    {
     "name": "stdout",
     "output_type": "stream",
     "text": [
      "Markdown content saved to cs_ai_markdown\\2309.13071v1.md\n",
      "Process on 462: Completed\n"
     ]
    },
    {
     "name": "stderr",
     "output_type": "stream",
     "text": [
      "  3%|▎         | 464/16327 [48:06<33:44:34,  7.66s/it]"
     ]
    },
    {
     "name": "stdout",
     "output_type": "stream",
     "text": [
      "Markdown content saved to cs_ai_markdown\\2309.09694v1.md\n",
      "Process on 463: Completed\n"
     ]
    },
    {
     "name": "stderr",
     "output_type": "stream",
     "text": [
      "  3%|▎         | 465/16327 [48:11<30:30:06,  6.92s/it]"
     ]
    },
    {
     "name": "stdout",
     "output_type": "stream",
     "text": [
      "Markdown content saved to cs_ai_markdown\\2309.10177v1.md\n",
      "Process on 464: Completed\n"
     ]
    },
    {
     "name": "stderr",
     "output_type": "stream",
     "text": [
      "  3%|▎         | 466/16327 [48:21<34:24:56,  7.81s/it]"
     ]
    },
    {
     "name": "stdout",
     "output_type": "stream",
     "text": [
      "Markdown content saved to cs_ai_markdown\\2309.09901v1.md\n",
      "Process on 465: Completed\n"
     ]
    },
    {
     "name": "stderr",
     "output_type": "stream",
     "text": [
      "  3%|▎         | 467/16327 [48:26<29:49:48,  6.77s/it]"
     ]
    },
    {
     "name": "stdout",
     "output_type": "stream",
     "text": [
      "Markdown content saved to cs_ai_markdown\\2309.09898v1.md\n",
      "Process on 466: Completed\n"
     ]
    },
    {
     "name": "stderr",
     "output_type": "stream",
     "text": [
      "  3%|▎         | 468/16327 [48:28<23:24:48,  5.31s/it]"
     ]
    },
    {
     "name": "stdout",
     "output_type": "stream",
     "text": [
      "No /Root object! - Is this really a PDF?\n"
     ]
    },
    {
     "name": "stderr",
     "output_type": "stream",
     "text": [
      "  3%|▎         | 469/16327 [48:32<22:49:53,  5.18s/it]"
     ]
    },
    {
     "name": "stdout",
     "output_type": "stream",
     "text": [
      "Markdown content saved to cs_ai_markdown\\2309.09397v1.md\n",
      "Process on 468: Completed\n"
     ]
    },
    {
     "name": "stderr",
     "output_type": "stream",
     "text": [
      "  3%|▎         | 470/16327 [48:40<25:55:34,  5.89s/it]"
     ]
    },
    {
     "name": "stdout",
     "output_type": "stream",
     "text": [
      "Markdown content saved to cs_ai_markdown\\2309.09333v2.md\n",
      "Process on 469: Completed\n"
     ]
    },
    {
     "name": "stderr",
     "output_type": "stream",
     "text": [
      "  3%|▎         | 471/16327 [48:46<26:07:41,  5.93s/it]"
     ]
    },
    {
     "name": "stdout",
     "output_type": "stream",
     "text": [
      "Markdown content saved to cs_ai_markdown\\2309.08931v1.md\n",
      "Process on 470: Completed\n"
     ]
    },
    {
     "name": "stderr",
     "output_type": "stream",
     "text": [
      "  3%|▎         | 472/16327 [48:51<25:32:34,  5.80s/it]"
     ]
    },
    {
     "name": "stdout",
     "output_type": "stream",
     "text": [
      "Markdown content saved to cs_ai_markdown\\2309.08880v1.md\n",
      "Process on 471: Completed\n"
     ]
    },
    {
     "name": "stderr",
     "output_type": "stream",
     "text": [
      "  3%|▎         | 473/16327 [48:59<27:40:20,  6.28s/it]"
     ]
    },
    {
     "name": "stdout",
     "output_type": "stream",
     "text": [
      "Markdown content saved to cs_ai_markdown\\2309.12367v1.md\n",
      "Process on 472: Completed\n"
     ]
    },
    {
     "name": "stderr",
     "output_type": "stream",
     "text": [
      "  3%|▎         | 474/16327 [49:07<30:06:03,  6.84s/it]"
     ]
    },
    {
     "name": "stdout",
     "output_type": "stream",
     "text": [
      "Markdown content saved to cs_ai_markdown\\2309.08984v1.md\n",
      "Process on 473: Completed\n"
     ]
    },
    {
     "name": "stderr",
     "output_type": "stream",
     "text": [
      "  3%|▎         | 475/16327 [49:13<28:35:26,  6.49s/it]"
     ]
    },
    {
     "name": "stdout",
     "output_type": "stream",
     "text": [
      "Markdown content saved to cs_ai_markdown\\2309.08883v1.md\n",
      "Process on 474: Completed\n"
     ]
    },
    {
     "name": "stderr",
     "output_type": "stream",
     "text": [
      "  3%|▎         | 476/16327 [49:19<28:46:05,  6.53s/it]"
     ]
    },
    {
     "name": "stdout",
     "output_type": "stream",
     "text": [
      "Markdown content saved to cs_ai_markdown\\2309.08395v1.md\n",
      "Process on 475: Completed\n"
     ]
    },
    {
     "name": "stderr",
     "output_type": "stream",
     "text": [
      "  3%|▎         | 477/16327 [49:26<28:25:45,  6.46s/it]"
     ]
    },
    {
     "name": "stdout",
     "output_type": "stream",
     "text": [
      "Markdown content saved to cs_ai_markdown\\2309.08106v1.md\n",
      "Process on 476: Completed\n"
     ]
    },
    {
     "name": "stderr",
     "output_type": "stream",
     "text": [
      "  3%|▎         | 478/16327 [50:00<65:16:18, 14.83s/it]"
     ]
    },
    {
     "name": "stdout",
     "output_type": "stream",
     "text": [
      "Markdown content saved to cs_ai_markdown\\2309.08798v1.md\n",
      "Process on 477: Completed\n"
     ]
    },
    {
     "name": "stderr",
     "output_type": "stream",
     "text": [
      "  3%|▎         | 479/16327 [50:04<51:10:24, 11.62s/it]"
     ]
    },
    {
     "name": "stdout",
     "output_type": "stream",
     "text": [
      "Markdown content saved to cs_ai_markdown\\2309.16721v1.md\n",
      "Process on 478: Completed\n"
     ]
    },
    {
     "name": "stderr",
     "output_type": "stream",
     "text": [
      "  3%|▎         | 480/16327 [50:18<54:34:42, 12.40s/it]"
     ]
    },
    {
     "name": "stdout",
     "output_type": "stream",
     "text": [
      "Markdown content saved to cs_ai_markdown\\2309.08485v1.md\n",
      "Process on 479: Completed\n"
     ]
    },
    {
     "name": "stderr",
     "output_type": "stream",
     "text": [
      "  3%|▎         | 481/16327 [50:21<41:42:01,  9.47s/it]"
     ]
    },
    {
     "name": "stdout",
     "output_type": "stream",
     "text": [
      "Markdown content saved to cs_ai_markdown\\2309.08741v1.md\n",
      "Process on 480: Completed\n"
     ]
    },
    {
     "name": "stderr",
     "output_type": "stream",
     "text": [
      "  3%|▎         | 482/16327 [50:30<41:05:44,  9.34s/it]"
     ]
    },
    {
     "name": "stdout",
     "output_type": "stream",
     "text": [
      "Markdown content saved to cs_ai_markdown\\2309.08112v1.md\n",
      "Process on 481: Completed\n"
     ]
    },
    {
     "name": "stderr",
     "output_type": "stream",
     "text": [
      "  3%|▎         | 483/16327 [50:36<36:54:55,  8.39s/it]"
     ]
    },
    {
     "name": "stdout",
     "output_type": "stream",
     "text": [
      "Markdown content saved to cs_ai_markdown\\2309.09992v1.md\n",
      "Process on 482: Completed\n"
     ]
    },
    {
     "name": "stderr",
     "output_type": "stream",
     "text": [
      "  3%|▎         | 484/16327 [50:44<35:49:27,  8.14s/it]"
     ]
    },
    {
     "name": "stdout",
     "output_type": "stream",
     "text": [
      "Markdown content saved to cs_ai_markdown\\2309.08788v1.md\n",
      "Process on 483: Completed\n"
     ]
    },
    {
     "name": "stderr",
     "output_type": "stream",
     "text": [
      "  3%|▎         | 485/16327 [50:49<32:20:24,  7.35s/it]"
     ]
    },
    {
     "name": "stdout",
     "output_type": "stream",
     "text": [
      "Markdown content saved to cs_ai_markdown\\2309.08460v1.md\n",
      "Process on 484: Completed\n"
     ]
    },
    {
     "name": "stderr",
     "output_type": "stream",
     "text": [
      "  3%|▎         | 486/16327 [50:56<31:26:30,  7.15s/it]"
     ]
    },
    {
     "name": "stdout",
     "output_type": "stream",
     "text": [
      "Markdown content saved to cs_ai_markdown\\2309.08171v1.md\n",
      "Process on 485: Completed\n"
     ]
    },
    {
     "name": "stderr",
     "output_type": "stream",
     "text": [
      "  3%|▎         | 487/16327 [51:06<35:45:20,  8.13s/it]"
     ]
    },
    {
     "name": "stdout",
     "output_type": "stream",
     "text": [
      "Markdown content saved to cs_ai_markdown\\2309.07504v1.md\n",
      "Process on 486: Completed\n"
     ]
    },
    {
     "name": "stderr",
     "output_type": "stream",
     "text": [
      "  3%|▎         | 488/16327 [51:16<37:11:01,  8.45s/it]"
     ]
    },
    {
     "name": "stdout",
     "output_type": "stream",
     "text": [
      "Markdown content saved to cs_ai_markdown\\2309.07589v1.md\n",
      "Process on 487: Completed\n"
     ]
    },
    {
     "name": "stderr",
     "output_type": "stream",
     "text": [
      "  3%|▎         | 489/16327 [51:40<58:59:45, 13.41s/it]"
     ]
    },
    {
     "name": "stdout",
     "output_type": "stream",
     "text": [
      "Markdown content saved to cs_ai_markdown\\2309.07864v3.md\n",
      "Process on 488: Completed\n"
     ]
    },
    {
     "name": "stderr",
     "output_type": "stream",
     "text": [
      "  3%|▎         | 490/16327 [51:50<53:21:17, 12.13s/it]"
     ]
    },
    {
     "name": "stdout",
     "output_type": "stream",
     "text": [
      "Markdown content saved to cs_ai_markdown\\2309.07438v1.md\n",
      "Process on 489: Completed\n"
     ]
    },
    {
     "name": "stderr",
     "output_type": "stream",
     "text": [
      "  3%|▎         | 491/16327 [52:18<75:24:45, 17.14s/it]"
     ]
    },
    {
     "name": "stdout",
     "output_type": "stream",
     "text": [
      "Markdown content saved to cs_ai_markdown\\2309.08637v2.md\n",
      "Process on 490: Completed\n"
     ]
    },
    {
     "name": "stderr",
     "output_type": "stream",
     "text": [
      "  3%|▎         | 492/16327 [52:22<57:19:02, 13.03s/it]"
     ]
    },
    {
     "name": "stdout",
     "output_type": "stream",
     "text": [
      "Markdown content saved to cs_ai_markdown\\2309.07689v1.md\n",
      "Process on 491: Completed\n"
     ]
    },
    {
     "name": "stderr",
     "output_type": "stream",
     "text": [
      "  3%|▎         | 493/16327 [52:25<44:46:33, 10.18s/it]"
     ]
    },
    {
     "name": "stdout",
     "output_type": "stream",
     "text": [
      "Markdown content saved to cs_ai_markdown\\2309.07755v1.md\n",
      "Process on 492: Completed\n"
     ]
    },
    {
     "name": "stderr",
     "output_type": "stream",
     "text": [
      "  3%|▎         | 494/16327 [52:33<40:47:49,  9.28s/it]"
     ]
    },
    {
     "name": "stdout",
     "output_type": "stream",
     "text": [
      "Markdown content saved to cs_ai_markdown\\2309.11510v1.md\n",
      "Process on 493: Completed\n"
     ]
    },
    {
     "name": "stderr",
     "output_type": "stream",
     "text": [
      "  3%|▎         | 495/16327 [52:43<41:45:22,  9.49s/it]"
     ]
    },
    {
     "name": "stdout",
     "output_type": "stream",
     "text": [
      "Markdown content saved to cs_ai_markdown\\2310.04424v1.md\n",
      "Process on 494: Completed\n"
     ]
    },
    {
     "name": "stderr",
     "output_type": "stream",
     "text": [
      "  3%|▎         | 496/16327 [52:45<31:48:29,  7.23s/it]"
     ]
    },
    {
     "name": "stdout",
     "output_type": "stream",
     "text": [
      "No /Root object! - Is this really a PDF?\n"
     ]
    },
    {
     "name": "stderr",
     "output_type": "stream",
     "text": [
      "  3%|▎         | 497/16327 [52:47<24:51:38,  5.65s/it]"
     ]
    },
    {
     "name": "stdout",
     "output_type": "stream",
     "text": [
      "No /Root object! - Is this really a PDF?\n"
     ]
    },
    {
     "name": "stderr",
     "output_type": "stream",
     "text": [
      "  3%|▎         | 498/16327 [52:53<26:26:41,  6.01s/it]"
     ]
    },
    {
     "name": "stdout",
     "output_type": "stream",
     "text": [
      "Markdown content saved to cs_ai_markdown\\2309.06801v1.md\n",
      "Process on 497: Completed\n"
     ]
    },
    {
     "name": "stderr",
     "output_type": "stream",
     "text": [
      "  3%|▎         | 499/16327 [53:00<27:39:31,  6.29s/it]"
     ]
    },
    {
     "name": "stdout",
     "output_type": "stream",
     "text": [
      "Markdown content saved to cs_ai_markdown\\2309.07185v1.md\n",
      "Process on 498: Completed\n"
     ]
    },
    {
     "name": "stderr",
     "output_type": "stream",
     "text": [
      "  3%|▎         | 500/16327 [53:04<23:48:35,  5.42s/it]"
     ]
    },
    {
     "name": "stdout",
     "output_type": "stream",
     "text": [
      "Markdown content saved to cs_ai_markdown\\2309.06814v1.md\n",
      "Process on 499: Completed\n"
     ]
    },
    {
     "name": "stderr",
     "output_type": "stream",
     "text": [
      "  3%|▎         | 501/16327 [53:09<24:01:14,  5.46s/it]"
     ]
    },
    {
     "name": "stdout",
     "output_type": "stream",
     "text": [
      "Markdown content saved to cs_ai_markdown\\2309.06938v2.md\n",
      "Process on 500: Completed\n"
     ]
    },
    {
     "name": "stderr",
     "output_type": "stream",
     "text": [
      "  3%|▎         | 502/16327 [53:14<22:34:50,  5.14s/it]"
     ]
    },
    {
     "name": "stdout",
     "output_type": "stream",
     "text": [
      "Markdown content saved to cs_ai_markdown\\2309.06719v1.md\n",
      "Process on 501: Completed\n"
     ]
    },
    {
     "name": "stderr",
     "output_type": "stream",
     "text": [
      "  3%|▎         | 503/16327 [53:23<28:46:08,  6.55s/it]"
     ]
    },
    {
     "name": "stdout",
     "output_type": "stream",
     "text": [
      "Markdown content saved to cs_ai_markdown\\2309.07064v1.md\n",
      "Process on 502: Completed\n"
     ]
    },
    {
     "name": "stderr",
     "output_type": "stream",
     "text": [
      "  3%|▎         | 504/16327 [53:26<23:32:27,  5.36s/it]"
     ]
    },
    {
     "name": "stdout",
     "output_type": "stream",
     "text": [
      "Markdown content saved to cs_ai_markdown\\2309.08632v1.md\n",
      "Process on 503: Completed\n"
     ]
    },
    {
     "name": "stderr",
     "output_type": "stream",
     "text": [
      "  3%|▎         | 505/16327 [53:30<21:14:29,  4.83s/it]"
     ]
    },
    {
     "name": "stdout",
     "output_type": "stream",
     "text": [
      "Markdown content saved to cs_ai_markdown\\2309.12365v1.md\n",
      "Process on 504: Completed\n"
     ]
    },
    {
     "name": "stderr",
     "output_type": "stream",
     "text": [
      "  3%|▎         | 506/16327 [53:32<18:23:43,  4.19s/it]"
     ]
    },
    {
     "name": "stdout",
     "output_type": "stream",
     "text": [
      "Markdown content saved to cs_ai_markdown\\2309.07334v1.md\n",
      "Process on 505: Completed\n"
     ]
    },
    {
     "name": "stderr",
     "output_type": "stream",
     "text": [
      "  3%|▎         | 507/16327 [53:38<20:28:00,  4.66s/it]"
     ]
    },
    {
     "name": "stdout",
     "output_type": "stream",
     "text": [
      "Markdown content saved to cs_ai_markdown\\2309.06888v1.md\n",
      "Process on 506: Completed\n"
     ]
    },
    {
     "name": "stderr",
     "output_type": "stream",
     "text": [
      "  3%|▎         | 508/16327 [53:42<19:57:46,  4.54s/it]"
     ]
    },
    {
     "name": "stdout",
     "output_type": "stream",
     "text": [
      "Markdown content saved to cs_ai_markdown\\2309.07022v1.md\n",
      "Process on 507: Completed\n"
     ]
    },
    {
     "name": "stderr",
     "output_type": "stream",
     "text": [
      "  3%|▎         | 509/16327 [53:48<21:59:01,  5.00s/it]"
     ]
    },
    {
     "name": "stdout",
     "output_type": "stream",
     "text": [
      "Markdown content saved to cs_ai_markdown\\2309.07235v1.md\n",
      "Process on 508: Completed\n"
     ]
    },
    {
     "name": "stderr",
     "output_type": "stream",
     "text": [
      "  3%|▎         | 510/16327 [53:59<28:52:30,  6.57s/it]"
     ]
    },
    {
     "name": "stdout",
     "output_type": "stream",
     "text": [
      "Markdown content saved to cs_ai_markdown\\2309.06597v1.md\n",
      "Process on 509: Completed\n"
     ]
    },
    {
     "name": "stderr",
     "output_type": "stream",
     "text": [
      "  3%|▎         | 511/16327 [54:05<28:06:51,  6.40s/it]"
     ]
    },
    {
     "name": "stdout",
     "output_type": "stream",
     "text": [
      "Markdown content saved to cs_ai_markdown\\2309.06555v1.md\n",
      "Process on 510: Completed\n"
     ]
    },
    {
     "name": "stderr",
     "output_type": "stream",
     "text": [
      "  3%|▎         | 512/16327 [54:08<24:35:22,  5.60s/it]"
     ]
    },
    {
     "name": "stdout",
     "output_type": "stream",
     "text": [
      "Markdown content saved to cs_ai_markdown\\2309.07172v1.md\n",
      "Process on 511: Completed\n"
     ]
    },
    {
     "name": "stderr",
     "output_type": "stream",
     "text": [
      "  3%|▎         | 513/16327 [54:20<31:52:36,  7.26s/it]"
     ]
    },
    {
     "name": "stdout",
     "output_type": "stream",
     "text": [
      "Markdown content saved to cs_ai_markdown\\2309.05999v1.md\n",
      "Process on 512: Completed\n"
     ]
    },
    {
     "name": "stderr",
     "output_type": "stream",
     "text": [
      "  3%|▎         | 514/16327 [54:23<26:56:04,  6.13s/it]"
     ]
    },
    {
     "name": "stdout",
     "output_type": "stream",
     "text": [
      "Markdown content saved to cs_ai_markdown\\2309.06589v1.md\n",
      "Process on 513: Completed\n"
     ]
    },
    {
     "name": "stderr",
     "output_type": "stream",
     "text": [
      "  3%|▎         | 515/16327 [54:27<24:13:25,  5.52s/it]"
     ]
    },
    {
     "name": "stdout",
     "output_type": "stream",
     "text": [
      "Markdown content saved to cs_ai_markdown\\2309.06519v1.md\n",
      "Process on 514: Completed\n"
     ]
    },
    {
     "name": "stderr",
     "output_type": "stream",
     "text": [
      "  3%|▎         | 516/16327 [54:31<21:38:32,  4.93s/it]"
     ]
    },
    {
     "name": "stdout",
     "output_type": "stream",
     "text": [
      "Markdown content saved to cs_ai_markdown\\2309.05943v1.md\n",
      "Process on 515: Completed\n"
     ]
    },
    {
     "name": "stderr",
     "output_type": "stream",
     "text": [
      "  3%|▎         | 517/16327 [54:36<22:13:26,  5.06s/it]"
     ]
    },
    {
     "name": "stdout",
     "output_type": "stream",
     "text": [
      "Markdown content saved to cs_ai_markdown\\2309.05922v1.md\n",
      "Process on 516: Completed\n"
     ]
    },
    {
     "name": "stderr",
     "output_type": "stream",
     "text": [
      "  3%|▎         | 518/16327 [54:40<21:01:25,  4.79s/it]"
     ]
    },
    {
     "name": "stdout",
     "output_type": "stream",
     "text": [
      "Markdown content saved to cs_ai_markdown\\2309.06382v2.md\n",
      "Process on 517: Completed\n"
     ]
    },
    {
     "name": "stderr",
     "output_type": "stream",
     "text": [
      "  3%|▎         | 519/16327 [54:44<19:36:08,  4.46s/it]"
     ]
    },
    {
     "name": "stdout",
     "output_type": "stream",
     "text": [
      "Markdown content saved to cs_ai_markdown\\2309.06132v2.md\n",
      "Process on 518: Completed\n"
     ]
    },
    {
     "name": "stderr",
     "output_type": "stream",
     "text": [
      "  3%|▎         | 520/16327 [54:53<25:26:42,  5.80s/it]"
     ]
    },
    {
     "name": "stdout",
     "output_type": "stream",
     "text": [
      "Markdown content saved to cs_ai_markdown\\2309.06223v2.md\n",
      "Process on 519: Completed\n"
     ]
    },
    {
     "name": "stderr",
     "output_type": "stream",
     "text": [
      "  3%|▎         | 521/16327 [55:01<29:07:10,  6.63s/it]"
     ]
    },
    {
     "name": "stdout",
     "output_type": "stream",
     "text": [
      "Markdown content saved to cs_ai_markdown\\2309.07178v1.md\n",
      "Process on 520: Completed\n"
     ]
    },
    {
     "name": "stderr",
     "output_type": "stream",
     "text": [
      "  3%|▎         | 522/16327 [56:25<131:04:36, 29.86s/it]"
     ]
    },
    {
     "name": "stdout",
     "output_type": "stream",
     "text": [
      "Markdown content saved to cs_ai_markdown\\2309.06029v1.md\n",
      "Process on 521: Completed\n"
     ]
    },
    {
     "name": "stderr",
     "output_type": "stream",
     "text": [
      "  3%|▎         | 523/16327 [56:29<97:00:09, 22.10s/it] "
     ]
    },
    {
     "name": "stdout",
     "output_type": "stream",
     "text": [
      "Markdown content saved to cs_ai_markdown\\2309.05650v1.md\n",
      "Process on 522: Completed\n"
     ]
    },
    {
     "name": "stderr",
     "output_type": "stream",
     "text": [
      "  3%|▎         | 524/16327 [56:34<74:11:44, 16.90s/it]"
     ]
    },
    {
     "name": "stdout",
     "output_type": "stream",
     "text": [
      "Markdown content saved to cs_ai_markdown\\2309.05787v1.md\n",
      "Process on 523: Completed\n"
     ]
    },
    {
     "name": "stderr",
     "output_type": "stream",
     "text": [
      "  3%|▎         | 525/16327 [56:38<57:28:00, 13.09s/it]"
     ]
    },
    {
     "name": "stdout",
     "output_type": "stream",
     "text": [
      "Markdown content saved to cs_ai_markdown\\2309.08624v1.md\n",
      "Process on 524: Completed\n"
     ]
    },
    {
     "name": "stderr",
     "output_type": "stream",
     "text": [
      "  3%|▎         | 526/16327 [56:43<46:33:14, 10.61s/it]"
     ]
    },
    {
     "name": "stdout",
     "output_type": "stream",
     "text": [
      "Markdown content saved to cs_ai_markdown\\2309.05295v1.md\n",
      "Process on 525: Completed\n"
     ]
    },
    {
     "name": "stderr",
     "output_type": "stream",
     "text": [
      "  3%|▎         | 527/16327 [56:48<38:21:24,  8.74s/it]"
     ]
    },
    {
     "name": "stdout",
     "output_type": "stream",
     "text": [
      "Markdown content saved to cs_ai_markdown\\2309.05507v1.md\n",
      "Process on 526: Completed\n"
     ]
    },
    {
     "name": "stderr",
     "output_type": "stream",
     "text": [
      "  3%|▎         | 528/16327 [56:52<32:54:49,  7.50s/it]"
     ]
    },
    {
     "name": "stdout",
     "output_type": "stream",
     "text": [
      "Markdown content saved to cs_ai_markdown\\2309.05845v1.md\n",
      "Process on 527: Completed\n"
     ]
    },
    {
     "name": "stderr",
     "output_type": "stream",
     "text": [
      "  3%|▎         | 529/16327 [56:55<26:55:01,  6.13s/it]"
     ]
    },
    {
     "name": "stdout",
     "output_type": "stream",
     "text": [
      "Markdown content saved to cs_ai_markdown\\2309.05831v1.md\n",
      "Process on 528: Completed\n"
     ]
    },
    {
     "name": "stderr",
     "output_type": "stream",
     "text": [
      "  3%|▎         | 530/16327 [57:12<41:10:35,  9.38s/it]"
     ]
    },
    {
     "name": "stdout",
     "output_type": "stream",
     "text": [
      "Markdown content saved to cs_ai_markdown\\2309.05582v1.md\n",
      "Process on 529: Completed\n"
     ]
    },
    {
     "name": "stderr",
     "output_type": "stream",
     "text": [
      "  3%|▎         | 531/16327 [57:16<33:26:04,  7.62s/it]"
     ]
    },
    {
     "name": "stdout",
     "output_type": "stream",
     "text": [
      "Markdown content saved to cs_ai_markdown\\2309.05183v1.md\n",
      "Process on 530: Completed\n"
     ]
    },
    {
     "name": "stderr",
     "output_type": "stream",
     "text": [
      "  3%|▎         | 532/16327 [59:06<168:09:28, 38.33s/it]"
     ]
    },
    {
     "name": "stdout",
     "output_type": "stream",
     "text": [
      "Markdown content saved to cs_ai_markdown\\2309.05430v1.md\n",
      "Process on 531: Completed\n"
     ]
    },
    {
     "name": "stderr",
     "output_type": "stream",
     "text": [
      "  3%|▎         | 533/16327 [59:10<123:44:00, 28.20s/it]"
     ]
    },
    {
     "name": "stdout",
     "output_type": "stream",
     "text": [
      "Markdown content saved to cs_ai_markdown\\2309.05681v1.md\n",
      "Process on 532: Completed\n"
     ]
    },
    {
     "name": "stderr",
     "output_type": "stream",
     "text": [
      "  3%|▎         | 534/16327 [59:16<94:53:11, 21.63s/it] "
     ]
    },
    {
     "name": "stdout",
     "output_type": "stream",
     "text": [
      "Markdown content saved to cs_ai_markdown\\2309.05076v1.md\n",
      "Process on 533: Completed\n"
     ]
    },
    {
     "name": "stderr",
     "output_type": "stream",
     "text": [
      "  3%|▎         | 535/16327 [59:19<70:01:40, 15.96s/it]"
     ]
    },
    {
     "name": "stdout",
     "output_type": "stream",
     "text": [
      "Markdown content saved to cs_ai_markdown\\2309.05088v1.md\n",
      "Process on 534: Completed\n"
     ]
    },
    {
     "name": "stderr",
     "output_type": "stream",
     "text": [
      "  3%|▎         | 536/16327 [59:24<54:40:33, 12.46s/it]"
     ]
    },
    {
     "name": "stdout",
     "output_type": "stream",
     "text": [
      "Markdown content saved to cs_ai_markdown\\2309.08622v2.md\n",
      "Process on 535: Completed\n"
     ]
    },
    {
     "name": "stderr",
     "output_type": "stream",
     "text": [
      "  3%|▎         | 537/16327 [1:00:14<104:54:06, 23.92s/it]"
     ]
    },
    {
     "name": "stdout",
     "output_type": "stream",
     "text": [
      "Markdown content saved to cs_ai_markdown\\2309.05062v1.md\n",
      "Process on 536: Completed\n"
     ]
    },
    {
     "name": "stderr",
     "output_type": "stream",
     "text": [
      "  3%|▎         | 538/16327 [1:00:18<78:41:08, 17.94s/it] "
     ]
    },
    {
     "name": "stdout",
     "output_type": "stream",
     "text": [
      "Markdown content saved to cs_ai_markdown\\2309.05682v1.md\n",
      "Process on 537: Completed\n"
     ]
    },
    {
     "name": "stderr",
     "output_type": "stream",
     "text": [
      "  3%|▎         | 539/16327 [1:00:23<60:59:57, 13.91s/it]"
     ]
    },
    {
     "name": "stdout",
     "output_type": "stream",
     "text": [
      "Markdown content saved to cs_ai_markdown\\2309.06558v1.md\n",
      "Process on 538: Completed\n"
     ]
    },
    {
     "name": "stderr",
     "output_type": "stream",
     "text": [
      "  3%|▎         | 540/16327 [1:00:28<49:12:50, 11.22s/it]"
     ]
    },
    {
     "name": "stdout",
     "output_type": "stream",
     "text": [
      "Markdown content saved to cs_ai_markdown\\2309.05680v2.md\n",
      "Process on 539: Completed\n"
     ]
    },
    {
     "name": "stderr",
     "output_type": "stream",
     "text": [
      "  3%|▎         | 541/16327 [1:00:36<44:59:36, 10.26s/it]"
     ]
    },
    {
     "name": "stdout",
     "output_type": "stream",
     "text": [
      "Markdown content saved to cs_ai_markdown\\2309.04704v1.md\n",
      "Process on 540: Completed\n"
     ]
    },
    {
     "name": "stderr",
     "output_type": "stream",
     "text": [
      "  3%|▎         | 542/16327 [1:01:54<134:07:15, 30.59s/it]"
     ]
    },
    {
     "name": "stdout",
     "output_type": "stream",
     "text": [
      "Markdown content saved to cs_ai_markdown\\2309.13059v1.md\n",
      "Process on 541: Completed\n"
     ]
    },
    {
     "name": "stderr",
     "output_type": "stream",
     "text": [
      "  3%|▎         | 543/16327 [1:02:10<115:35:44, 26.36s/it]"
     ]
    },
    {
     "name": "stdout",
     "output_type": "stream",
     "text": [
      "Markdown content saved to cs_ai_markdown\\2310.05951v2.md\n",
      "Process on 542: Completed\n"
     ]
    },
    {
     "name": "stderr",
     "output_type": "stream",
     "text": [
      "  3%|▎         | 544/16327 [1:02:15<87:12:57, 19.89s/it] "
     ]
    },
    {
     "name": "stdout",
     "output_type": "stream",
     "text": [
      "Markdown content saved to cs_ai_markdown\\2309.04105v1.md\n",
      "Process on 543: Completed\n"
     ]
    },
    {
     "name": "stderr",
     "output_type": "stream",
     "text": [
      "  3%|▎         | 545/16327 [1:02:27<77:01:20, 17.57s/it]"
     ]
    },
    {
     "name": "stdout",
     "output_type": "stream",
     "text": [
      "Markdown content saved to cs_ai_markdown\\2309.13055v1.md\n",
      "Process on 544: Completed\n"
     ]
    },
    {
     "name": "stderr",
     "output_type": "stream",
     "text": [
      "  3%|▎         | 546/16327 [1:02:31<58:34:11, 13.36s/it]"
     ]
    },
    {
     "name": "stdout",
     "output_type": "stream",
     "text": [
      "Markdown content saved to cs_ai_markdown\\2309.04426v1.md\n",
      "Process on 545: Completed\n"
     ]
    },
    {
     "name": "stderr",
     "output_type": "stream",
     "text": [
      "  3%|▎         | 547/16327 [1:03:13<97:14:57, 22.19s/it]"
     ]
    },
    {
     "name": "stdout",
     "output_type": "stream",
     "text": [
      "Markdown content saved to cs_ai_markdown\\2309.04069v1.md\n",
      "Process on 546: Completed\n"
     ]
    },
    {
     "name": "stderr",
     "output_type": "stream",
     "text": [
      "  3%|▎         | 548/16327 [1:03:21<77:46:17, 17.74s/it]"
     ]
    },
    {
     "name": "stdout",
     "output_type": "stream",
     "text": [
      "Markdown content saved to cs_ai_markdown\\2310.12986v1.md\n",
      "Process on 547: Completed\n"
     ]
    },
    {
     "name": "stderr",
     "output_type": "stream",
     "text": [
      "  3%|▎         | 549/16327 [1:03:26<61:14:58, 13.98s/it]"
     ]
    },
    {
     "name": "stdout",
     "output_type": "stream",
     "text": [
      "Markdown content saved to cs_ai_markdown\\2309.04142v2.md\n",
      "Process on 548: Completed\n"
     ]
    },
    {
     "name": "stderr",
     "output_type": "stream",
     "text": [
      "  3%|▎         | 550/16327 [1:03:37<57:32:02, 13.13s/it]"
     ]
    },
    {
     "name": "stdout",
     "output_type": "stream",
     "text": [
      "Markdown content saved to cs_ai_markdown\\2309.04339v2.md\n",
      "Process on 549: Completed\n"
     ]
    },
    {
     "name": "stderr",
     "output_type": "stream",
     "text": [
      "  3%|▎         | 551/16327 [1:03:40<44:18:41, 10.11s/it]"
     ]
    },
    {
     "name": "stdout",
     "output_type": "stream",
     "text": [
      "Markdown content saved to cs_ai_markdown\\2309.04508v1.md\n",
      "Process on 550: Completed\n"
     ]
    },
    {
     "name": "stderr",
     "output_type": "stream",
     "text": [
      "  3%|▎         | 552/16327 [1:03:45<37:20:39,  8.52s/it]"
     ]
    },
    {
     "name": "stdout",
     "output_type": "stream",
     "text": [
      "Markdown content saved to cs_ai_markdown\\2309.13057v2.md\n",
      "Process on 551: Completed\n"
     ]
    },
    {
     "name": "stderr",
     "output_type": "stream",
     "text": [
      "  3%|▎         | 553/16327 [1:03:49<30:43:02,  7.01s/it]"
     ]
    },
    {
     "name": "stdout",
     "output_type": "stream",
     "text": [
      "Markdown content saved to cs_ai_markdown\\2309.04074v1.md\n",
      "Process on 552: Completed\n"
     ]
    },
    {
     "name": "stderr",
     "output_type": "stream",
     "text": [
      "  3%|▎         | 554/16327 [1:03:52<25:43:24,  5.87s/it]"
     ]
    },
    {
     "name": "stdout",
     "output_type": "stream",
     "text": [
      "Markdown content saved to cs_ai_markdown\\2309.04295v1.md\n",
      "Process on 553: Completed\n"
     ]
    },
    {
     "name": "stderr",
     "output_type": "stream",
     "text": [
      "  3%|▎         | 555/16327 [1:04:10<41:46:43,  9.54s/it]"
     ]
    },
    {
     "name": "stdout",
     "output_type": "stream",
     "text": [
      "Markdown content saved to cs_ai_markdown\\2309.03970v1.md\n",
      "Process on 554: Completed\n"
     ]
    },
    {
     "name": "stderr",
     "output_type": "stream",
     "text": [
      "  3%|▎         | 556/16327 [1:04:14<35:22:55,  8.08s/it]"
     ]
    },
    {
     "name": "stdout",
     "output_type": "stream",
     "text": [
      "Markdown content saved to cs_ai_markdown\\2309.03844v1.md\n",
      "Process on 555: Completed\n"
     ]
    },
    {
     "name": "stderr",
     "output_type": "stream",
     "text": [
      "  3%|▎         | 557/16327 [1:04:18<29:25:05,  6.72s/it]"
     ]
    },
    {
     "name": "stdout",
     "output_type": "stream",
     "text": [
      "Markdown content saved to cs_ai_markdown\\2309.03659v1.md\n",
      "Process on 556: Completed\n"
     ]
    },
    {
     "name": "stderr",
     "output_type": "stream",
     "text": [
      "  3%|▎         | 558/16327 [1:04:21<24:44:40,  5.65s/it]"
     ]
    },
    {
     "name": "stdout",
     "output_type": "stream",
     "text": [
      "Markdown content saved to cs_ai_markdown\\2310.05899v1.md\n",
      "Process on 557: Completed\n"
     ]
    },
    {
     "name": "stderr",
     "output_type": "stream",
     "text": [
      "  3%|▎         | 559/16327 [1:04:25<21:51:22,  4.99s/it]"
     ]
    },
    {
     "name": "stdout",
     "output_type": "stream",
     "text": [
      "Markdown content saved to cs_ai_markdown\\2309.03638v1.md\n",
      "Process on 558: Completed\n"
     ]
    },
    {
     "name": "stderr",
     "output_type": "stream",
     "text": [
      "  3%|▎         | 560/16327 [1:04:28<20:17:27,  4.63s/it]"
     ]
    },
    {
     "name": "stdout",
     "output_type": "stream",
     "text": [
      "Markdown content saved to cs_ai_markdown\\2309.03318v1.md\n",
      "Process on 559: Completed\n"
     ]
    },
    {
     "name": "stderr",
     "output_type": "stream",
     "text": [
      "  3%|▎         | 561/16327 [1:04:32<19:06:59,  4.37s/it]"
     ]
    },
    {
     "name": "stdout",
     "output_type": "stream",
     "text": [
      "Markdown content saved to cs_ai_markdown\\2309.06550v1.md\n",
      "Process on 560: Completed\n"
     ]
    },
    {
     "name": "stderr",
     "output_type": "stream",
     "text": [
      "  3%|▎         | 562/16327 [1:05:00<49:21:46, 11.27s/it]"
     ]
    },
    {
     "name": "stdout",
     "output_type": "stream",
     "text": [
      "Markdown content saved to cs_ai_markdown\\2309.02858v1.md\n",
      "Process on 561: Completed\n"
     ]
    },
    {
     "name": "stderr",
     "output_type": "stream",
     "text": [
      "  3%|▎         | 563/16327 [1:05:09<46:38:37, 10.65s/it]"
     ]
    },
    {
     "name": "stdout",
     "output_type": "stream",
     "text": [
      "Markdown content saved to cs_ai_markdown\\2309.02820v1.md\n",
      "Process on 562: Completed\n"
     ]
    },
    {
     "name": "stderr",
     "output_type": "stream",
     "text": [
      "  3%|▎         | 564/16327 [1:05:16<41:32:29,  9.49s/it]"
     ]
    },
    {
     "name": "stdout",
     "output_type": "stream",
     "text": [
      "Markdown content saved to cs_ai_markdown\\2309.13049v1.md\n",
      "Process on 563: Completed\n"
     ]
    },
    {
     "name": "stderr",
     "output_type": "stream",
     "text": [
      "  3%|▎         | 565/16327 [1:05:22<37:27:51,  8.56s/it]"
     ]
    },
    {
     "name": "stdout",
     "output_type": "stream",
     "text": [
      "Markdown content saved to cs_ai_markdown\\2309.02986v1.md\n",
      "Process on 564: Completed\n"
     ]
    },
    {
     "name": "stderr",
     "output_type": "stream",
     "text": [
      "  3%|▎         | 566/16327 [1:05:27<33:18:16,  7.61s/it]"
     ]
    },
    {
     "name": "stdout",
     "output_type": "stream",
     "text": [
      "Markdown content saved to cs_ai_markdown\\2309.02783v1.md\n",
      "Process on 565: Completed\n"
     ]
    },
    {
     "name": "stderr",
     "output_type": "stream",
     "text": [
      "  3%|▎         | 567/16327 [1:05:31<28:02:00,  6.40s/it]"
     ]
    },
    {
     "name": "stdout",
     "output_type": "stream",
     "text": [
      "Markdown content saved to cs_ai_markdown\\2309.02740v1.md\n",
      "Process on 566: Completed\n"
     ]
    },
    {
     "name": "stderr",
     "output_type": "stream",
     "text": [
      "  3%|▎         | 568/16327 [1:05:35<24:48:53,  5.67s/it]"
     ]
    },
    {
     "name": "stdout",
     "output_type": "stream",
     "text": [
      "Markdown content saved to cs_ai_markdown\\2309.03023v1.md\n",
      "Process on 567: Completed\n"
     ]
    },
    {
     "name": "stderr",
     "output_type": "stream",
     "text": [
      "  3%|▎         | 569/16327 [1:05:40<23:39:10,  5.40s/it]"
     ]
    },
    {
     "name": "stdout",
     "output_type": "stream",
     "text": [
      "Markdown content saved to cs_ai_markdown\\2309.02009v1.md\n",
      "Process on 568: Completed\n"
     ]
    },
    {
     "name": "stderr",
     "output_type": "stream",
     "text": [
      "  3%|▎         | 570/16327 [1:05:48<27:41:44,  6.33s/it]"
     ]
    },
    {
     "name": "stdout",
     "output_type": "stream",
     "text": [
      "Markdown content saved to cs_ai_markdown\\2309.01922v1.md\n",
      "Process on 569: Completed\n"
     ]
    },
    {
     "name": "stderr",
     "output_type": "stream",
     "text": [
      "  3%|▎         | 571/16327 [1:06:03<39:03:07,  8.92s/it]"
     ]
    },
    {
     "name": "stdout",
     "output_type": "stream",
     "text": [
      "Markdown content saved to cs_ai_markdown\\2309.01995v1.md\n",
      "Process on 570: Completed\n"
     ]
    },
    {
     "name": "stderr",
     "output_type": "stream",
     "text": [
      "  4%|▎         | 572/16327 [1:06:07<33:00:12,  7.54s/it]"
     ]
    },
    {
     "name": "stdout",
     "output_type": "stream",
     "text": [
      "Markdown content saved to cs_ai_markdown\\2309.01988v1.md\n",
      "Process on 571: Completed\n"
     ]
    },
    {
     "name": "stderr",
     "output_type": "stream",
     "text": [
      "  4%|▎         | 573/16327 [1:06:21<41:18:55,  9.44s/it]"
     ]
    },
    {
     "name": "stdout",
     "output_type": "stream",
     "text": [
      "Markdown content saved to cs_ai_markdown\\2309.02473v1.md\n",
      "Process on 572: Completed\n"
     ]
    },
    {
     "name": "stderr",
     "output_type": "stream",
     "text": [
      "  4%|▎         | 574/16327 [1:06:31<41:00:15,  9.37s/it]"
     ]
    },
    {
     "name": "stdout",
     "output_type": "stream",
     "text": [
      "Markdown content saved to cs_ai_markdown\\2309.02427v2.md\n",
      "Process on 573: Completed\n"
     ]
    },
    {
     "name": "stderr",
     "output_type": "stream",
     "text": [
      "  4%|▎         | 575/16327 [1:06:34<33:53:50,  7.75s/it]"
     ]
    },
    {
     "name": "stdout",
     "output_type": "stream",
     "text": [
      "Markdown content saved to cs_ai_markdown\\2309.03231v1.md\n",
      "Process on 574: Completed\n"
     ]
    },
    {
     "name": "stderr",
     "output_type": "stream",
     "text": [
      "  4%|▎         | 576/16327 [1:06:47<39:32:37,  9.04s/it]"
     ]
    },
    {
     "name": "stdout",
     "output_type": "stream",
     "text": [
      "Markdown content saved to cs_ai_markdown\\2309.03234v1.md\n",
      "Process on 575: Completed\n"
     ]
    },
    {
     "name": "stderr",
     "output_type": "stream",
     "text": [
      "  4%|▎         | 577/16327 [1:06:49<30:39:48,  7.01s/it]"
     ]
    },
    {
     "name": "stdout",
     "output_type": "stream",
     "text": [
      "Markdown content saved to cs_ai_markdown\\2309.04491v1.md\n",
      "Process on 576: Completed\n"
     ]
    },
    {
     "name": "stderr",
     "output_type": "stream",
     "text": [
      "  4%|▎         | 578/16327 [1:06:56<31:19:38,  7.16s/it]"
     ]
    },
    {
     "name": "stdout",
     "output_type": "stream",
     "text": [
      "Markdown content saved to cs_ai_markdown\\2309.02614v1.md\n",
      "Process on 577: Completed\n"
     ]
    },
    {
     "name": "stderr",
     "output_type": "stream",
     "text": [
      "  4%|▎         | 579/16327 [1:07:13<43:41:31,  9.99s/it]"
     ]
    },
    {
     "name": "stdout",
     "output_type": "stream",
     "text": [
      "Markdown content saved to cs_ai_markdown\\2309.02590v1.md\n",
      "Process on 578: Completed\n"
     ]
    },
    {
     "name": "stderr",
     "output_type": "stream",
     "text": [
      "  4%|▎         | 580/16327 [1:07:26<48:12:43, 11.02s/it]"
     ]
    },
    {
     "name": "stdout",
     "output_type": "stream",
     "text": [
      "Markdown content saved to cs_ai_markdown\\2309.02328v1.md\n",
      "Process on 579: Completed\n"
     ]
    },
    {
     "name": "stderr",
     "output_type": "stream",
     "text": [
      "  4%|▎         | 581/16327 [1:07:38<48:28:36, 11.08s/it]"
     ]
    },
    {
     "name": "stdout",
     "output_type": "stream",
     "text": [
      "Markdown content saved to cs_ai_markdown\\2309.02157v1.md\n",
      "Process on 580: Completed\n"
     ]
    },
    {
     "name": "stderr",
     "output_type": "stream",
     "text": [
      "  4%|▎         | 582/16327 [1:07:41<39:02:29,  8.93s/it]"
     ]
    },
    {
     "name": "stdout",
     "output_type": "stream",
     "text": [
      "Markdown content saved to cs_ai_markdown\\2309.02005v1.md\n",
      "Process on 581: Completed\n"
     ]
    },
    {
     "name": "stderr",
     "output_type": "stream",
     "text": [
      "  4%|▎         | 583/16327 [1:07:48<36:22:00,  8.32s/it]"
     ]
    },
    {
     "name": "stdout",
     "output_type": "stream",
     "text": [
      "Markdown content saved to cs_ai_markdown\\2309.02072v3.md\n",
      "Process on 582: Completed\n"
     ]
    },
    {
     "name": "stderr",
     "output_type": "stream",
     "text": [
      "  4%|▎         | 584/16327 [1:07:57<37:01:34,  8.47s/it]"
     ]
    },
    {
     "name": "stdout",
     "output_type": "stream",
     "text": [
      "Markdown content saved to cs_ai_markdown\\2309.02603v1.md\n",
      "Process on 583: Completed\n"
     ]
    },
    {
     "name": "stderr",
     "output_type": "stream",
     "text": [
      "  4%|▎         | 585/16327 [1:08:02<32:50:55,  7.51s/it]"
     ]
    },
    {
     "name": "stdout",
     "output_type": "stream",
     "text": [
      "Markdown content saved to cs_ai_markdown\\2309.06495v1.md\n",
      "Process on 584: Completed\n"
     ]
    },
    {
     "name": "stderr",
     "output_type": "stream",
     "text": [
      "  4%|▎         | 586/16327 [1:09:24<129:33:18, 29.63s/it]"
     ]
    },
    {
     "name": "stdout",
     "output_type": "stream",
     "text": [
      "Markdown content saved to cs_ai_markdown\\2309.02230v1.md\n",
      "Process on 585: Completed\n"
     ]
    },
    {
     "name": "stderr",
     "output_type": "stream",
     "text": [
      "  4%|▎         | 587/16327 [1:09:31<100:28:28, 22.98s/it]"
     ]
    },
    {
     "name": "stdout",
     "output_type": "stream",
     "text": [
      "Markdown content saved to cs_ai_markdown\\2310.06845v1.md\n",
      "Process on 586: Completed\n"
     ]
    },
    {
     "name": "stderr",
     "output_type": "stream",
     "text": [
      "  4%|▎         | 588/16327 [1:09:40<81:28:04, 18.63s/it] "
     ]
    },
    {
     "name": "stdout",
     "output_type": "stream",
     "text": [
      "Markdown content saved to cs_ai_markdown\\2309.02029v1.md\n",
      "Process on 587: Completed\n"
     ]
    },
    {
     "name": "stderr",
     "output_type": "stream",
     "text": [
      "  4%|▎         | 589/16327 [1:09:43<61:19:25, 14.03s/it]"
     ]
    },
    {
     "name": "stdout",
     "output_type": "stream",
     "text": [
      "Markdown content saved to cs_ai_markdown\\2309.02022v1.md\n",
      "Process on 588: Completed\n"
     ]
    },
    {
     "name": "stderr",
     "output_type": "stream",
     "text": [
      "  4%|▎         | 590/16327 [1:10:19<90:06:43, 20.61s/it]"
     ]
    },
    {
     "name": "stdout",
     "output_type": "stream",
     "text": [
      "Markdown content saved to cs_ai_markdown\\2309.01778v2.md\n",
      "Process on 589: Completed\n"
     ]
    },
    {
     "name": "stderr",
     "output_type": "stream",
     "text": [
      "  4%|▎         | 591/16327 [1:10:25<70:29:44, 16.13s/it]"
     ]
    },
    {
     "name": "stdout",
     "output_type": "stream",
     "text": [
      "Markdown content saved to cs_ai_markdown\\2309.01660v1.md\n",
      "Process on 590: Completed\n"
     ]
    },
    {
     "name": "stderr",
     "output_type": "stream",
     "text": [
      "  4%|▎         | 592/16327 [1:10:29<55:34:26, 12.71s/it]"
     ]
    },
    {
     "name": "stdout",
     "output_type": "stream",
     "text": [
      "Markdown content saved to cs_ai_markdown\\2309.09980v1.md\n",
      "Process on 591: Completed\n"
     ]
    },
    {
     "name": "stderr",
     "output_type": "stream",
     "text": [
      "  4%|▎         | 593/16327 [1:10:49<64:10:54, 14.69s/it]"
     ]
    },
    {
     "name": "stdout",
     "output_type": "stream",
     "text": [
      "Markdown content saved to cs_ai_markdown\\2310.00010v1.md\n",
      "Process on 592: Completed\n"
     ]
    },
    {
     "name": "stderr",
     "output_type": "stream",
     "text": [
      "  4%|▎         | 594/16327 [1:10:58<57:08:56, 13.08s/it]"
     ]
    },
    {
     "name": "stdout",
     "output_type": "stream",
     "text": [
      "Markdown content saved to cs_ai_markdown\\2309.07141v1.md\n",
      "Process on 593: Completed\n"
     ]
    },
    {
     "name": "stderr",
     "output_type": "stream",
     "text": [
      "  4%|▎         | 595/16327 [1:11:02<45:10:17, 10.34s/it]"
     ]
    },
    {
     "name": "stdout",
     "output_type": "stream",
     "text": [
      "Markdown content saved to cs_ai_markdown\\2309.01622v1.md\n",
      "Process on 594: Completed\n"
     ]
    },
    {
     "name": "stderr",
     "output_type": "stream",
     "text": [
      "  4%|▎         | 596/16327 [1:11:08<39:39:43,  9.08s/it]"
     ]
    },
    {
     "name": "stdout",
     "output_type": "stream",
     "text": [
      "Markdown content saved to cs_ai_markdown\\2309.01734v1.md\n",
      "Process on 595: Completed\n"
     ]
    },
    {
     "name": "stderr",
     "output_type": "stream",
     "text": [
      "  4%|▎         | 597/16327 [1:11:17<39:21:47,  9.01s/it]"
     ]
    },
    {
     "name": "stdout",
     "output_type": "stream",
     "text": [
      "Markdown content saved to cs_ai_markdown\\2309.01302v1.md\n",
      "Process on 596: Completed\n"
     ]
    },
    {
     "name": "stderr",
     "output_type": "stream",
     "text": [
      "  4%|▎         | 598/16327 [1:11:26<40:09:22,  9.19s/it]"
     ]
    },
    {
     "name": "stdout",
     "output_type": "stream",
     "text": [
      "Markdown content saved to cs_ai_markdown\\2309.01055v1.md\n",
      "Process on 597: Completed\n"
     ]
    },
    {
     "name": "stderr",
     "output_type": "stream",
     "text": [
      "  4%|▎         | 599/16327 [1:11:44<51:18:04, 11.74s/it]"
     ]
    },
    {
     "name": "stdout",
     "output_type": "stream",
     "text": [
      "Markdown content saved to cs_ai_markdown\\2309.01211v1.md\n",
      "Process on 598: Completed\n"
     ]
    },
    {
     "name": "stderr",
     "output_type": "stream",
     "text": [
      "  4%|▎         | 600/16327 [1:11:48<40:49:49,  9.35s/it]"
     ]
    },
    {
     "name": "stdout",
     "output_type": "stream",
     "text": [
      "Markdown content saved to cs_ai_markdown\\2309.01173v1.md\n",
      "Process on 599: Completed\n"
     ]
    },
    {
     "name": "stderr",
     "output_type": "stream",
     "text": [
      "  4%|▎         | 601/16327 [1:11:59<42:46:16,  9.79s/it]"
     ]
    },
    {
     "name": "stdout",
     "output_type": "stream",
     "text": [
      "Markdown content saved to cs_ai_markdown\\2309.05668v1.md\n",
      "Process on 600: Completed\n"
     ]
    },
    {
     "name": "stderr",
     "output_type": "stream",
     "text": [
      "  4%|▎         | 602/16327 [1:12:04<37:06:01,  8.49s/it]"
     ]
    },
    {
     "name": "stdout",
     "output_type": "stream",
     "text": [
      "Markdown content saved to cs_ai_markdown\\2309.12356v1.md\n",
      "Process on 601: Completed\n"
     ]
    },
    {
     "name": "stderr",
     "output_type": "stream",
     "text": [
      "  4%|▎         | 603/16327 [1:12:11<34:55:15,  8.00s/it]"
     ]
    },
    {
     "name": "stdout",
     "output_type": "stream",
     "text": [
      "Markdown content saved to cs_ai_markdown\\2309.01038v1.md\n",
      "Process on 602: Completed\n"
     ]
    },
    {
     "name": "stderr",
     "output_type": "stream",
     "text": [
      "  4%|▎         | 604/16327 [1:12:14<28:49:26,  6.60s/it]"
     ]
    },
    {
     "name": "stdout",
     "output_type": "stream",
     "text": [
      "Markdown content saved to cs_ai_markdown\\2309.00944v1.md\n",
      "Process on 603: Completed\n"
     ]
    },
    {
     "name": "stderr",
     "output_type": "stream",
     "text": [
      "  4%|▎         | 605/16327 [1:12:29<39:34:01,  9.06s/it]"
     ]
    },
    {
     "name": "stdout",
     "output_type": "stream",
     "text": [
      "Markdown content saved to cs_ai_markdown\\2309.01026v2.md\n",
      "Process on 604: Completed\n"
     ]
    },
    {
     "name": "stderr",
     "output_type": "stream",
     "text": [
      "  4%|▎         | 606/16327 [1:12:33<33:11:43,  7.60s/it]"
     ]
    },
    {
     "name": "stdout",
     "output_type": "stream",
     "text": [
      "Markdown content saved to cs_ai_markdown\\2309.00900v2.md\n",
      "Process on 605: Completed\n"
     ]
    },
    {
     "name": "stderr",
     "output_type": "stream",
     "text": [
      "  4%|▎         | 607/16327 [1:12:43<35:29:56,  8.13s/it]"
     ]
    },
    {
     "name": "stdout",
     "output_type": "stream",
     "text": [
      "Markdown content saved to cs_ai_markdown\\2309.01025v1.md\n",
      "Process on 606: Completed\n"
     ]
    },
    {
     "name": "stderr",
     "output_type": "stream",
     "text": [
      "  4%|▎         | 608/16327 [1:12:49<32:24:28,  7.42s/it]"
     ]
    },
    {
     "name": "stdout",
     "output_type": "stream",
     "text": [
      "Markdown content saved to cs_ai_markdown\\2309.03092v1.md\n",
      "Process on 607: Completed\n"
     ]
    },
    {
     "name": "stderr",
     "output_type": "stream",
     "text": [
      "  4%|▎         | 609/16327 [1:12:52<26:40:23,  6.11s/it]"
     ]
    },
    {
     "name": "stdout",
     "output_type": "stream",
     "text": [
      "Markdown content saved to cs_ai_markdown\\2309.00422v1.md\n",
      "Process on 608: Completed\n"
     ]
    },
    {
     "name": "stderr",
     "output_type": "stream",
     "text": [
      "  4%|▎         | 610/16327 [1:13:00<30:09:40,  6.91s/it]"
     ]
    },
    {
     "name": "stdout",
     "output_type": "stream",
     "text": [
      "Markdown content saved to cs_ai_markdown\\2309.00356v1.md\n",
      "Process on 609: Completed\n"
     ]
    },
    {
     "name": "stderr",
     "output_type": "stream",
     "text": [
      "  4%|▎         | 611/16327 [1:13:12<36:04:32,  8.26s/it]"
     ]
    },
    {
     "name": "stdout",
     "output_type": "stream",
     "text": [
      "Markdown content saved to cs_ai_markdown\\2309.00252v1.md\n",
      "Process on 610: Completed\n"
     ]
    },
    {
     "name": "stderr",
     "output_type": "stream",
     "text": [
      "  4%|▎         | 612/16327 [1:13:14<28:37:55,  6.56s/it]"
     ]
    },
    {
     "name": "stdout",
     "output_type": "stream",
     "text": [
      "Markdown content saved to cs_ai_markdown\\2309.00317v1.md\n",
      "Process on 611: Completed\n"
     ]
    },
    {
     "name": "stderr",
     "output_type": "stream",
     "text": [
      "  4%|▍         | 613/16327 [1:13:23<31:22:54,  7.19s/it]"
     ]
    },
    {
     "name": "stdout",
     "output_type": "stream",
     "text": [
      "Markdown content saved to cs_ai_markdown\\2309.03225v1.md\n",
      "Process on 612: Completed\n"
     ]
    },
    {
     "name": "stderr",
     "output_type": "stream",
     "text": [
      "  4%|▍         | 614/16327 [1:13:33<35:24:40,  8.11s/it]"
     ]
    },
    {
     "name": "stdout",
     "output_type": "stream",
     "text": [
      "Markdown content saved to cs_ai_markdown\\2309.00357v1.md\n",
      "Process on 613: Completed\n"
     ]
    },
    {
     "name": "stderr",
     "output_type": "stream",
     "text": [
      "  4%|▍         | 615/16327 [1:13:38<30:34:42,  7.01s/it]"
     ]
    },
    {
     "name": "stdout",
     "output_type": "stream",
     "text": [
      "Markdown content saved to cs_ai_markdown\\2309.00699v1.md\n",
      "Process on 614: Completed\n"
     ]
    },
    {
     "name": "stderr",
     "output_type": "stream",
     "text": [
      "  4%|▍         | 616/16327 [1:13:41<25:27:22,  5.83s/it]"
     ]
    },
    {
     "name": "stdout",
     "output_type": "stream",
     "text": [
      "Markdown content saved to cs_ai_markdown\\2309.00208v1.md\n",
      "Process on 615: Completed\n"
     ]
    },
    {
     "name": "stderr",
     "output_type": "stream",
     "text": [
      "  4%|▍         | 617/16327 [1:13:52<32:21:18,  7.41s/it]"
     ]
    },
    {
     "name": "stdout",
     "output_type": "stream",
     "text": [
      "Markdown content saved to cs_ai_markdown\\2309.00064v1.md\n",
      "Process on 616: Completed\n"
     ]
    },
    {
     "name": "stderr",
     "output_type": "stream",
     "text": [
      "  4%|▍         | 618/16327 [1:13:59<31:34:55,  7.24s/it]"
     ]
    },
    {
     "name": "stdout",
     "output_type": "stream",
     "text": [
      "Markdown content saved to cs_ai_markdown\\2309.00408v1.md\n",
      "Process on 617: Completed\n"
     ]
    },
    {
     "name": "stderr",
     "output_type": "stream",
     "text": [
      "  4%|▍         | 619/16327 [1:14:02<27:03:21,  6.20s/it]"
     ]
    },
    {
     "name": "stdout",
     "output_type": "stream",
     "text": [
      "Markdown content saved to cs_ai_markdown\\2308.16464v1.md\n",
      "Process on 618: Completed\n"
     ]
    },
    {
     "name": "stderr",
     "output_type": "stream",
     "text": [
      "  4%|▍         | 620/16327 [1:14:06<23:46:58,  5.45s/it]"
     ]
    },
    {
     "name": "stdout",
     "output_type": "stream",
     "text": [
      "Markdown content saved to cs_ai_markdown\\2308.16498v1.md\n",
      "Process on 619: Completed\n"
     ]
    },
    {
     "name": "stderr",
     "output_type": "stream",
     "text": [
      "  4%|▍         | 621/16327 [1:14:10<21:48:01,  5.00s/it]"
     ]
    },
    {
     "name": "stdout",
     "output_type": "stream",
     "text": [
      "Markdown content saved to cs_ai_markdown\\2308.16741v2.md\n",
      "Process on 620: Completed\n"
     ]
    },
    {
     "name": "stderr",
     "output_type": "stream",
     "text": [
      "  4%|▍         | 622/16327 [1:14:14<19:58:51,  4.58s/it]"
     ]
    },
    {
     "name": "stdout",
     "output_type": "stream",
     "text": [
      "Markdown content saved to cs_ai_markdown\\2308.16769v2.md\n",
      "Process on 621: Completed\n"
     ]
    },
    {
     "name": "stderr",
     "output_type": "stream",
     "text": [
      "  4%|▍         | 623/16327 [1:14:25<28:33:41,  6.55s/it]"
     ]
    },
    {
     "name": "stdout",
     "output_type": "stream",
     "text": [
      "Markdown content saved to cs_ai_markdown\\2309.00138v1.md\n",
      "Process on 622: Completed\n"
     ]
    },
    {
     "name": "stderr",
     "output_type": "stream",
     "text": [
      "  4%|▍         | 624/16327 [1:14:32<29:12:40,  6.70s/it]"
     ]
    },
    {
     "name": "stdout",
     "output_type": "stream",
     "text": [
      "Markdown content saved to cs_ai_markdown\\2308.16785v2.md\n",
      "Process on 623: Completed\n"
     ]
    },
    {
     "name": "stderr",
     "output_type": "stream",
     "text": [
      "  4%|▍         | 625/16327 [1:14:36<25:56:09,  5.95s/it]"
     ]
    },
    {
     "name": "stdout",
     "output_type": "stream",
     "text": [
      "Markdown content saved to cs_ai_markdown\\2308.16870v1.md\n",
      "Process on 624: Completed\n"
     ]
    },
    {
     "name": "stderr",
     "output_type": "stream",
     "text": [
      "  4%|▍         | 626/16327 [1:14:59<48:15:05, 11.06s/it]"
     ]
    },
    {
     "name": "stdout",
     "output_type": "stream",
     "text": [
      "Markdown content saved to cs_ai_markdown\\2308.16818v2.md\n",
      "Process on 625: Completed\n"
     ]
    },
    {
     "name": "stderr",
     "output_type": "stream",
     "text": [
      "  4%|▍         | 627/16327 [1:15:38<85:04:21, 19.51s/it]"
     ]
    },
    {
     "name": "stdout",
     "output_type": "stream",
     "text": [
      "Markdown content saved to cs_ai_markdown\\2309.06580v1.md\n",
      "Process on 626: Completed\n"
     ]
    },
    {
     "name": "stderr",
     "output_type": "stream",
     "text": [
      "  4%|▍         | 628/16327 [1:15:46<69:39:41, 15.97s/it]"
     ]
    },
    {
     "name": "stdout",
     "output_type": "stream",
     "text": [
      "Markdown content saved to cs_ai_markdown\\2309.00087v1.md\n",
      "Process on 627: Completed\n"
     ]
    },
    {
     "name": "stderr",
     "output_type": "stream",
     "text": [
      "  4%|▍         | 629/16327 [1:15:53<58:29:01, 13.41s/it]"
     ]
    },
    {
     "name": "stdout",
     "output_type": "stream",
     "text": [
      "Markdown content saved to cs_ai_markdown\\2308.16505v2.md\n",
      "Process on 628: Completed\n"
     ]
    },
    {
     "name": "stderr",
     "output_type": "stream",
     "text": [
      "  4%|▍         | 630/16327 [1:16:06<56:46:55, 13.02s/it]"
     ]
    },
    {
     "name": "stdout",
     "output_type": "stream",
     "text": [
      "Markdown content saved to cs_ai_markdown\\2308.16538v1.md\n",
      "Process on 629: Completed\n"
     ]
    },
    {
     "name": "stderr",
     "output_type": "stream",
     "text": [
      "  4%|▍         | 631/16327 [1:17:19<135:27:35, 31.07s/it]"
     ]
    },
    {
     "name": "stdout",
     "output_type": "stream",
     "text": [
      "Markdown content saved to cs_ai_markdown\\2308.16490v2.md\n",
      "Process on 630: Completed\n"
     ]
    },
    {
     "name": "stderr",
     "output_type": "stream",
     "text": [
      "  4%|▍         | 632/16327 [1:17:27<105:18:16, 24.15s/it]"
     ]
    },
    {
     "name": "stdout",
     "output_type": "stream",
     "text": [
      "Markdown content saved to cs_ai_markdown\\2309.00135v1.md\n",
      "Process on 631: Completed\n"
     ]
    },
    {
     "name": "stderr",
     "output_type": "stream",
     "text": [
      "  4%|▍         | 633/16327 [1:17:34<82:59:22, 19.04s/it] "
     ]
    },
    {
     "name": "stdout",
     "output_type": "stream",
     "text": [
      "Markdown content saved to cs_ai_markdown\\2309.08615v1.md\n",
      "Process on 632: Completed\n"
     ]
    },
    {
     "name": "stderr",
     "output_type": "stream",
     "text": [
      "  4%|▍         | 634/16327 [1:17:37<62:34:18, 14.35s/it]"
     ]
    },
    {
     "name": "stdout",
     "output_type": "stream",
     "text": [
      "Markdown content saved to cs_ai_markdown\\2309.00652v1.md\n",
      "Process on 633: Completed\n"
     ]
    },
    {
     "name": "stderr",
     "output_type": "stream",
     "text": [
      "  4%|▍         | 635/16327 [1:17:40<47:46:20, 10.96s/it]"
     ]
    },
    {
     "name": "stdout",
     "output_type": "stream",
     "text": [
      "Markdown content saved to cs_ai_markdown\\2308.16377v1.md\n",
      "Process on 634: Completed\n"
     ]
    },
    {
     "name": "stderr",
     "output_type": "stream",
     "text": [
      "  4%|▍         | 636/16327 [1:17:45<39:47:31,  9.13s/it]"
     ]
    },
    {
     "name": "stdout",
     "output_type": "stream",
     "text": [
      "Markdown content saved to cs_ai_markdown\\2309.12352v1.md\n",
      "Process on 635: Completed\n"
     ]
    },
    {
     "name": "stderr",
     "output_type": "stream",
     "text": [
      "  4%|▍         | 637/16327 [1:17:49<32:13:37,  7.39s/it]"
     ]
    },
    {
     "name": "stdout",
     "output_type": "stream",
     "text": [
      "Markdown content saved to cs_ai_markdown\\2308.16361v1.md\n",
      "Process on 636: Completed\n"
     ]
    },
    {
     "name": "stderr",
     "output_type": "stream",
     "text": [
      "  4%|▍         | 638/16327 [1:17:54<29:08:05,  6.69s/it]"
     ]
    },
    {
     "name": "stdout",
     "output_type": "stream",
     "text": [
      "Markdown content saved to cs_ai_markdown\\2308.16245v2.md\n",
      "Process on 637: Completed\n"
     ]
    },
    {
     "name": "stderr",
     "output_type": "stream",
     "text": [
      "  4%|▍         | 639/16327 [1:17:58<25:47:12,  5.92s/it]"
     ]
    },
    {
     "name": "stdout",
     "output_type": "stream",
     "text": [
      "Markdown content saved to cs_ai_markdown\\2308.16113v1.md\n",
      "Process on 638: Completed\n"
     ]
    },
    {
     "name": "stderr",
     "output_type": "stream",
     "text": [
      "  4%|▍         | 640/16327 [1:18:00<21:37:04,  4.96s/it]"
     ]
    },
    {
     "name": "stdout",
     "output_type": "stream",
     "text": [
      "Markdown content saved to cs_ai_markdown\\2308.15901v1.md\n",
      "Process on 639: Completed\n"
     ]
    },
    {
     "name": "stderr",
     "output_type": "stream",
     "text": [
      "  4%|▍         | 641/16327 [1:18:07<23:25:09,  5.37s/it]"
     ]
    },
    {
     "name": "stdout",
     "output_type": "stream",
     "text": [
      "Markdown content saved to cs_ai_markdown\\2308.15905v1.md\n",
      "Process on 640: Completed\n"
     ]
    },
    {
     "name": "stderr",
     "output_type": "stream",
     "text": [
      "  4%|▍         | 642/16327 [1:18:10<20:44:28,  4.76s/it]"
     ]
    },
    {
     "name": "stdout",
     "output_type": "stream",
     "text": [
      "Markdown content saved to cs_ai_markdown\\2308.16364v1.md\n",
      "Process on 641: Completed\n"
     ]
    },
    {
     "name": "stderr",
     "output_type": "stream",
     "text": [
      "  4%|▍         | 643/16327 [1:18:33<44:04:00, 10.11s/it]"
     ]
    },
    {
     "name": "stdout",
     "output_type": "stream",
     "text": [
      "Markdown content saved to cs_ai_markdown\\2308.16126v1.md\n",
      "Process on 642: Completed\n"
     ]
    },
    {
     "name": "stderr",
     "output_type": "stream",
     "text": [
      "  4%|▍         | 644/16327 [1:18:35<33:54:07,  7.78s/it]"
     ]
    },
    {
     "name": "stdout",
     "output_type": "stream",
     "text": [
      "Markdown content saved to cs_ai_markdown\\2309.04487v1.md\n",
      "Process on 643: Completed\n"
     ]
    },
    {
     "name": "stderr",
     "output_type": "stream",
     "text": [
      "  4%|▍         | 645/16327 [1:18:39<28:14:17,  6.48s/it]"
     ]
    },
    {
     "name": "stdout",
     "output_type": "stream",
     "text": [
      "Markdown content saved to cs_ai_markdown\\2309.00646v2.md\n",
      "Process on 644: Completed\n"
     ]
    },
    {
     "name": "stderr",
     "output_type": "stream",
     "text": [
      "  4%|▍         | 646/16327 [1:18:41<22:51:44,  5.25s/it]"
     ]
    },
    {
     "name": "stdout",
     "output_type": "stream",
     "text": [
      "Markdown content saved to cs_ai_markdown\\2308.15710v1.md\n",
      "Process on 645: Completed\n"
     ]
    },
    {
     "name": "stderr",
     "output_type": "stream",
     "text": [
      "  4%|▍         | 647/16327 [1:18:44<19:26:35,  4.46s/it]"
     ]
    },
    {
     "name": "stdout",
     "output_type": "stream",
     "text": [
      "Markdown content saved to cs_ai_markdown\\2308.15819v1.md\n",
      "Process on 646: Completed\n"
     ]
    },
    {
     "name": "stderr",
     "output_type": "stream",
     "text": [
      "  4%|▍         | 648/16327 [1:18:47<17:42:01,  4.06s/it]"
     ]
    },
    {
     "name": "stdout",
     "output_type": "stream",
     "text": [
      "Markdown content saved to cs_ai_markdown\\2308.15877v1.md\n",
      "Process on 647: Completed\n"
     ]
    },
    {
     "name": "stderr",
     "output_type": "stream",
     "text": [
      "  4%|▍         | 649/16327 [1:18:50<16:22:37,  3.76s/it]"
     ]
    },
    {
     "name": "stdout",
     "output_type": "stream",
     "text": [
      "Markdown content saved to cs_ai_markdown\\2308.15887v1.md\n",
      "Process on 648: Completed\n"
     ]
    },
    {
     "name": "stderr",
     "output_type": "stream",
     "text": [
      "  4%|▍         | 650/16327 [1:18:53<15:47:11,  3.63s/it]"
     ]
    },
    {
     "name": "stdout",
     "output_type": "stream",
     "text": [
      "Markdown content saved to cs_ai_markdown\\2309.00644v1.md\n",
      "Process on 649: Completed\n"
     ]
    },
    {
     "name": "stderr",
     "output_type": "stream",
     "text": [
      "  4%|▍         | 651/16327 [1:18:55<14:14:38,  3.27s/it]"
     ]
    },
    {
     "name": "stdout",
     "output_type": "stream",
     "text": [
      "Markdown content saved to cs_ai_markdown\\2308.15897v1.md\n",
      "Process on 650: Completed\n"
     ]
    },
    {
     "name": "stderr",
     "output_type": "stream",
     "text": [
      "  4%|▍         | 652/16327 [1:18:58<13:41:50,  3.15s/it]"
     ]
    },
    {
     "name": "stdout",
     "output_type": "stream",
     "text": [
      "Markdown content saved to cs_ai_markdown\\2308.15899v1.md\n",
      "Process on 651: Completed\n"
     ]
    },
    {
     "name": "stderr",
     "output_type": "stream",
     "text": [
      "  4%|▍         | 653/16327 [1:19:02<14:07:16,  3.24s/it]"
     ]
    },
    {
     "name": "stdout",
     "output_type": "stream",
     "text": [
      "Markdown content saved to cs_ai_markdown\\2308.15965v1.md\n",
      "Process on 652: Completed\n"
     ]
    },
    {
     "name": "stderr",
     "output_type": "stream",
     "text": [
      "  4%|▍         | 654/16327 [1:19:05<14:38:22,  3.36s/it]"
     ]
    },
    {
     "name": "stdout",
     "output_type": "stream",
     "text": [
      "Markdown content saved to cs_ai_markdown\\2308.16328v1.md\n",
      "Process on 653: Completed\n"
     ]
    },
    {
     "name": "stderr",
     "output_type": "stream",
     "text": [
      "  4%|▍         | 655/16327 [1:19:50<68:30:33, 15.74s/it]"
     ]
    },
    {
     "name": "stdout",
     "output_type": "stream",
     "text": [
      "Markdown content saved to cs_ai_markdown\\2308.14991v1.md\n",
      "Process on 654: Completed\n"
     ]
    },
    {
     "name": "stderr",
     "output_type": "stream",
     "text": [
      "  4%|▍         | 656/16327 [1:20:03<64:16:04, 14.76s/it]"
     ]
    },
    {
     "name": "stdout",
     "output_type": "stream",
     "text": [
      "Markdown content saved to cs_ai_markdown\\2309.08612v1.md\n",
      "Process on 655: Completed\n"
     ]
    },
    {
     "name": "stderr",
     "output_type": "stream",
     "text": [
      "  4%|▍         | 657/16327 [1:20:06<49:21:07, 11.34s/it]"
     ]
    },
    {
     "name": "stdout",
     "output_type": "stream",
     "text": [
      "Markdown content saved to cs_ai_markdown\\2308.15339v1.md\n",
      "Process on 656: Completed\n"
     ]
    },
    {
     "name": "stderr",
     "output_type": "stream",
     "text": [
      "  4%|▍         | 658/16327 [1:20:13<44:17:47, 10.18s/it]"
     ]
    },
    {
     "name": "stdout",
     "output_type": "stream",
     "text": [
      "Markdown content saved to cs_ai_markdown\\2308.15088v1.md\n",
      "Process on 657: Completed\n"
     ]
    },
    {
     "name": "stderr",
     "output_type": "stream",
     "text": [
      "  4%|▍         | 659/16327 [1:20:18<37:41:37,  8.66s/it]"
     ]
    },
    {
     "name": "stdout",
     "output_type": "stream",
     "text": [
      "Markdown content saved to cs_ai_markdown\\2308.15452v3.md\n",
      "Process on 658: Completed\n"
     ]
    },
    {
     "name": "stderr",
     "output_type": "stream",
     "text": [
      "  4%|▍         | 660/16327 [1:20:28<39:00:16,  8.96s/it]"
     ]
    },
    {
     "name": "stdout",
     "output_type": "stream",
     "text": [
      "Markdown content saved to cs_ai_markdown\\2308.15284v1.md\n",
      "Process on 659: Completed\n"
     ]
    },
    {
     "name": "stderr",
     "output_type": "stream",
     "text": [
      "  4%|▍         | 661/16327 [1:20:34<34:44:43,  7.98s/it]"
     ]
    },
    {
     "name": "stdout",
     "output_type": "stream",
     "text": [
      "Markdown content saved to cs_ai_markdown\\2308.15225v2.md\n",
      "Process on 660: Completed\n"
     ]
    },
    {
     "name": "stderr",
     "output_type": "stream",
     "text": [
      "  4%|▍         | 662/16327 [1:20:38<29:08:51,  6.70s/it]"
     ]
    },
    {
     "name": "stdout",
     "output_type": "stream",
     "text": [
      "Markdown content saved to cs_ai_markdown\\2308.15192v1.md\n",
      "Process on 661: Completed\n"
     ]
    },
    {
     "name": "stderr",
     "output_type": "stream",
     "text": [
      "  4%|▍         | 663/16327 [1:20:41<24:31:37,  5.64s/it]"
     ]
    },
    {
     "name": "stdout",
     "output_type": "stream",
     "text": [
      "Markdown content saved to cs_ai_markdown\\2308.14972v1.md\n",
      "Process on 662: Completed\n"
     ]
    },
    {
     "name": "stderr",
     "output_type": "stream",
     "text": [
      "  4%|▍         | 664/16327 [1:21:04<48:04:54, 11.05s/it]"
     ]
    },
    {
     "name": "stdout",
     "output_type": "stream",
     "text": [
      "Markdown content saved to cs_ai_markdown\\2308.15639v1.md\n",
      "Process on 663: Completed\n"
     ]
    },
    {
     "name": "stderr",
     "output_type": "stream",
     "text": [
      "  4%|▍         | 665/16327 [1:21:11<41:55:56,  9.64s/it]"
     ]
    },
    {
     "name": "stdout",
     "output_type": "stream",
     "text": [
      "Markdown content saved to cs_ai_markdown\\2308.15298v1.md\n",
      "Process on 664: Completed\n"
     ]
    },
    {
     "name": "stderr",
     "output_type": "stream",
     "text": [
      "  4%|▍         | 666/16327 [1:21:14<34:15:05,  7.87s/it]"
     ]
    },
    {
     "name": "stdout",
     "output_type": "stream",
     "text": [
      "Markdown content saved to cs_ai_markdown\\2308.15230v1.md\n",
      "Process on 665: Completed\n"
     ]
    },
    {
     "name": "stderr",
     "output_type": "stream",
     "text": [
      "  4%|▍         | 667/16327 [1:21:19<29:22:03,  6.75s/it]"
     ]
    },
    {
     "name": "stdout",
     "output_type": "stream",
     "text": [
      "Markdown content saved to cs_ai_markdown\\2308.15256v1.md\n",
      "Process on 666: Completed\n"
     ]
    },
    {
     "name": "stderr",
     "output_type": "stream",
     "text": [
      "  4%|▍         | 668/16327 [1:21:38<45:27:20, 10.45s/it]"
     ]
    },
    {
     "name": "stdout",
     "output_type": "stream",
     "text": [
      "Markdown content saved to cs_ai_markdown\\2309.03213v1.md\n",
      "Process on 667: Completed\n"
     ]
    },
    {
     "name": "stderr",
     "output_type": "stream",
     "text": [
      "  4%|▍         | 669/16327 [1:21:45<41:41:31,  9.59s/it]"
     ]
    },
    {
     "name": "stdout",
     "output_type": "stream",
     "text": [
      "Markdown content saved to cs_ai_markdown\\2308.15514v2.md\n",
      "Process on 668: Completed\n"
     ]
    },
    {
     "name": "stderr",
     "output_type": "stream",
     "text": [
      "  4%|▍         | 670/16327 [1:21:52<38:14:29,  8.79s/it]"
     ]
    },
    {
     "name": "stdout",
     "output_type": "stream",
     "text": [
      "Markdown content saved to cs_ai_markdown\\2308.15030v1.md\n",
      "Process on 669: Completed\n"
     ]
    },
    {
     "name": "stderr",
     "output_type": "stream",
     "text": [
      "  4%|▍         | 671/16327 [1:21:58<34:20:03,  7.89s/it]"
     ]
    },
    {
     "name": "stdout",
     "output_type": "stream",
     "text": [
      "Markdown content saved to cs_ai_markdown\\2308.15063v1.md\n",
      "Process on 670: Completed\n"
     ]
    },
    {
     "name": "stderr",
     "output_type": "stream",
     "text": [
      "  4%|▍         | 672/16327 [1:22:05<33:02:38,  7.60s/it]"
     ]
    },
    {
     "name": "stdout",
     "output_type": "stream",
     "text": [
      "Markdown content saved to cs_ai_markdown\\2308.15368v1.md\n",
      "Process on 671: Completed\n"
     ]
    },
    {
     "name": "stderr",
     "output_type": "stream",
     "text": [
      "  4%|▍         | 673/16327 [1:22:09<28:43:55,  6.61s/it]"
     ]
    },
    {
     "name": "stdout",
     "output_type": "stream",
     "text": [
      "Markdown content saved to cs_ai_markdown\\2308.15620v1.md\n",
      "Process on 672: Completed\n"
     ]
    },
    {
     "name": "stderr",
     "output_type": "stream",
     "text": [
      "  4%|▍         | 674/16327 [1:22:20<33:33:44,  7.72s/it]"
     ]
    },
    {
     "name": "stdout",
     "output_type": "stream",
     "text": [
      "Markdown content saved to cs_ai_markdown\\2308.15078v1.md\n",
      "Process on 673: Completed\n"
     ]
    },
    {
     "name": "stderr",
     "output_type": "stream",
     "text": [
      "  4%|▍         | 675/16327 [1:22:24<29:09:46,  6.71s/it]"
     ]
    },
    {
     "name": "stdout",
     "output_type": "stream",
     "text": [
      "Markdown content saved to cs_ai_markdown\\2308.14522v1.md\n",
      "Process on 674: Completed\n"
     ]
    },
    {
     "name": "stderr",
     "output_type": "stream",
     "text": [
      "  4%|▍         | 676/16327 [1:22:33<31:48:07,  7.32s/it]"
     ]
    },
    {
     "name": "stdout",
     "output_type": "stream",
     "text": [
      "Markdown content saved to cs_ai_markdown\\2308.14536v1.md\n",
      "Process on 675: Completed\n"
     ]
    },
    {
     "name": "stderr",
     "output_type": "stream",
     "text": [
      "  4%|▍         | 677/16327 [1:22:37<27:54:05,  6.42s/it]"
     ]
    },
    {
     "name": "stdout",
     "output_type": "stream",
     "text": [
      "Markdown content saved to cs_ai_markdown\\2308.14917v1.md\n",
      "Process on 676: Completed\n"
     ]
    },
    {
     "name": "stderr",
     "output_type": "stream",
     "text": [
      "  4%|▍         | 678/16327 [1:22:43<27:19:12,  6.28s/it]"
     ]
    },
    {
     "name": "stdout",
     "output_type": "stream",
     "text": [
      "Markdown content saved to cs_ai_markdown\\2308.14711v2.md\n",
      "Process on 677: Completed\n"
     ]
    },
    {
     "name": "stderr",
     "output_type": "stream",
     "text": [
      "  4%|▍         | 679/16327 [1:22:51<29:34:12,  6.80s/it]"
     ]
    },
    {
     "name": "stdout",
     "output_type": "stream",
     "text": [
      "Markdown content saved to cs_ai_markdown\\2308.14737v1.md\n",
      "Process on 678: Completed\n"
     ]
    },
    {
     "name": "stderr",
     "output_type": "stream",
     "text": [
      "  4%|▍         | 680/16327 [1:23:05<38:54:55,  8.95s/it]"
     ]
    },
    {
     "name": "stdout",
     "output_type": "stream",
     "text": [
      "Markdown content saved to cs_ai_markdown\\2308.14850v1.md\n",
      "Process on 679: Completed\n"
     ]
    },
    {
     "name": "stderr",
     "output_type": "stream",
     "text": [
      "  4%|▍         | 681/16327 [1:23:08<31:51:04,  7.33s/it]"
     ]
    },
    {
     "name": "stdout",
     "output_type": "stream",
     "text": [
      "Markdown content saved to cs_ai_markdown\\2308.14301v1.md\n",
      "Process on 680: Completed\n"
     ]
    },
    {
     "name": "stderr",
     "output_type": "stream",
     "text": [
      "  4%|▍         | 682/16327 [1:23:14<29:41:55,  6.83s/it]"
     ]
    },
    {
     "name": "stdout",
     "output_type": "stream",
     "text": [
      "Markdown content saved to cs_ai_markdown\\2308.14390v1.md\n",
      "Process on 681: Completed\n"
     ]
    },
    {
     "name": "stderr",
     "output_type": "stream",
     "text": [
      "  4%|▍         | 683/16327 [1:23:18<25:54:23,  5.96s/it]"
     ]
    },
    {
     "name": "stdout",
     "output_type": "stream",
     "text": [
      "Markdown content saved to cs_ai_markdown\\2308.14434v1.md\n",
      "Process on 682: Completed\n"
     ]
    },
    {
     "name": "stderr",
     "output_type": "stream",
     "text": [
      "  4%|▍         | 684/16327 [1:23:22<22:54:20,  5.27s/it]"
     ]
    },
    {
     "name": "stdout",
     "output_type": "stream",
     "text": [
      "Markdown content saved to cs_ai_markdown\\2308.14253v1.md\n",
      "Process on 683: Completed\n"
     ]
    },
    {
     "name": "stderr",
     "output_type": "stream",
     "text": [
      "  4%|▍         | 685/16327 [1:23:26<22:05:53,  5.09s/it]"
     ]
    },
    {
     "name": "stdout",
     "output_type": "stream",
     "text": [
      "Markdown content saved to cs_ai_markdown\\2308.14657v2.md\n",
      "Process on 684: Completed\n"
     ]
    },
    {
     "name": "stderr",
     "output_type": "stream",
     "text": [
      "  4%|▍         | 686/16327 [1:23:33<24:36:20,  5.66s/it]"
     ]
    },
    {
     "name": "stdout",
     "output_type": "stream",
     "text": [
      "Markdown content saved to cs_ai_markdown\\2308.14352v1.md\n",
      "Process on 685: Completed\n"
     ]
    },
    {
     "name": "stderr",
     "output_type": "stream",
     "text": [
      "  4%|▍         | 687/16327 [1:24:01<53:53:10, 12.40s/it]"
     ]
    },
    {
     "name": "stdout",
     "output_type": "stream",
     "text": [
      "Markdown content saved to cs_ai_markdown\\2308.14550v1.md\n",
      "Process on 686: Completed\n"
     ]
    },
    {
     "name": "stderr",
     "output_type": "stream",
     "text": [
      "  4%|▍         | 688/16327 [1:24:05<41:57:40,  9.66s/it]"
     ]
    },
    {
     "name": "stdout",
     "output_type": "stream",
     "text": [
      "Markdown content saved to cs_ai_markdown\\2308.14732v1.md\n",
      "Process on 687: Completed\n"
     ]
    },
    {
     "name": "stderr",
     "output_type": "stream",
     "text": [
      "  4%|▍         | 689/16327 [1:24:23<53:18:51, 12.27s/it]"
     ]
    },
    {
     "name": "stdout",
     "output_type": "stream",
     "text": [
      "Markdown content saved to cs_ai_markdown\\2308.14925v1.md\n",
      "Process on 688: Completed\n"
     ]
    },
    {
     "name": "stderr",
     "output_type": "stream",
     "text": [
      "  4%|▍         | 690/16327 [1:24:27<42:08:14,  9.70s/it]"
     ]
    },
    {
     "name": "stdout",
     "output_type": "stream",
     "text": [
      "Markdown content saved to cs_ai_markdown\\2308.14846v1.md\n",
      "Process on 689: Completed\n"
     ]
    },
    {
     "name": "stderr",
     "output_type": "stream",
     "text": [
      "  4%|▍         | 691/16327 [1:24:34<38:26:23,  8.85s/it]"
     ]
    },
    {
     "name": "stdout",
     "output_type": "stream",
     "text": [
      "Markdown content saved to cs_ai_markdown\\2308.14697v1.md\n",
      "Process on 690: Completed\n"
     ]
    },
    {
     "name": "stderr",
     "output_type": "stream",
     "text": [
      "  4%|▍         | 692/16327 [1:24:43<38:26:37,  8.85s/it]"
     ]
    },
    {
     "name": "stdout",
     "output_type": "stream",
     "text": [
      "Markdown content saved to cs_ai_markdown\\2308.14864v1.md\n",
      "Process on 691: Completed\n"
     ]
    },
    {
     "name": "stderr",
     "output_type": "stream",
     "text": [
      "  4%|▍         | 693/16327 [1:25:02<52:16:31, 12.04s/it]"
     ]
    },
    {
     "name": "stdout",
     "output_type": "stream",
     "text": [
      "Markdown content saved to cs_ai_markdown\\2308.14149v1.md\n",
      "Process on 692: Completed\n"
     ]
    },
    {
     "name": "stderr",
     "output_type": "stream",
     "text": [
      "  4%|▍         | 694/16327 [1:25:08<43:52:58, 10.11s/it]"
     ]
    },
    {
     "name": "stdout",
     "output_type": "stream",
     "text": [
      "Markdown content saved to cs_ai_markdown\\2308.14093v1.md\n",
      "Process on 693: Completed\n"
     ]
    },
    {
     "name": "stderr",
     "output_type": "stream",
     "text": [
      "  4%|▍         | 695/16327 [1:25:14<38:45:57,  8.93s/it]"
     ]
    },
    {
     "name": "stdout",
     "output_type": "stream",
     "text": [
      "Markdown content saved to cs_ai_markdown\\2308.14161v2.md\n",
      "Process on 694: Completed\n"
     ]
    },
    {
     "name": "stderr",
     "output_type": "stream",
     "text": [
      "  4%|▍         | 696/16327 [1:25:23<38:56:37,  8.97s/it]"
     ]
    },
    {
     "name": "stdout",
     "output_type": "stream",
     "text": [
      "Markdown content saved to cs_ai_markdown\\2308.13979v1.md\n",
      "Process on 695: Completed\n"
     ]
    },
    {
     "name": "stderr",
     "output_type": "stream",
     "text": [
      "  4%|▍         | 697/16327 [1:25:31<37:28:57,  8.63s/it]"
     ]
    },
    {
     "name": "stdout",
     "output_type": "stream",
     "text": [
      "Markdown content saved to cs_ai_markdown\\2308.13894v1.md\n",
      "Process on 696: Completed\n"
     ]
    },
    {
     "name": "stderr",
     "output_type": "stream",
     "text": [
      "  4%|▍         | 698/16327 [1:25:48<48:55:35, 11.27s/it]"
     ]
    },
    {
     "name": "stdout",
     "output_type": "stream",
     "text": [
      "Markdown content saved to cs_ai_markdown\\2308.13969v1.md\n",
      "Process on 697: Completed\n"
     ]
    },
    {
     "name": "stderr",
     "output_type": "stream",
     "text": [
      "  4%|▍         | 699/16327 [1:25:54<42:14:29,  9.73s/it]"
     ]
    },
    {
     "name": "stdout",
     "output_type": "stream",
     "text": [
      "Markdown content saved to cs_ai_markdown\\2308.13911v1.md\n",
      "Process on 698: Completed\n"
     ]
    },
    {
     "name": "stderr",
     "output_type": "stream",
     "text": [
      "  4%|▍         | 700/16327 [1:25:57<33:28:25,  7.71s/it]"
     ]
    },
    {
     "name": "stdout",
     "output_type": "stream",
     "text": [
      "Markdown content saved to cs_ai_markdown\\2308.13916v3.md\n",
      "Process on 699: Completed\n"
     ]
    },
    {
     "name": "stderr",
     "output_type": "stream",
     "text": [
      "  4%|▍         | 701/16327 [1:26:13<44:23:12, 10.23s/it]"
     ]
    },
    {
     "name": "stdout",
     "output_type": "stream",
     "text": [
      "Markdown content saved to cs_ai_markdown\\2308.13592v1.md\n",
      "Process on 700: Completed\n"
     ]
    },
    {
     "name": "stderr",
     "output_type": "stream",
     "text": [
      "  4%|▍         | 702/16327 [1:26:17<36:12:26,  8.34s/it]"
     ]
    },
    {
     "name": "stdout",
     "output_type": "stream",
     "text": [
      "Markdown content saved to cs_ai_markdown\\2308.13157v1.md\n",
      "Process on 701: Completed\n"
     ]
    },
    {
     "name": "stderr",
     "output_type": "stream",
     "text": [
      "  4%|▍         | 703/16327 [1:26:21<30:33:06,  7.04s/it]"
     ]
    },
    {
     "name": "stdout",
     "output_type": "stream",
     "text": [
      "Markdown content saved to cs_ai_markdown\\2308.13658v1.md\n",
      "Process on 702: Completed\n"
     ]
    },
    {
     "name": "stderr",
     "output_type": "stream",
     "text": [
      "  4%|▍         | 704/16327 [1:28:59<227:21:20, 52.39s/it]"
     ]
    },
    {
     "name": "stdout",
     "output_type": "stream",
     "text": [
      "Markdown content saved to cs_ai_markdown\\2308.13280v2.md\n",
      "Process on 703: Completed\n"
     ]
    },
    {
     "name": "stderr",
     "output_type": "stream",
     "text": [
      "  4%|▍         | 705/16327 [1:29:08<170:25:02, 39.27s/it]"
     ]
    },
    {
     "name": "stdout",
     "output_type": "stream",
     "text": [
      "Markdown content saved to cs_ai_markdown\\2308.13570v6.md\n",
      "Process on 704: Completed\n"
     ]
    },
    {
     "name": "stderr",
     "output_type": "stream",
     "text": [
      "  4%|▍         | 706/16327 [1:29:12<124:37:31, 28.72s/it]"
     ]
    },
    {
     "name": "stdout",
     "output_type": "stream",
     "text": [
      "Markdown content saved to cs_ai_markdown\\2310.05939v1.md\n",
      "Process on 705: Completed\n"
     ]
    },
    {
     "name": "stderr",
     "output_type": "stream",
     "text": [
      "  4%|▍         | 707/16327 [1:29:16<92:34:02, 21.33s/it] "
     ]
    },
    {
     "name": "stdout",
     "output_type": "stream",
     "text": [
      "Markdown content saved to cs_ai_markdown\\2308.13317v1.md\n",
      "Process on 706: Completed\n"
     ]
    },
    {
     "name": "stderr",
     "output_type": "stream",
     "text": [
      "  4%|▍         | 708/16327 [1:29:23<73:20:29, 16.90s/it]"
     ]
    },
    {
     "name": "stdout",
     "output_type": "stream",
     "text": [
      "Markdown content saved to cs_ai_markdown\\2308.13192v1.md\n",
      "Process on 707: Completed\n"
     ]
    },
    {
     "name": "stderr",
     "output_type": "stream",
     "text": [
      "  4%|▍         | 709/16327 [1:29:31<61:39:42, 14.21s/it]"
     ]
    },
    {
     "name": "stdout",
     "output_type": "stream",
     "text": [
      "Markdown content saved to cs_ai_markdown\\2308.13701v1.md\n",
      "Process on 708: Completed\n"
     ]
    },
    {
     "name": "stderr",
     "output_type": "stream",
     "text": [
      "  4%|▍         | 710/16327 [1:29:51<69:51:57, 16.11s/it]"
     ]
    },
    {
     "name": "stdout",
     "output_type": "stream",
     "text": [
      "Markdown content saved to cs_ai_markdown\\2308.13679v2.md\n",
      "Process on 709: Completed\n"
     ]
    },
    {
     "name": "stderr",
     "output_type": "stream",
     "text": [
      "  4%|▍         | 711/16327 [1:29:55<53:28:50, 12.33s/it]"
     ]
    },
    {
     "name": "stdout",
     "output_type": "stream",
     "text": [
      "Markdown content saved to cs_ai_markdown\\2308.13458v1.md\n",
      "Process on 710: Completed\n"
     ]
    },
    {
     "name": "stderr",
     "output_type": "stream",
     "text": [
      "  4%|▍         | 712/16327 [1:30:00<44:20:27, 10.22s/it]"
     ]
    },
    {
     "name": "stdout",
     "output_type": "stream",
     "text": [
      "Markdown content saved to cs_ai_markdown\\2308.13147v1.md\n",
      "Process on 711: Completed\n"
     ]
    },
    {
     "name": "stderr",
     "output_type": "stream",
     "text": [
      "  4%|▍         | 713/16327 [1:30:21<57:55:53, 13.36s/it]"
     ]
    },
    {
     "name": "stdout",
     "output_type": "stream",
     "text": [
      "Markdown content saved to cs_ai_markdown\\2308.13503v1.md\n",
      "Process on 712: Completed\n"
     ]
    },
    {
     "name": "stderr",
     "output_type": "stream",
     "text": [
      "  4%|▍         | 714/16327 [1:30:25<45:46:19, 10.55s/it]"
     ]
    },
    {
     "name": "stdout",
     "output_type": "stream",
     "text": [
      "Markdown content saved to cs_ai_markdown\\2308.12529v1.md\n",
      "Process on 713: Completed\n"
     ]
    },
    {
     "name": "stderr",
     "output_type": "stream",
     "text": [
      "  4%|▍         | 715/16327 [1:30:28<35:59:21,  8.30s/it]"
     ]
    },
    {
     "name": "stdout",
     "output_type": "stream",
     "text": [
      "Markdown content saved to cs_ai_markdown\\2308.12486v1.md\n",
      "Process on 714: Completed\n"
     ]
    },
    {
     "name": "stderr",
     "output_type": "stream",
     "text": [
      "  4%|▍         | 716/16327 [1:30:46<48:49:35, 11.26s/it]"
     ]
    },
    {
     "name": "stdout",
     "output_type": "stream",
     "text": [
      "Markdown content saved to cs_ai_markdown\\2308.12915v2.md\n",
      "Process on 715: Completed\n"
     ]
    },
    {
     "name": "stderr",
     "output_type": "stream",
     "text": [
      "  4%|▍         | 717/16327 [1:30:51<40:37:09,  9.37s/it]"
     ]
    },
    {
     "name": "stdout",
     "output_type": "stream",
     "text": [
      "Markdown content saved to cs_ai_markdown\\2308.12890v2.md\n",
      "Process on 716: Completed\n"
     ]
    },
    {
     "name": "stderr",
     "output_type": "stream",
     "text": [
      "  4%|▍         | 718/16327 [1:30:58<38:04:31,  8.78s/it]"
     ]
    },
    {
     "name": "stdout",
     "output_type": "stream",
     "text": [
      "Markdown content saved to cs_ai_markdown\\2308.12581v1.md\n",
      "Process on 717: Completed\n"
     ]
    },
    {
     "name": "stderr",
     "output_type": "stream",
     "text": [
      "  4%|▍         | 719/16327 [1:31:01<29:25:24,  6.79s/it]"
     ]
    },
    {
     "name": "stdout",
     "output_type": "stream",
     "text": [
      "Markdown content saved to cs_ai_markdown\\2308.12794v1.md\n",
      "Process on 718: Completed\n"
     ]
    },
    {
     "name": "stderr",
     "output_type": "stream",
     "text": [
      "  4%|▍         | 720/16327 [1:31:09<31:41:54,  7.31s/it]"
     ]
    },
    {
     "name": "stdout",
     "output_type": "stream",
     "text": [
      "Markdown content saved to cs_ai_markdown\\2308.12755v1.md\n",
      "Process on 719: Completed\n"
     ]
    },
    {
     "name": "stderr",
     "output_type": "stream",
     "text": [
      "  4%|▍         | 721/16327 [1:31:16<30:57:19,  7.14s/it]"
     ]
    },
    {
     "name": "stdout",
     "output_type": "stream",
     "text": [
      "Markdown content saved to cs_ai_markdown\\2308.12918v1.md\n",
      "Process on 720: Completed\n"
     ]
    },
    {
     "name": "stderr",
     "output_type": "stream",
     "text": [
      "  4%|▍         | 722/16327 [1:31:44<58:06:12, 13.40s/it]"
     ]
    },
    {
     "name": "stdout",
     "output_type": "stream",
     "text": [
      "Markdown content saved to cs_ai_markdown\\2308.12031v1.md\n",
      "Process on 721: Completed\n"
     ]
    },
    {
     "name": "stderr",
     "output_type": "stream",
     "text": [
      "  4%|▍         | 723/16327 [1:31:53<53:05:00, 12.25s/it]"
     ]
    },
    {
     "name": "stdout",
     "output_type": "stream",
     "text": [
      "Markdown content saved to cs_ai_markdown\\2308.12284v1.md\n",
      "Process on 722: Completed\n"
     ]
    },
    {
     "name": "stderr",
     "output_type": "stream",
     "text": [
      "  4%|▍         | 724/16327 [1:31:58<42:39:12,  9.84s/it]"
     ]
    },
    {
     "name": "stdout",
     "output_type": "stream",
     "text": [
      "Markdown content saved to cs_ai_markdown\\2308.11943v1.md\n",
      "Process on 723: Completed\n"
     ]
    },
    {
     "name": "stderr",
     "output_type": "stream",
     "text": [
      "  4%|▍         | 725/16327 [1:32:02<35:25:01,  8.17s/it]"
     ]
    },
    {
     "name": "stdout",
     "output_type": "stream",
     "text": [
      "Markdown content saved to cs_ai_markdown\\2308.11914v2.md\n",
      "Process on 724: Completed\n"
     ]
    },
    {
     "name": "stderr",
     "output_type": "stream",
     "text": [
      "  4%|▍         | 726/16327 [1:32:09<33:19:42,  7.69s/it]"
     ]
    },
    {
     "name": "stdout",
     "output_type": "stream",
     "text": [
      "Markdown content saved to cs_ai_markdown\\2308.12411v1.md\n",
      "Process on 725: Completed\n"
     ]
    },
    {
     "name": "stderr",
     "output_type": "stream",
     "text": [
      "  4%|▍         | 727/16327 [1:32:38<61:38:23, 14.22s/it]"
     ]
    },
    {
     "name": "stdout",
     "output_type": "stream",
     "text": [
      "Markdown content saved to cs_ai_markdown\\2308.12453v1.md\n",
      "Process on 726: Completed\n"
     ]
    },
    {
     "name": "stderr",
     "output_type": "stream",
     "text": [
      "  4%|▍         | 728/16327 [1:32:58<69:23:13, 16.01s/it]"
     ]
    },
    {
     "name": "stdout",
     "output_type": "stream",
     "text": [
      "Markdown content saved to cs_ai_markdown\\2308.12271v1.md\n",
      "Process on 727: Completed\n"
     ]
    },
    {
     "name": "stderr",
     "output_type": "stream",
     "text": [
      "  4%|▍         | 729/16327 [1:33:02<53:02:02, 12.24s/it]"
     ]
    },
    {
     "name": "stdout",
     "output_type": "stream",
     "text": [
      "Markdown content saved to cs_ai_markdown\\2308.11995v1.md\n",
      "Process on 728: Completed\n"
     ]
    },
    {
     "name": "stderr",
     "output_type": "stream",
     "text": [
      "  4%|▍         | 730/16327 [1:34:28<149:56:33, 34.61s/it]"
     ]
    },
    {
     "name": "stdout",
     "output_type": "stream",
     "text": [
      "Markdown content saved to cs_ai_markdown\\2308.12063v1.md\n",
      "Process on 729: Completed\n"
     ]
    },
    {
     "name": "stderr",
     "output_type": "stream",
     "text": [
      "  4%|▍         | 731/16327 [1:34:33<110:38:07, 25.54s/it]"
     ]
    },
    {
     "name": "stdout",
     "output_type": "stream",
     "text": [
      "Markdown content saved to cs_ai_markdown\\2308.11924v1.md\n",
      "Process on 730: Completed\n"
     ]
    },
    {
     "name": "stderr",
     "output_type": "stream",
     "text": [
      "  4%|▍         | 732/16327 [1:34:45<92:59:17, 21.47s/it] "
     ]
    },
    {
     "name": "stdout",
     "output_type": "stream",
     "text": [
      "Markdown content saved to cs_ai_markdown\\2308.12221v1.md\n",
      "Process on 731: Completed\n"
     ]
    },
    {
     "name": "stderr",
     "output_type": "stream",
     "text": [
      "  4%|▍         | 733/16327 [1:34:51<73:23:04, 16.94s/it]"
     ]
    },
    {
     "name": "stdout",
     "output_type": "stream",
     "text": [
      "Markdown content saved to cs_ai_markdown\\2308.12156v1.md\n",
      "Process on 732: Completed\n"
     ]
    },
    {
     "name": "stderr",
     "output_type": "stream",
     "text": [
      "  4%|▍         | 734/16327 [1:35:10<76:10:13, 17.59s/it]"
     ]
    },
    {
     "name": "stdout",
     "output_type": "stream",
     "text": [
      "Markdown content saved to cs_ai_markdown\\2308.11992v1.md\n",
      "Process on 733: Completed\n"
     ]
    },
    {
     "name": "stderr",
     "output_type": "stream",
     "text": [
      "  5%|▍         | 735/16327 [1:35:19<64:32:37, 14.90s/it]"
     ]
    },
    {
     "name": "stdout",
     "output_type": "stream",
     "text": [
      "Markdown content saved to cs_ai_markdown\\2308.11691v1.md\n",
      "Process on 734: Completed\n"
     ]
    },
    {
     "name": "stderr",
     "output_type": "stream",
     "text": [
      "  5%|▍         | 736/16327 [1:35:23<50:08:42, 11.58s/it]"
     ]
    },
    {
     "name": "stdout",
     "output_type": "stream",
     "text": [
      "Markdown content saved to cs_ai_markdown\\2308.11531v2.md\n",
      "Process on 735: Completed\n"
     ]
    },
    {
     "name": "stderr",
     "output_type": "stream",
     "text": [
      "  5%|▍         | 737/16327 [1:35:30<44:28:28, 10.27s/it]"
     ]
    },
    {
     "name": "stdout",
     "output_type": "stream",
     "text": [
      "Markdown content saved to cs_ai_markdown\\2308.11424v1.md\n",
      "Process on 736: Completed\n"
     ]
    },
    {
     "name": "stderr",
     "output_type": "stream",
     "text": [
      "  5%|▍         | 738/16327 [1:35:34<36:23:46,  8.41s/it]"
     ]
    },
    {
     "name": "stdout",
     "output_type": "stream",
     "text": [
      "Markdown content saved to cs_ai_markdown\\2308.11235v1.md\n",
      "Process on 737: Completed\n"
     ]
    },
    {
     "name": "stderr",
     "output_type": "stream",
     "text": [
      "  5%|▍         | 739/16327 [1:35:41<35:12:50,  8.13s/it]"
     ]
    },
    {
     "name": "stdout",
     "output_type": "stream",
     "text": [
      "Markdown content saved to cs_ai_markdown\\2308.11290v1.md\n",
      "Process on 738: Completed\n"
     ]
    },
    {
     "name": "stderr",
     "output_type": "stream",
     "text": [
      "  5%|▍         | 740/16327 [1:35:46<30:24:21,  7.02s/it]"
     ]
    },
    {
     "name": "stdout",
     "output_type": "stream",
     "text": [
      "Markdown content saved to cs_ai_markdown\\2308.11217v3.md\n",
      "Process on 739: Completed\n"
     ]
    },
    {
     "name": "stderr",
     "output_type": "stream",
     "text": [
      "  5%|▍         | 741/16327 [1:35:54<31:27:05,  7.26s/it]"
     ]
    },
    {
     "name": "stdout",
     "output_type": "stream",
     "text": [
      "Markdown content saved to cs_ai_markdown\\2308.11755v1.md\n",
      "Process on 740: Completed\n"
     ]
    },
    {
     "name": "stderr",
     "output_type": "stream",
     "text": [
      "  5%|▍         | 742/16327 [1:36:00<30:42:24,  7.09s/it]"
     ]
    },
    {
     "name": "stdout",
     "output_type": "stream",
     "text": [
      "Markdown content saved to cs_ai_markdown\\2308.11696v3.md\n",
      "Process on 741: Completed\n"
     ]
    },
    {
     "name": "stderr",
     "output_type": "stream",
     "text": [
      "  5%|▍         | 743/16327 [1:36:04<25:48:16,  5.96s/it]"
     ]
    },
    {
     "name": "stdout",
     "output_type": "stream",
     "text": [
      "Markdown content saved to cs_ai_markdown\\2308.12211v1.md\n",
      "Process on 742: Completed\n"
     ]
    },
    {
     "name": "stderr",
     "output_type": "stream",
     "text": [
      "  5%|▍         | 744/16327 [1:36:07<22:16:59,  5.15s/it]"
     ]
    },
    {
     "name": "stdout",
     "output_type": "stream",
     "text": [
      "Markdown content saved to cs_ai_markdown\\2308.11136v1.md\n",
      "Process on 743: Completed\n"
     ]
    },
    {
     "name": "stderr",
     "output_type": "stream",
     "text": [
      "  5%|▍         | 745/16327 [1:36:15<26:25:26,  6.10s/it]"
     ]
    },
    {
     "name": "stdout",
     "output_type": "stream",
     "text": [
      "Markdown content saved to cs_ai_markdown\\2308.11013v1.md\n",
      "Process on 744: Completed\n"
     ]
    },
    {
     "name": "stderr",
     "output_type": "stream",
     "text": [
      "  5%|▍         | 746/16327 [1:36:26<32:18:48,  7.47s/it]"
     ]
    },
    {
     "name": "stdout",
     "output_type": "stream",
     "text": [
      "Markdown content saved to cs_ai_markdown\\2308.11011v1.md\n",
      "Process on 745: Completed\n"
     ]
    },
    {
     "name": "stderr",
     "output_type": "stream",
     "text": [
      "  5%|▍         | 747/16327 [1:36:36<35:33:04,  8.21s/it]"
     ]
    },
    {
     "name": "stdout",
     "output_type": "stream",
     "text": [
      "Markdown content saved to cs_ai_markdown\\2308.10846v1.md\n",
      "Process on 746: Completed\n"
     ]
    },
    {
     "name": "stderr",
     "output_type": "stream",
     "text": [
      "  5%|▍         | 748/16327 [1:36:46<38:15:09,  8.84s/it]"
     ]
    },
    {
     "name": "stdout",
     "output_type": "stream",
     "text": [
      "Markdown content saved to cs_ai_markdown\\2308.10677v2.md\n",
      "Process on 747: Completed\n"
     ]
    },
    {
     "name": "stderr",
     "output_type": "stream",
     "text": [
      "  5%|▍         | 749/16327 [1:36:53<35:25:09,  8.19s/it]"
     ]
    },
    {
     "name": "stdout",
     "output_type": "stream",
     "text": [
      "Markdown content saved to cs_ai_markdown\\2309.12338v1.md\n",
      "Process on 748: Completed\n"
     ]
    },
    {
     "name": "stderr",
     "output_type": "stream",
     "text": [
      "  5%|▍         | 750/16327 [1:36:59<32:44:57,  7.57s/it]"
     ]
    },
    {
     "name": "stdout",
     "output_type": "stream",
     "text": [
      "Markdown content saved to cs_ai_markdown\\2308.10664v1.md\n",
      "Process on 749: Completed\n"
     ]
    },
    {
     "name": "stderr",
     "output_type": "stream",
     "text": [
      "  5%|▍         | 751/16327 [1:37:07<32:51:44,  7.60s/it]"
     ]
    },
    {
     "name": "stdout",
     "output_type": "stream",
     "text": [
      "Markdown content saved to cs_ai_markdown\\2308.10559v2.md\n",
      "Process on 750: Completed\n"
     ]
    },
    {
     "name": "stderr",
     "output_type": "stream",
     "text": [
      "  5%|▍         | 752/16327 [1:37:31<55:00:17, 12.71s/it]"
     ]
    },
    {
     "name": "stdout",
     "output_type": "stream",
     "text": [
      "Markdown content saved to cs_ai_markdown\\2308.10441v1.md\n",
      "Process on 751: Completed\n"
     ]
    },
    {
     "name": "stderr",
     "output_type": "stream",
     "text": [
      "  5%|▍         | 753/16327 [1:37:39<48:48:03, 11.28s/it]"
     ]
    },
    {
     "name": "stdout",
     "output_type": "stream",
     "text": [
      "Markdown content saved to cs_ai_markdown\\2308.10800v2.md\n",
      "Process on 752: Completed\n"
     ]
    },
    {
     "name": "stderr",
     "output_type": "stream",
     "text": [
      "  5%|▍         | 754/16327 [1:38:00<61:03:01, 14.11s/it]"
     ]
    },
    {
     "name": "stdout",
     "output_type": "stream",
     "text": [
      "Markdown content saved to cs_ai_markdown\\2308.10454v1.md\n",
      "Process on 753: Completed\n"
     ]
    },
    {
     "name": "stderr",
     "output_type": "stream",
     "text": [
      "  5%|▍         | 755/16327 [1:38:06<50:15:12, 11.62s/it]"
     ]
    },
    {
     "name": "stdout",
     "output_type": "stream",
     "text": [
      "Markdown content saved to cs_ai_markdown\\2310.05932v1.md\n",
      "Process on 754: Completed\n"
     ]
    },
    {
     "name": "stderr",
     "output_type": "stream",
     "text": [
      "  5%|▍         | 756/16327 [1:38:29<65:30:33, 15.15s/it]"
     ]
    },
    {
     "name": "stdout",
     "output_type": "stream",
     "text": [
      "Markdown content saved to cs_ai_markdown\\2308.10874v1.md\n",
      "Process on 755: Completed\n"
     ]
    },
    {
     "name": "stderr",
     "output_type": "stream",
     "text": [
      "  5%|▍         | 757/16327 [1:38:34<52:08:06, 12.05s/it]"
     ]
    },
    {
     "name": "stdout",
     "output_type": "stream",
     "text": [
      "Markdown content saved to cs_ai_markdown\\2308.11066v2.md\n",
      "Process on 756: Completed\n"
     ]
    },
    {
     "name": "stderr",
     "output_type": "stream",
     "text": [
      "  5%|▍         | 758/16327 [1:38:39<42:35:39,  9.85s/it]"
     ]
    },
    {
     "name": "stdout",
     "output_type": "stream",
     "text": [
      "Markdown content saved to cs_ai_markdown\\2308.10959v2.md\n",
      "Process on 757: Completed\n"
     ]
    },
    {
     "name": "stderr",
     "output_type": "stream",
     "text": [
      "  5%|▍         | 759/16327 [1:38:46<39:04:31,  9.04s/it]"
     ]
    },
    {
     "name": "stdout",
     "output_type": "stream",
     "text": [
      "Markdown content saved to cs_ai_markdown\\2308.10740v1.md\n",
      "Process on 758: Completed\n"
     ]
    },
    {
     "name": "stderr",
     "output_type": "stream",
     "text": [
      "  5%|▍         | 760/16327 [1:39:24<77:11:36, 17.85s/it]"
     ]
    },
    {
     "name": "stdout",
     "output_type": "stream",
     "text": [
      "Markdown content saved to cs_ai_markdown\\2308.10571v1.md\n",
      "Process on 759: Completed\n"
     ]
    },
    {
     "name": "stderr",
     "output_type": "stream",
     "text": [
      "  5%|▍         | 761/16327 [1:39:30<61:39:17, 14.26s/it]"
     ]
    },
    {
     "name": "stdout",
     "output_type": "stream",
     "text": [
      "Markdown content saved to cs_ai_markdown\\2309.12337v1.md\n",
      "Process on 760: Completed\n"
     ]
    },
    {
     "name": "stderr",
     "output_type": "stream",
     "text": [
      "  5%|▍         | 762/16327 [1:39:33<46:15:18, 10.70s/it]"
     ]
    },
    {
     "name": "stdout",
     "output_type": "stream",
     "text": [
      "Markdown content saved to cs_ai_markdown\\2308.10513v1.md\n",
      "Process on 761: Completed\n"
     ]
    },
    {
     "name": "stderr",
     "output_type": "stream",
     "text": [
      "  5%|▍         | 763/16327 [1:39:43<45:51:40, 10.61s/it]"
     ]
    },
    {
     "name": "stdout",
     "output_type": "stream",
     "text": [
      "Markdown content saved to cs_ai_markdown\\2308.10199v2.md\n",
      "Process on 762: Completed\n"
     ]
    },
    {
     "name": "stderr",
     "output_type": "stream",
     "text": [
      "  5%|▍         | 764/16327 [1:40:12<69:26:59, 16.07s/it]"
     ]
    },
    {
     "name": "stdout",
     "output_type": "stream",
     "text": [
      "Markdown content saved to cs_ai_markdown\\2308.10354v1.md\n",
      "Process on 763: Completed\n"
     ]
    },
    {
     "name": "stderr",
     "output_type": "stream",
     "text": [
      "  5%|▍         | 765/16327 [1:40:15<52:33:56, 12.16s/it]"
     ]
    },
    {
     "name": "stdout",
     "output_type": "stream",
     "text": [
      "Markdown content saved to cs_ai_markdown\\2308.10135v1.md\n",
      "Process on 764: Completed\n"
     ]
    },
    {
     "name": "stderr",
     "output_type": "stream",
     "text": [
      "  5%|▍         | 766/16327 [1:40:19<41:55:24,  9.70s/it]"
     ]
    },
    {
     "name": "stdout",
     "output_type": "stream",
     "text": [
      "Markdown content saved to cs_ai_markdown\\2308.10207v1.md\n",
      "Process on 765: Completed\n"
     ]
    },
    {
     "name": "stderr",
     "output_type": "stream",
     "text": [
      "  5%|▍         | 767/16327 [1:40:28<41:34:22,  9.62s/it]"
     ]
    },
    {
     "name": "stdout",
     "output_type": "stream",
     "text": [
      "Markdown content saved to cs_ai_markdown\\2308.09924v2.md\n",
      "Process on 766: Completed\n"
     ]
    },
    {
     "name": "stderr",
     "output_type": "stream",
     "text": [
      "  5%|▍         | 768/16327 [1:40:33<35:49:47,  8.29s/it]"
     ]
    },
    {
     "name": "stdout",
     "output_type": "stream",
     "text": [
      "Markdown content saved to cs_ai_markdown\\2309.16714v1.md\n",
      "Process on 767: Completed\n"
     ]
    },
    {
     "name": "stderr",
     "output_type": "stream",
     "text": [
      "  5%|▍         | 769/16327 [1:40:52<49:14:59, 11.40s/it]"
     ]
    },
    {
     "name": "stdout",
     "output_type": "stream",
     "text": [
      "Markdown content saved to cs_ai_markdown\\2308.10047v2.md\n",
      "Process on 768: Completed\n"
     ]
    },
    {
     "name": "stderr",
     "output_type": "stream",
     "text": [
      "  5%|▍         | 770/16327 [1:40:56<40:05:37,  9.28s/it]"
     ]
    },
    {
     "name": "stdout",
     "output_type": "stream",
     "text": [
      "Markdown content saved to cs_ai_markdown\\2308.09979v1.md\n",
      "Process on 769: Completed\n"
     ]
    },
    {
     "name": "stderr",
     "output_type": "stream",
     "text": [
      "  5%|▍         | 771/16327 [1:41:33<75:50:05, 17.55s/it]"
     ]
    },
    {
     "name": "stdout",
     "output_type": "stream",
     "text": [
      "Markdown content saved to cs_ai_markdown\\2308.09939v1.md\n",
      "Process on 770: Completed\n"
     ]
    },
    {
     "name": "stderr",
     "output_type": "stream",
     "text": [
      "  5%|▍         | 772/16327 [1:41:44<66:46:11, 15.45s/it]"
     ]
    },
    {
     "name": "stdout",
     "output_type": "stream",
     "text": [
      "Markdown content saved to cs_ai_markdown\\2308.09455v1.md\n",
      "Process on 771: Completed\n"
     ]
    },
    {
     "name": "stderr",
     "output_type": "stream",
     "text": [
      "  5%|▍         | 773/16327 [1:41:47<50:25:06, 11.67s/it]"
     ]
    },
    {
     "name": "stdout",
     "output_type": "stream",
     "text": [
      "Markdown content saved to cs_ai_markdown\\2308.09488v1.md\n",
      "Process on 772: Completed\n"
     ]
    },
    {
     "name": "stderr",
     "output_type": "stream",
     "text": [
      "  5%|▍         | 774/16327 [1:42:36<99:28:01, 23.02s/it]"
     ]
    },
    {
     "name": "stdout",
     "output_type": "stream",
     "text": [
      "Markdown content saved to cs_ai_markdown\\2308.09380v1.md\n",
      "Process on 773: Completed\n"
     ]
    },
    {
     "name": "stderr",
     "output_type": "stream",
     "text": [
      "  5%|▍         | 775/16327 [1:42:39<73:29:22, 17.01s/it]"
     ]
    },
    {
     "name": "stdout",
     "output_type": "stream",
     "text": [
      "Markdown content saved to cs_ai_markdown\\2308.10842v3.md\n",
      "Process on 774: Completed\n"
     ]
    },
    {
     "name": "stderr",
     "output_type": "stream",
     "text": [
      "  5%|▍         | 776/16327 [1:42:43<55:53:37, 12.94s/it]"
     ]
    },
    {
     "name": "stdout",
     "output_type": "stream",
     "text": [
      "Markdown content saved to cs_ai_markdown\\2308.12800v1.md\n",
      "Process on 775: Completed\n"
     ]
    },
    {
     "name": "stderr",
     "output_type": "stream",
     "text": [
      "  5%|▍         | 777/16327 [1:42:45<42:50:46,  9.92s/it]"
     ]
    },
    {
     "name": "stdout",
     "output_type": "stream",
     "text": [
      "Markdown content saved to cs_ai_markdown\\2308.09586v1.md\n",
      "Process on 776: Completed\n"
     ]
    },
    {
     "name": "stderr",
     "output_type": "stream",
     "text": [
      "  5%|▍         | 778/16327 [1:42:49<34:35:37,  8.01s/it]"
     ]
    },
    {
     "name": "stdout",
     "output_type": "stream",
     "text": [
      "Markdown content saved to cs_ai_markdown\\2308.09830v3.md\n",
      "Process on 777: Completed\n"
     ]
    },
    {
     "name": "stderr",
     "output_type": "stream",
     "text": [
      "  5%|▍         | 779/16327 [1:42:57<35:07:03,  8.13s/it]"
     ]
    },
    {
     "name": "stdout",
     "output_type": "stream",
     "text": [
      "Markdown content saved to cs_ai_markdown\\2308.09798v1.md\n",
      "Process on 778: Completed\n"
     ]
    },
    {
     "name": "stderr",
     "output_type": "stream",
     "text": [
      "  5%|▍         | 780/16327 [1:43:01<29:42:41,  6.88s/it]"
     ]
    },
    {
     "name": "stdout",
     "output_type": "stream",
     "text": [
      "Markdown content saved to cs_ai_markdown\\2308.09490v1.md\n",
      "Process on 779: Completed\n"
     ]
    },
    {
     "name": "stderr",
     "output_type": "stream",
     "text": [
      "  5%|▍         | 781/16327 [1:43:44<76:05:01, 17.62s/it]"
     ]
    },
    {
     "name": "stdout",
     "output_type": "stream",
     "text": [
      "Markdown content saved to cs_ai_markdown\\2308.09238v1.md\n",
      "Process on 780: Completed\n"
     ]
    },
    {
     "name": "stderr",
     "output_type": "stream",
     "text": [
      "  5%|▍         | 782/16327 [1:44:03<78:10:13, 18.10s/it]"
     ]
    },
    {
     "name": "stdout",
     "output_type": "stream",
     "text": [
      "Markdown content saved to cs_ai_markdown\\2308.09343v1.md\n",
      "Process on 781: Completed\n"
     ]
    },
    {
     "name": "stderr",
     "output_type": "stream",
     "text": [
      "  5%|▍         | 783/16327 [1:44:10<62:55:53, 14.57s/it]"
     ]
    },
    {
     "name": "stdout",
     "output_type": "stream",
     "text": [
      "Markdown content saved to cs_ai_markdown\\2308.11649v1.md\n",
      "Process on 782: Completed\n"
     ]
    },
    {
     "name": "stderr",
     "output_type": "stream",
     "text": [
      "  5%|▍         | 784/16327 [1:44:23<61:08:50, 14.16s/it]"
     ]
    },
    {
     "name": "stdout",
     "output_type": "stream",
     "text": [
      "Markdown content saved to cs_ai_markdown\\2308.08857v2.md\n",
      "Process on 783: Completed\n"
     ]
    },
    {
     "name": "stderr",
     "output_type": "stream",
     "text": [
      "  5%|▍         | 785/16327 [1:44:41<66:03:28, 15.30s/it]"
     ]
    },
    {
     "name": "stdout",
     "output_type": "stream",
     "text": [
      "Markdown content saved to cs_ai_markdown\\2308.09175v2.md\n",
      "Process on 784: Completed\n"
     ]
    },
    {
     "name": "stderr",
     "output_type": "stream",
     "text": [
      "  5%|▍         | 786/16327 [1:44:49<56:58:15, 13.20s/it]"
     ]
    },
    {
     "name": "stdout",
     "output_type": "stream",
     "text": [
      "Markdown content saved to cs_ai_markdown\\2309.12332v1.md\n",
      "Process on 785: Completed\n"
     ]
    },
    {
     "name": "stderr",
     "output_type": "stream",
     "text": [
      "  5%|▍         | 787/16327 [1:44:52<43:28:33, 10.07s/it]"
     ]
    },
    {
     "name": "stdout",
     "output_type": "stream",
     "text": [
      "Markdown content saved to cs_ai_markdown\\2308.09023v1.md\n",
      "Process on 786: Completed\n"
     ]
    },
    {
     "name": "stderr",
     "output_type": "stream",
     "text": [
      "  5%|▍         | 788/16327 [1:45:06<48:16:14, 11.18s/it]"
     ]
    },
    {
     "name": "stdout",
     "output_type": "stream",
     "text": [
      "Markdown content saved to cs_ai_markdown\\2309.16710v1.md\n",
      "Process on 787: Completed\n"
     ]
    },
    {
     "name": "stderr",
     "output_type": "stream",
     "text": [
      "  5%|▍         | 789/16327 [1:45:14<45:07:17, 10.45s/it]"
     ]
    },
    {
     "name": "stdout",
     "output_type": "stream",
     "text": [
      "Markdown content saved to cs_ai_markdown\\2309.09972v1.md\n",
      "Process on 788: Completed\n"
     ]
    },
    {
     "name": "stderr",
     "output_type": "stream",
     "text": [
      "  5%|▍         | 790/16327 [1:45:24<43:46:10, 10.14s/it]"
     ]
    },
    {
     "name": "stdout",
     "output_type": "stream",
     "text": [
      "Markdown content saved to cs_ai_markdown\\2308.08708v3.md\n",
      "Process on 789: Completed\n"
     ]
    },
    {
     "name": "stderr",
     "output_type": "stream",
     "text": [
      "  5%|▍         | 791/16327 [1:45:42<54:52:26, 12.72s/it]"
     ]
    },
    {
     "name": "stdout",
     "output_type": "stream",
     "text": [
      "Markdown content saved to cs_ai_markdown\\2309.12331v1.md\n",
      "Process on 790: Completed\n"
     ]
    },
    {
     "name": "stderr",
     "output_type": "stream",
     "text": [
      "  5%|▍         | 792/16327 [1:45:49<46:28:39, 10.77s/it]"
     ]
    },
    {
     "name": "stdout",
     "output_type": "stream",
     "text": [
      "Markdown content saved to cs_ai_markdown\\2308.08714v1.md\n",
      "Process on 791: Completed\n"
     ]
    },
    {
     "name": "stderr",
     "output_type": "stream",
     "text": [
      "  5%|▍         | 793/16327 [1:45:55<40:19:20,  9.34s/it]"
     ]
    },
    {
     "name": "stdout",
     "output_type": "stream",
     "text": [
      "Markdown content saved to cs_ai_markdown\\2308.09730v1.md\n",
      "Process on 792: Completed\n"
     ]
    },
    {
     "name": "stderr",
     "output_type": "stream",
     "text": [
      "  5%|▍         | 794/16327 [1:46:02<37:39:52,  8.73s/it]"
     ]
    },
    {
     "name": "stdout",
     "output_type": "stream",
     "text": [
      "Markdown content saved to cs_ai_markdown\\2308.09075v1.md\n",
      "Process on 793: Completed\n"
     ]
    },
    {
     "name": "stderr",
     "output_type": "stream",
     "text": [
      "  5%|▍         | 795/16327 [1:46:07<32:28:21,  7.53s/it]"
     ]
    },
    {
     "name": "stdout",
     "output_type": "stream",
     "text": [
      "Markdown content saved to cs_ai_markdown\\2308.08309v1.md\n",
      "Process on 794: Completed\n"
     ]
    },
    {
     "name": "stderr",
     "output_type": "stream",
     "text": [
      "  5%|▍         | 796/16327 [1:46:09<26:14:24,  6.08s/it]"
     ]
    },
    {
     "name": "stdout",
     "output_type": "stream",
     "text": [
      "Markdown content saved to cs_ai_markdown\\2308.08576v1.md\n",
      "Process on 795: Completed\n"
     ]
    },
    {
     "name": "stderr",
     "output_type": "stream",
     "text": [
      "  5%|▍         | 797/16327 [1:46:14<24:26:34,  5.67s/it]"
     ]
    },
    {
     "name": "stdout",
     "output_type": "stream",
     "text": [
      "Markdown content saved to cs_ai_markdown\\2308.08102v1.md\n",
      "Process on 796: Completed\n"
     ]
    },
    {
     "name": "stderr",
     "output_type": "stream",
     "text": [
      "  5%|▍         | 798/16327 [1:46:16<19:34:38,  4.54s/it]"
     ]
    },
    {
     "name": "stdout",
     "output_type": "stream",
     "text": [
      "No /Root object! - Is this really a PDF?\n"
     ]
    },
    {
     "name": "stderr",
     "output_type": "stream",
     "text": [
      "  5%|▍         | 799/16327 [1:46:27<27:44:13,  6.43s/it]"
     ]
    },
    {
     "name": "stdout",
     "output_type": "stream",
     "text": [
      "Markdown content saved to cs_ai_markdown\\2310.05929v1.md\n",
      "Process on 798: Completed\n"
     ]
    },
    {
     "name": "stderr",
     "output_type": "stream",
     "text": [
      "  5%|▍         | 800/16327 [1:46:31<24:34:22,  5.70s/it]"
     ]
    },
    {
     "name": "stdout",
     "output_type": "stream",
     "text": [
      "Markdown content saved to cs_ai_markdown\\2308.08574v2.md\n",
      "Process on 799: Completed\n"
     ]
    },
    {
     "name": "stderr",
     "output_type": "stream",
     "text": [
      "  5%|▍         | 801/16327 [1:46:48<39:58:07,  9.27s/it]"
     ]
    },
    {
     "name": "stdout",
     "output_type": "stream",
     "text": [
      "Markdown content saved to cs_ai_markdown\\2308.07870v1.md\n",
      "Process on 800: Completed\n"
     ]
    },
    {
     "name": "stderr",
     "output_type": "stream",
     "text": [
      "  5%|▍         | 802/16327 [1:46:52<32:38:42,  7.57s/it]"
     ]
    },
    {
     "name": "stdout",
     "output_type": "stream",
     "text": [
      "Markdown content saved to cs_ai_markdown\\2308.07822v1.md\n",
      "Process on 801: Completed\n"
     ]
    },
    {
     "name": "stderr",
     "output_type": "stream",
     "text": [
      "  5%|▍         | 803/16327 [1:48:05<117:13:37, 27.18s/it]"
     ]
    },
    {
     "name": "stdout",
     "output_type": "stream",
     "text": [
      "Markdown content saved to cs_ai_markdown\\2308.07772v1.md\n",
      "Process on 802: Completed\n"
     ]
    },
    {
     "name": "stderr",
     "output_type": "stream",
     "text": [
      "  5%|▍         | 804/16327 [1:48:17<97:07:16, 22.52s/it] "
     ]
    },
    {
     "name": "stdout",
     "output_type": "stream",
     "text": [
      "Markdown content saved to cs_ai_markdown\\2308.07520v1.md\n",
      "Process on 803: Completed\n"
     ]
    },
    {
     "name": "stderr",
     "output_type": "stream",
     "text": [
      "  5%|▍         | 805/16327 [1:48:21<74:10:54, 17.20s/it]"
     ]
    },
    {
     "name": "stdout",
     "output_type": "stream",
     "text": [
      "Markdown content saved to cs_ai_markdown\\2308.08448v1.md\n",
      "Process on 804: Completed\n"
     ]
    },
    {
     "name": "stderr",
     "output_type": "stream",
     "text": [
      "  5%|▍         | 806/16327 [1:48:33<66:39:44, 15.46s/it]"
     ]
    },
    {
     "name": "stdout",
     "output_type": "stream",
     "text": [
      "Markdown content saved to cs_ai_markdown\\2308.07897v1.md\n",
      "Process on 805: Completed\n"
     ]
    },
    {
     "name": "stderr",
     "output_type": "stream",
     "text": [
      "  5%|▍         | 807/16327 [1:48:54<74:29:51, 17.28s/it]"
     ]
    },
    {
     "name": "stdout",
     "output_type": "stream",
     "text": [
      "Markdown content saved to cs_ai_markdown\\2308.06931v2.md\n",
      "Process on 806: Completed\n"
     ]
    },
    {
     "name": "stderr",
     "output_type": "stream",
     "text": [
      "  5%|▍         | 808/16327 [1:48:59<57:42:15, 13.39s/it]"
     ]
    },
    {
     "name": "stdout",
     "output_type": "stream",
     "text": [
      "Markdown content saved to cs_ai_markdown\\2308.07204v1.md\n",
      "Process on 807: Completed\n"
     ]
    },
    {
     "name": "stderr",
     "output_type": "stream",
     "text": [
      "  5%|▍         | 809/16327 [1:49:05<49:04:56, 11.39s/it]"
     ]
    },
    {
     "name": "stdout",
     "output_type": "stream",
     "text": [
      "Markdown content saved to cs_ai_markdown\\2308.07499v1.md\n",
      "Process on 808: Completed\n"
     ]
    },
    {
     "name": "stderr",
     "output_type": "stream",
     "text": [
      "  5%|▍         | 810/16327 [1:49:11<41:06:01,  9.54s/it]"
     ]
    },
    {
     "name": "stdout",
     "output_type": "stream",
     "text": [
      "Markdown content saved to cs_ai_markdown\\2308.06973v1.md\n",
      "Process on 809: Completed\n"
     ]
    },
    {
     "name": "stderr",
     "output_type": "stream",
     "text": [
      "  5%|▍         | 811/16327 [1:49:18<38:02:40,  8.83s/it]"
     ]
    },
    {
     "name": "stdout",
     "output_type": "stream",
     "text": [
      "Markdown content saved to cs_ai_markdown\\2308.07496v1.md\n",
      "Process on 810: Completed\n"
     ]
    },
    {
     "name": "stderr",
     "output_type": "stream",
     "text": [
      "  5%|▍         | 812/16327 [1:49:53<72:28:22, 16.82s/it]"
     ]
    },
    {
     "name": "stdout",
     "output_type": "stream",
     "text": [
      "Markdown content saved to cs_ai_markdown\\2308.07498v1.md\n",
      "Process on 811: Completed\n"
     ]
    },
    {
     "name": "stderr",
     "output_type": "stream",
     "text": [
      "  5%|▍         | 813/16327 [1:49:58<57:05:36, 13.25s/it]"
     ]
    },
    {
     "name": "stdout",
     "output_type": "stream",
     "text": [
      "Markdown content saved to cs_ai_markdown\\2308.07054v1.md\n",
      "Process on 812: Completed\n"
     ]
    },
    {
     "name": "stderr",
     "output_type": "stream",
     "text": [
      "  5%|▍         | 814/16327 [1:50:01<43:59:44, 10.21s/it]"
     ]
    },
    {
     "name": "stdout",
     "output_type": "stream",
     "text": [
      "Markdown content saved to cs_ai_markdown\\2308.07411v1.md\n",
      "Process on 813: Completed\n"
     ]
    },
    {
     "name": "stderr",
     "output_type": "stream",
     "text": [
      "  5%|▍         | 815/16327 [1:50:04<34:43:45,  8.06s/it]"
     ]
    },
    {
     "name": "stdout",
     "output_type": "stream",
     "text": [
      "Markdown content saved to cs_ai_markdown\\2308.07462v2.md\n",
      "Process on 814: Completed\n"
     ]
    },
    {
     "name": "stderr",
     "output_type": "stream",
     "text": [
      "  5%|▍         | 816/16327 [1:50:09<29:59:44,  6.96s/it]"
     ]
    },
    {
     "name": "stdout",
     "output_type": "stream",
     "text": [
      "Markdown content saved to cs_ai_markdown\\2308.07198v1.md\n",
      "Process on 815: Completed\n"
     ]
    },
    {
     "name": "stderr",
     "output_type": "stream",
     "text": [
      "  5%|▌         | 817/16327 [1:50:21<36:16:48,  8.42s/it]"
     ]
    },
    {
     "name": "stdout",
     "output_type": "stream",
     "text": [
      "Markdown content saved to cs_ai_markdown\\2308.07039v1.md\n",
      "Process on 816: Completed\n"
     ]
    },
    {
     "name": "stderr",
     "output_type": "stream",
     "text": [
      "  5%|▌         | 818/16327 [1:50:28<35:27:48,  8.23s/it]"
     ]
    },
    {
     "name": "stdout",
     "output_type": "stream",
     "text": [
      "Markdown content saved to cs_ai_markdown\\2308.07457v1.md\n",
      "Process on 817: Completed\n"
     ]
    },
    {
     "name": "stderr",
     "output_type": "stream",
     "text": [
      "  5%|▌         | 819/16327 [1:50:35<33:33:35,  7.79s/it]"
     ]
    },
    {
     "name": "stdout",
     "output_type": "stream",
     "text": [
      "Markdown content saved to cs_ai_markdown\\2308.07134v3.md\n",
      "Process on 818: Completed\n"
     ]
    },
    {
     "name": "stderr",
     "output_type": "stream",
     "text": [
      "  5%|▌         | 820/16327 [1:50:42<32:56:02,  7.65s/it]"
     ]
    },
    {
     "name": "stdout",
     "output_type": "stream",
     "text": [
      "Markdown content saved to cs_ai_markdown\\2308.07762v1.md\n",
      "Process on 819: Completed\n"
     ]
    },
    {
     "name": "stderr",
     "output_type": "stream",
     "text": [
      "  5%|▌         | 821/16327 [1:50:55<39:38:54,  9.21s/it]"
     ]
    },
    {
     "name": "stdout",
     "output_type": "stream",
     "text": [
      "Markdown content saved to cs_ai_markdown\\2308.06735v1.md\n",
      "Process on 820: Completed\n"
     ]
    },
    {
     "name": "stderr",
     "output_type": "stream",
     "text": [
      "  5%|▌         | 822/16327 [1:51:03<37:51:15,  8.79s/it]"
     ]
    },
    {
     "name": "stdout",
     "output_type": "stream",
     "text": [
      "Markdown content saved to cs_ai_markdown\\2308.06807v1.md\n",
      "Process on 821: Completed\n"
     ]
    },
    {
     "name": "stderr",
     "output_type": "stream",
     "text": [
      "  5%|▌         | 823/16327 [1:51:06<30:38:00,  7.11s/it]"
     ]
    },
    {
     "name": "stdout",
     "output_type": "stream",
     "text": [
      "Markdown content saved to cs_ai_markdown\\2308.06653v1.md\n",
      "Process on 822: Completed\n"
     ]
    },
    {
     "name": "stderr",
     "output_type": "stream",
     "text": [
      "  5%|▌         | 824/16327 [1:51:10<25:53:09,  6.01s/it]"
     ]
    },
    {
     "name": "stdout",
     "output_type": "stream",
     "text": [
      "Markdown content saved to cs_ai_markdown\\2308.06585v1.md\n",
      "Process on 823: Completed\n"
     ]
    },
    {
     "name": "stderr",
     "output_type": "stream",
     "text": [
      "  5%|▌         | 825/16327 [1:51:15<25:00:25,  5.81s/it]"
     ]
    },
    {
     "name": "stdout",
     "output_type": "stream",
     "text": [
      "Markdown content saved to cs_ai_markdown\\2308.09721v1.md\n",
      "Process on 824: Completed\n"
     ]
    },
    {
     "name": "stderr",
     "output_type": "stream",
     "text": [
      "  5%|▌         | 826/16327 [1:51:19<22:57:05,  5.33s/it]"
     ]
    },
    {
     "name": "stdout",
     "output_type": "stream",
     "text": [
      "Markdown content saved to cs_ai_markdown\\2308.06612v1.md\n",
      "Process on 825: Completed\n"
     ]
    },
    {
     "name": "stderr",
     "output_type": "stream",
     "text": [
      "  5%|▌         | 827/16327 [1:51:23<20:37:40,  4.79s/it]"
     ]
    },
    {
     "name": "stdout",
     "output_type": "stream",
     "text": [
      "Markdown content saved to cs_ai_markdown\\2308.06138v1.md\n",
      "Process on 826: Completed\n"
     ]
    },
    {
     "name": "stderr",
     "output_type": "stream",
     "text": [
      "  5%|▌         | 828/16327 [1:52:12<77:52:22, 18.09s/it]"
     ]
    },
    {
     "name": "stdout",
     "output_type": "stream",
     "text": [
      "Markdown content saved to cs_ai_markdown\\2308.06204v1.md\n",
      "Process on 827: Completed\n"
     ]
    },
    {
     "name": "stderr",
     "output_type": "stream",
     "text": [
      "  5%|▌         | 829/16327 [1:52:16<59:30:46, 13.82s/it]"
     ]
    },
    {
     "name": "stdout",
     "output_type": "stream",
     "text": [
      "Markdown content saved to cs_ai_markdown\\2308.08554v1.md\n",
      "Process on 828: Completed\n"
     ]
    },
    {
     "name": "stderr",
     "output_type": "stream",
     "text": [
      "  5%|▌         | 830/16327 [1:52:32<62:58:38, 14.63s/it]"
     ]
    },
    {
     "name": "stdout",
     "output_type": "stream",
     "text": [
      "Markdown content saved to cs_ai_markdown\\2308.06419v1.md\n",
      "Process on 829: Completed\n"
     ]
    },
    {
     "name": "stderr",
     "output_type": "stream",
     "text": [
      "  5%|▌         | 831/16327 [1:52:39<52:14:46, 12.14s/it]"
     ]
    },
    {
     "name": "stdout",
     "output_type": "stream",
     "text": [
      "Markdown content saved to cs_ai_markdown\\2308.06203v2.md\n",
      "Process on 830: Completed\n"
     ]
    },
    {
     "name": "stderr",
     "output_type": "stream",
     "text": [
      "  5%|▌         | 832/16327 [1:52:52<54:22:12, 12.63s/it]"
     ]
    },
    {
     "name": "stdout",
     "output_type": "stream",
     "text": [
      "Markdown content saved to cs_ai_markdown\\2308.06088v1.md\n",
      "Process on 831: Completed\n"
     ]
    },
    {
     "name": "stderr",
     "output_type": "stream",
     "text": [
      "  5%|▌         | 833/16327 [1:53:01<48:35:01, 11.29s/it]"
     ]
    },
    {
     "name": "stdout",
     "output_type": "stream",
     "text": [
      "Markdown content saved to cs_ai_markdown\\2308.06378v2.md\n",
      "Process on 832: Completed\n"
     ]
    },
    {
     "name": "stderr",
     "output_type": "stream",
     "text": [
      "  5%|▌         | 834/16327 [1:53:04<38:24:09,  8.92s/it]"
     ]
    },
    {
     "name": "stdout",
     "output_type": "stream",
     "text": [
      "Markdown content saved to cs_ai_markdown\\2308.06411v1.md\n",
      "Process on 833: Completed\n"
     ]
    },
    {
     "name": "stderr",
     "output_type": "stream",
     "text": [
      "  5%|▌         | 835/16327 [1:53:10<35:12:09,  8.18s/it]"
     ]
    },
    {
     "name": "stdout",
     "output_type": "stream",
     "text": [
      "Markdown content saved to cs_ai_markdown\\2308.06250v1.md\n",
      "Process on 834: Completed\n"
     ]
    },
    {
     "name": "stderr",
     "output_type": "stream",
     "text": [
      "  5%|▌         | 836/16327 [1:53:16<32:18:29,  7.51s/it]"
     ]
    },
    {
     "name": "stdout",
     "output_type": "stream",
     "text": [
      "Markdown content saved to cs_ai_markdown\\2308.05612v2.md\n",
      "Process on 835: Completed\n"
     ]
    },
    {
     "name": "stderr",
     "output_type": "stream",
     "text": [
      "  5%|▌         | 837/16327 [1:53:31<42:04:51,  9.78s/it]"
     ]
    },
    {
     "name": "stdout",
     "output_type": "stream",
     "text": [
      "Markdown content saved to cs_ai_markdown\\2308.05601v1.md\n",
      "Process on 836: Completed\n"
     ]
    },
    {
     "name": "stderr",
     "output_type": "stream",
     "text": [
      "  5%|▌         | 838/16327 [1:53:36<35:19:20,  8.21s/it]"
     ]
    },
    {
     "name": "stdout",
     "output_type": "stream",
     "text": [
      "Markdown content saved to cs_ai_markdown\\2308.05315v1.md\n",
      "Process on 837: Completed\n"
     ]
    },
    {
     "name": "stderr",
     "output_type": "stream",
     "text": [
      "  5%|▌         | 839/16327 [1:53:39<29:02:43,  6.75s/it]"
     ]
    },
    {
     "name": "stdout",
     "output_type": "stream",
     "text": [
      "Markdown content saved to cs_ai_markdown\\2308.05503v1.md\n",
      "Process on 838: Completed\n"
     ]
    },
    {
     "name": "stderr",
     "output_type": "stream",
     "text": [
      "  5%|▌         | 840/16327 [1:53:44<25:52:25,  6.01s/it]"
     ]
    },
    {
     "name": "stdout",
     "output_type": "stream",
     "text": [
      "Markdown content saved to cs_ai_markdown\\2308.05857v1.md\n",
      "Process on 839: Completed\n"
     ]
    },
    {
     "name": "stderr",
     "output_type": "stream",
     "text": [
      "  5%|▌         | 841/16327 [1:53:59<38:27:30,  8.94s/it]"
     ]
    },
    {
     "name": "stdout",
     "output_type": "stream",
     "text": [
      "Markdown content saved to cs_ai_markdown\\2308.05502v1.md\n",
      "Process on 840: Completed\n"
     ]
    },
    {
     "name": "stderr",
     "output_type": "stream",
     "text": [
      "  5%|▌         | 842/16327 [1:54:08<38:20:46,  8.91s/it]"
     ]
    },
    {
     "name": "stdout",
     "output_type": "stream",
     "text": [
      "Markdown content saved to cs_ai_markdown\\2308.05411v1.md\n",
      "Process on 841: Completed\n"
     ]
    },
    {
     "name": "stderr",
     "output_type": "stream",
     "text": [
      "  5%|▌         | 843/16327 [1:54:16<37:02:26,  8.61s/it]"
     ]
    },
    {
     "name": "stdout",
     "output_type": "stream",
     "text": [
      "Markdown content saved to cs_ai_markdown\\2308.05780v1.md\n",
      "Process on 842: Completed\n"
     ]
    },
    {
     "name": "stderr",
     "output_type": "stream",
     "text": [
      "  5%|▌         | 844/16327 [1:54:20<30:29:39,  7.09s/it]"
     ]
    },
    {
     "name": "stdout",
     "output_type": "stream",
     "text": [
      "Markdown content saved to cs_ai_markdown\\2308.04778v1.md\n",
      "Process on 843: Completed\n"
     ]
    },
    {
     "name": "stderr",
     "output_type": "stream",
     "text": [
      "  5%|▌         | 845/16327 [1:54:31<35:25:41,  8.24s/it]"
     ]
    },
    {
     "name": "stdout",
     "output_type": "stream",
     "text": [
      "Markdown content saved to cs_ai_markdown\\2308.04792v1.md\n",
      "Process on 844: Completed\n"
     ]
    },
    {
     "name": "stderr",
     "output_type": "stream",
     "text": [
      "  5%|▌         | 846/16327 [1:54:34<29:41:31,  6.90s/it]"
     ]
    },
    {
     "name": "stdout",
     "output_type": "stream",
     "text": [
      "Markdown content saved to cs_ai_markdown\\2308.04687v1.md\n",
      "Process on 845: Completed\n"
     ]
    },
    {
     "name": "stderr",
     "output_type": "stream",
     "text": [
      "  5%|▌         | 847/16327 [1:54:38<24:55:51,  5.80s/it]"
     ]
    },
    {
     "name": "stdout",
     "output_type": "stream",
     "text": [
      "Markdown content saved to cs_ai_markdown\\2308.04696v1.md\n",
      "Process on 846: Completed\n"
     ]
    },
    {
     "name": "stderr",
     "output_type": "stream",
     "text": [
      "  5%|▌         | 848/16327 [1:54:43<24:54:24,  5.79s/it]"
     ]
    },
    {
     "name": "stdout",
     "output_type": "stream",
     "text": [
      "Markdown content saved to cs_ai_markdown\\2308.04867v1.md\n",
      "Process on 847: Completed\n"
     ]
    },
    {
     "name": "stderr",
     "output_type": "stream",
     "text": [
      "  5%|▌         | 849/16327 [1:54:50<25:26:17,  5.92s/it]"
     ]
    },
    {
     "name": "stdout",
     "output_type": "stream",
     "text": [
      "Markdown content saved to cs_ai_markdown\\2308.04672v1.md\n",
      "Process on 848: Completed\n"
     ]
    },
    {
     "name": "stderr",
     "output_type": "stream",
     "text": [
      "  5%|▌         | 850/16327 [1:54:59<29:18:22,  6.82s/it]"
     ]
    },
    {
     "name": "stdout",
     "output_type": "stream",
     "text": [
      "Markdown content saved to cs_ai_markdown\\2308.04749v1.md\n",
      "Process on 849: Completed\n"
     ]
    },
    {
     "name": "stderr",
     "output_type": "stream",
     "text": [
      "  5%|▌         | 851/16327 [1:56:06<107:46:51, 25.07s/it]"
     ]
    },
    {
     "name": "stdout",
     "output_type": "stream",
     "text": [
      "Markdown content saved to cs_ai_markdown\\2308.05189v1.md\n",
      "Process on 850: Completed\n"
     ]
    },
    {
     "name": "stderr",
     "output_type": "stream",
     "text": [
      "  5%|▌         | 852/16327 [1:56:09<79:00:10, 18.38s/it] "
     ]
    },
    {
     "name": "stdout",
     "output_type": "stream",
     "text": [
      "Markdown content saved to cs_ai_markdown\\2308.05260v1.md\n",
      "Process on 851: Completed\n"
     ]
    },
    {
     "name": "stderr",
     "output_type": "stream",
     "text": [
      "  5%|▌         | 853/16327 [1:56:16<64:30:51, 15.01s/it]"
     ]
    },
    {
     "name": "stdout",
     "output_type": "stream",
     "text": [
      "Markdown content saved to cs_ai_markdown\\2308.04942v1.md\n",
      "Process on 852: Completed\n"
     ]
    },
    {
     "name": "stderr",
     "output_type": "stream",
     "text": [
      "  5%|▌         | 854/16327 [1:56:21<52:00:06, 12.10s/it]"
     ]
    },
    {
     "name": "stdout",
     "output_type": "stream",
     "text": [
      "Markdown content saved to cs_ai_markdown\\2308.04814v1.md\n",
      "Process on 853: Completed\n"
     ]
    },
    {
     "name": "stderr",
     "output_type": "stream",
     "text": [
      "  5%|▌         | 855/16327 [1:56:25<41:32:57,  9.67s/it]"
     ]
    },
    {
     "name": "stdout",
     "output_type": "stream",
     "text": [
      "Markdown content saved to cs_ai_markdown\\2308.09720v1.md\n",
      "Process on 854: Completed\n"
     ]
    },
    {
     "name": "stderr",
     "output_type": "stream",
     "text": [
      "  5%|▌         | 856/16327 [1:56:29<34:21:38,  8.00s/it]"
     ]
    },
    {
     "name": "stdout",
     "output_type": "stream",
     "text": [
      "Markdown content saved to cs_ai_markdown\\2308.04477v1.md\n",
      "Process on 855: Completed\n"
     ]
    },
    {
     "name": "stderr",
     "output_type": "stream",
     "text": [
      "  5%|▌         | 857/16327 [1:56:40<37:39:57,  8.77s/it]"
     ]
    },
    {
     "name": "stdout",
     "output_type": "stream",
     "text": [
      "Markdown content saved to cs_ai_markdown\\2308.04387v1.md\n",
      "Process on 856: Completed\n"
     ]
    },
    {
     "name": "stderr",
     "output_type": "stream",
     "text": [
      "  5%|▌         | 858/16327 [1:56:45<32:37:25,  7.59s/it]"
     ]
    },
    {
     "name": "stdout",
     "output_type": "stream",
     "text": [
      "Markdown content saved to cs_ai_markdown\\2308.04061v1.md\n",
      "Process on 857: Completed\n"
     ]
    },
    {
     "name": "stderr",
     "output_type": "stream",
     "text": [
      "  5%|▌         | 859/16327 [1:56:50<29:27:18,  6.86s/it]"
     ]
    },
    {
     "name": "stdout",
     "output_type": "stream",
     "text": [
      "Markdown content saved to cs_ai_markdown\\2308.08650v1.md\n",
      "Process on 858: Completed\n"
     ]
    },
    {
     "name": "stderr",
     "output_type": "stream",
     "text": [
      "  5%|▌         | 860/16327 [1:57:25<66:07:27, 15.39s/it]"
     ]
    },
    {
     "name": "stdout",
     "output_type": "stream",
     "text": [
      "Markdown content saved to cs_ai_markdown\\2308.04600v2.md\n",
      "Process on 859: Completed\n"
     ]
    },
    {
     "name": "stderr",
     "output_type": "stream",
     "text": [
      "  5%|▌         | 861/16327 [1:57:27<48:45:58, 11.35s/it]"
     ]
    },
    {
     "name": "stdout",
     "output_type": "stream",
     "text": [
      "No /Root object! - Is this really a PDF?\n"
     ]
    },
    {
     "name": "stderr",
     "output_type": "stream",
     "text": [
      "  5%|▌         | 862/16327 [1:57:35<43:35:06, 10.15s/it]"
     ]
    },
    {
     "name": "stdout",
     "output_type": "stream",
     "text": [
      "Markdown content saved to cs_ai_markdown\\2308.04625v1.md\n",
      "Process on 861: Completed\n"
     ]
    },
    {
     "name": "stderr",
     "output_type": "stream",
     "text": [
      "  5%|▌         | 863/16327 [1:57:37<33:44:39,  7.86s/it]"
     ]
    },
    {
     "name": "stdout",
     "output_type": "stream",
     "text": [
      "Markdown content saved to cs_ai_markdown\\2308.04018v1.md\n",
      "Process on 862: Completed\n"
     ]
    },
    {
     "name": "stderr",
     "output_type": "stream",
     "text": [
      "  5%|▌         | 864/16327 [1:57:40<27:49:43,  6.48s/it]"
     ]
    },
    {
     "name": "stdout",
     "output_type": "stream",
     "text": [
      "Markdown content saved to cs_ai_markdown\\2308.04275v1.md\n",
      "Process on 863: Completed\n"
     ]
    },
    {
     "name": "stderr",
     "output_type": "stream",
     "text": [
      "  5%|▌         | 865/16327 [1:57:45<25:13:44,  5.87s/it]"
     ]
    },
    {
     "name": "stdout",
     "output_type": "stream",
     "text": [
      "Markdown content saved to cs_ai_markdown\\2308.04299v1.md\n",
      "Process on 864: Completed\n"
     ]
    },
    {
     "name": "stderr",
     "output_type": "stream",
     "text": [
      "  5%|▌         | 866/16327 [1:57:52<27:16:16,  6.35s/it]"
     ]
    },
    {
     "name": "stdout",
     "output_type": "stream",
     "text": [
      "Markdown content saved to cs_ai_markdown\\2308.04161v1.md\n",
      "Process on 865: Completed\n"
     ]
    },
    {
     "name": "stderr",
     "output_type": "stream",
     "text": [
      "  5%|▌         | 867/16327 [1:57:55<22:07:25,  5.15s/it]"
     ]
    },
    {
     "name": "stdout",
     "output_type": "stream",
     "text": [
      "Markdown content saved to cs_ai_markdown\\2308.03990v1.md\n",
      "Process on 866: Completed\n"
     ]
    },
    {
     "name": "stderr",
     "output_type": "stream",
     "text": [
      "  5%|▌         | 868/16327 [1:57:59<20:44:54,  4.83s/it]"
     ]
    },
    {
     "name": "stdout",
     "output_type": "stream",
     "text": [
      "Markdown content saved to cs_ai_markdown\\2308.04469v1.md\n",
      "Process on 867: Completed\n"
     ]
    },
    {
     "name": "stderr",
     "output_type": "stream",
     "text": [
      "  5%|▌         | 869/16327 [1:58:02<18:56:52,  4.41s/it]"
     ]
    },
    {
     "name": "stdout",
     "output_type": "stream",
     "text": [
      "Markdown content saved to cs_ai_markdown\\2308.04519v1.md\n",
      "Process on 868: Completed\n"
     ]
    },
    {
     "name": "stderr",
     "output_type": "stream",
     "text": [
      "  5%|▌         | 870/16327 [1:58:06<18:14:07,  4.25s/it]"
     ]
    },
    {
     "name": "stdout",
     "output_type": "stream",
     "text": [
      "Markdown content saved to cs_ai_markdown\\2308.04623v1.md\n",
      "Process on 869: Completed\n"
     ]
    },
    {
     "name": "stderr",
     "output_type": "stream",
     "text": [
      "  5%|▌         | 871/16327 [1:58:19<29:14:44,  6.81s/it]"
     ]
    },
    {
     "name": "stdout",
     "output_type": "stream",
     "text": [
      "Markdown content saved to cs_ai_markdown\\2308.04030v1.md\n",
      "Process on 870: Completed\n"
     ]
    },
    {
     "name": "stderr",
     "output_type": "stream",
     "text": [
      "  5%|▌         | 872/16327 [1:58:31<36:33:42,  8.52s/it]"
     ]
    },
    {
     "name": "stdout",
     "output_type": "stream",
     "text": [
      "Markdown content saved to cs_ai_markdown\\2308.04399v2.md\n",
      "Process on 871: Completed\n"
     ]
    },
    {
     "name": "stderr",
     "output_type": "stream",
     "text": [
      "  5%|▌         | 873/16327 [1:58:45<42:45:52,  9.96s/it]"
     ]
    },
    {
     "name": "stdout",
     "output_type": "stream",
     "text": [
      "Markdown content saved to cs_ai_markdown\\2308.04303v1.md\n",
      "Process on 872: Completed\n"
     ]
    },
    {
     "name": "stderr",
     "output_type": "stream",
     "text": [
      "  5%|▌         | 874/16327 [1:59:01<50:58:47, 11.88s/it]"
     ]
    },
    {
     "name": "stdout",
     "output_type": "stream",
     "text": [
      "Markdown content saved to cs_ai_markdown\\2308.04375v1.md\n",
      "Process on 873: Completed\n"
     ]
    },
    {
     "name": "stderr",
     "output_type": "stream",
     "text": [
      "  5%|▌         | 875/16327 [1:59:37<81:49:39, 19.06s/it]"
     ]
    },
    {
     "name": "stdout",
     "output_type": "stream",
     "text": [
      "Markdown content saved to cs_ai_markdown\\2308.04529v1.md\n",
      "Process on 874: Completed\n"
     ]
    },
    {
     "name": "stderr",
     "output_type": "stream",
     "text": [
      "  5%|▌         | 876/16327 [1:59:44<66:24:25, 15.47s/it]"
     ]
    },
    {
     "name": "stdout",
     "output_type": "stream",
     "text": [
      "Markdown content saved to cs_ai_markdown\\2308.04539v1.md\n",
      "Process on 875: Completed\n"
     ]
    },
    {
     "name": "stderr",
     "output_type": "stream",
     "text": [
      "  5%|▌         | 877/16327 [1:59:48<51:15:28, 11.94s/it]"
     ]
    },
    {
     "name": "stdout",
     "output_type": "stream",
     "text": [
      "Markdown content saved to cs_ai_markdown\\2308.04178v1.md\n",
      "Process on 876: Completed\n"
     ]
    },
    {
     "name": "stderr",
     "output_type": "stream",
     "text": [
      "  5%|▌         | 878/16327 [1:59:57<47:50:20, 11.15s/it]"
     ]
    },
    {
     "name": "stdout",
     "output_type": "stream",
     "text": [
      "Markdown content saved to cs_ai_markdown\\2308.03992v1.md\n",
      "Process on 877: Completed\n"
     ]
    },
    {
     "name": "stderr",
     "output_type": "stream",
     "text": [
      "  5%|▌         | 879/16327 [2:00:39<87:45:53, 20.45s/it]"
     ]
    },
    {
     "name": "stdout",
     "output_type": "stream",
     "text": [
      "Markdown content saved to cs_ai_markdown\\2308.04047v1.md\n",
      "Process on 878: Completed\n"
     ]
    },
    {
     "name": "stderr",
     "output_type": "stream",
     "text": [
      "  5%|▌         | 880/16327 [2:01:13<104:58:30, 24.46s/it]"
     ]
    },
    {
     "name": "stdout",
     "output_type": "stream",
     "text": [
      "Markdown content saved to cs_ai_markdown\\2308.04586v10.md\n",
      "Process on 879: Completed\n"
     ]
    },
    {
     "name": "stderr",
     "output_type": "stream",
     "text": [
      "  5%|▌         | 881/16327 [2:01:18<80:12:53, 18.70s/it] "
     ]
    },
    {
     "name": "stdout",
     "output_type": "stream",
     "text": [
      "Markdown content saved to cs_ai_markdown\\2308.04033v2.md\n",
      "Process on 880: Completed\n"
     ]
    },
    {
     "name": "stderr",
     "output_type": "stream",
     "text": [
      "  5%|▌         | 882/16327 [2:01:28<68:20:19, 15.93s/it]"
     ]
    },
    {
     "name": "stdout",
     "output_type": "stream",
     "text": [
      "Markdown content saved to cs_ai_markdown\\2308.03901v2.md\n",
      "Process on 881: Completed\n"
     ]
    },
    {
     "name": "stderr",
     "output_type": "stream",
     "text": [
      "  5%|▌         | 883/16327 [2:01:32<53:13:59, 12.41s/it]"
     ]
    },
    {
     "name": "stdout",
     "output_type": "stream",
     "text": [
      "Markdown content saved to cs_ai_markdown\\2308.03880v2.md\n",
      "Process on 882: Completed\n"
     ]
    },
    {
     "name": "stderr",
     "output_type": "stream",
     "text": [
      "  5%|▌         | 884/16327 [2:01:37<44:24:17, 10.35s/it]"
     ]
    },
    {
     "name": "stdout",
     "output_type": "stream",
     "text": [
      "Markdown content saved to cs_ai_markdown\\2308.03450v1.md\n",
      "Process on 883: Completed\n"
     ]
    },
    {
     "name": "stderr",
     "output_type": "stream",
     "text": [
      "  5%|▌         | 885/16327 [2:01:43<38:09:08,  8.89s/it]"
     ]
    },
    {
     "name": "stdout",
     "output_type": "stream",
     "text": [
      "Markdown content saved to cs_ai_markdown\\2308.03660v1.md\n",
      "Process on 884: Completed\n"
     ]
    },
    {
     "name": "stderr",
     "output_type": "stream",
     "text": [
      "  5%|▌         | 886/16327 [2:01:49<34:49:32,  8.12s/it]"
     ]
    },
    {
     "name": "stdout",
     "output_type": "stream",
     "text": [
      "Markdown content saved to cs_ai_markdown\\2308.03337v1.md\n",
      "Process on 885: Completed\n"
     ]
    },
    {
     "name": "stderr",
     "output_type": "stream",
     "text": [
      "  5%|▌         | 887/16327 [2:01:52<28:31:44,  6.65s/it]"
     ]
    },
    {
     "name": "stdout",
     "output_type": "stream",
     "text": [
      "Markdown content saved to cs_ai_markdown\\2308.03905v1.md\n",
      "Process on 886: Completed\n"
     ]
    },
    {
     "name": "stderr",
     "output_type": "stream",
     "text": [
      "  5%|▌         | 888/16327 [2:02:20<55:46:32, 13.01s/it]"
     ]
    },
    {
     "name": "stdout",
     "output_type": "stream",
     "text": [
      "Markdown content saved to cs_ai_markdown\\2308.03729v1.md\n",
      "Process on 887: Completed\n"
     ]
    },
    {
     "name": "stderr",
     "output_type": "stream",
     "text": [
      "  5%|▌         | 889/16327 [2:02:26<46:20:07, 10.81s/it]"
     ]
    },
    {
     "name": "stdout",
     "output_type": "stream",
     "text": [
      "Markdown content saved to cs_ai_markdown\\2308.03628v2.md\n",
      "Process on 888: Completed\n"
     ]
    },
    {
     "name": "stderr",
     "output_type": "stream",
     "text": [
      "  5%|▌         | 890/16327 [2:02:29<36:14:47,  8.45s/it]"
     ]
    },
    {
     "name": "stdout",
     "output_type": "stream",
     "text": [
      "Markdown content saved to cs_ai_markdown\\2308.03598v4.md\n",
      "Process on 889: Completed\n"
     ]
    },
    {
     "name": "stderr",
     "output_type": "stream",
     "text": [
      "  5%|▌         | 891/16327 [2:02:40<39:44:50,  9.27s/it]"
     ]
    },
    {
     "name": "stdout",
     "output_type": "stream",
     "text": [
      "Markdown content saved to cs_ai_markdown\\2308.03311v1.md\n",
      "Process on 890: Completed\n"
     ]
    },
    {
     "name": "stderr",
     "output_type": "stream",
     "text": [
      "  5%|▌         | 892/16327 [2:07:35<407:00:33, 94.93s/it]"
     ]
    },
    {
     "name": "stdout",
     "output_type": "stream",
     "text": [
      "Markdown content saved to cs_ai_markdown\\2308.03666v4.md\n",
      "Process on 891: Completed\n"
     ]
    },
    {
     "name": "stderr",
     "output_type": "stream",
     "text": [
      "  5%|▌         | 893/16327 [2:07:39<290:46:50, 67.82s/it]"
     ]
    },
    {
     "name": "stdout",
     "output_type": "stream",
     "text": [
      "Markdown content saved to cs_ai_markdown\\2308.03301v1.md\n",
      "Process on 892: Completed\n"
     ]
    },
    {
     "name": "stderr",
     "output_type": "stream",
     "text": [
      "  5%|▌         | 894/16327 [2:07:46<212:13:44, 49.51s/it]"
     ]
    },
    {
     "name": "stdout",
     "output_type": "stream",
     "text": [
      "Markdown content saved to cs_ai_markdown\\2308.03589v1.md\n",
      "Process on 893: Completed\n"
     ]
    },
    {
     "name": "stderr",
     "output_type": "stream",
     "text": [
      "  5%|▌         | 895/16327 [2:08:17<187:47:58, 43.81s/it]"
     ]
    },
    {
     "name": "stdout",
     "output_type": "stream",
     "text": [
      "Markdown content saved to cs_ai_markdown\\2308.03152v2.md\n",
      "Process on 894: Completed\n"
     ]
    },
    {
     "name": "stderr",
     "output_type": "stream",
     "text": [
      "  5%|▌         | 896/16327 [2:08:20<135:13:34, 31.55s/it]"
     ]
    },
    {
     "name": "stdout",
     "output_type": "stream",
     "text": [
      "Markdown content saved to cs_ai_markdown\\2308.03022v1.md\n",
      "Process on 895: Completed\n"
     ]
    },
    {
     "name": "stderr",
     "output_type": "stream",
     "text": [
      "  5%|▌         | 897/16327 [2:08:23<99:30:36, 23.22s/it] "
     ]
    },
    {
     "name": "stdout",
     "output_type": "stream",
     "text": [
      "Markdown content saved to cs_ai_markdown\\2308.03076v1.md\n",
      "Process on 896: Completed\n"
     ]
    },
    {
     "name": "stderr",
     "output_type": "stream",
     "text": [
      "  6%|▌         | 898/16327 [2:08:52<106:24:39, 24.83s/it]"
     ]
    },
    {
     "name": "stdout",
     "output_type": "stream",
     "text": [
      "Markdown content saved to cs_ai_markdown\\2308.03146v1.md\n",
      "Process on 897: Completed\n"
     ]
    },
    {
     "name": "stderr",
     "output_type": "stream",
     "text": [
      "  6%|▌         | 899/16327 [2:08:59<83:13:50, 19.42s/it] "
     ]
    },
    {
     "name": "stdout",
     "output_type": "stream",
     "text": [
      "Markdown content saved to cs_ai_markdown\\2308.02914v2.md\n",
      "Process on 898: Completed\n"
     ]
    },
    {
     "name": "stderr",
     "output_type": "stream",
     "text": [
      "  6%|▌         | 900/16327 [2:09:06<66:51:13, 15.60s/it]"
     ]
    },
    {
     "name": "stdout",
     "output_type": "stream",
     "text": [
      "Markdown content saved to cs_ai_markdown\\2308.02784v1.md\n",
      "Process on 899: Completed\n"
     ]
    },
    {
     "name": "stderr",
     "output_type": "stream",
     "text": [
      "  6%|▌         | 901/16327 [2:09:11<54:02:14, 12.61s/it]"
     ]
    },
    {
     "name": "stdout",
     "output_type": "stream",
     "text": [
      "Markdown content saved to cs_ai_markdown\\2308.02812v1.md\n",
      "Process on 900: Completed\n"
     ]
    },
    {
     "name": "stderr",
     "output_type": "stream",
     "text": [
      "  6%|▌         | 902/16327 [2:09:14<41:27:35,  9.68s/it]"
     ]
    },
    {
     "name": "stdout",
     "output_type": "stream",
     "text": [
      "Markdown content saved to cs_ai_markdown\\2308.02829v1.md\n",
      "Process on 901: Completed\n"
     ]
    },
    {
     "name": "stderr",
     "output_type": "stream",
     "text": [
      "  6%|▌         | 903/16327 [2:09:19<35:44:55,  8.34s/it]"
     ]
    },
    {
     "name": "stdout",
     "output_type": "stream",
     "text": [
      "Markdown content saved to cs_ai_markdown\\2308.02835v2.md\n",
      "Process on 902: Completed\n"
     ]
    },
    {
     "name": "stderr",
     "output_type": "stream",
     "text": [
      "  6%|▌         | 904/16327 [2:09:25<32:55:58,  7.69s/it]"
     ]
    },
    {
     "name": "stdout",
     "output_type": "stream",
     "text": [
      "Markdown content saved to cs_ai_markdown\\2308.02950v1.md\n",
      "Process on 903: Completed\n"
     ]
    },
    {
     "name": "stderr",
     "output_type": "stream",
     "text": [
      "  6%|▌         | 905/16327 [2:09:32<31:39:42,  7.39s/it]"
     ]
    },
    {
     "name": "stdout",
     "output_type": "stream",
     "text": [
      "Markdown content saved to cs_ai_markdown\\2308.02787v2.md\n",
      "Process on 904: Completed\n"
     ]
    },
    {
     "name": "stderr",
     "output_type": "stream",
     "text": [
      "  6%|▌         | 906/16327 [2:09:54<50:26:58, 11.78s/it]"
     ]
    },
    {
     "name": "stdout",
     "output_type": "stream",
     "text": [
      "Markdown content saved to cs_ai_markdown\\2308.02960v1.md\n",
      "Process on 905: Completed\n"
     ]
    },
    {
     "name": "stderr",
     "output_type": "stream",
     "text": [
      "  6%|▌         | 907/16327 [2:10:07<51:58:10, 12.13s/it]"
     ]
    },
    {
     "name": "stdout",
     "output_type": "stream",
     "text": [
      "Markdown content saved to cs_ai_markdown\\2308.02149v1.md\n",
      "Process on 906: Completed\n"
     ]
    },
    {
     "name": "stderr",
     "output_type": "stream",
     "text": [
      "  6%|▌         | 908/16327 [2:10:13<43:32:15, 10.17s/it]"
     ]
    },
    {
     "name": "stdout",
     "output_type": "stream",
     "text": [
      "Markdown content saved to cs_ai_markdown\\2308.04451v1.md\n",
      "Process on 907: Completed\n"
     ]
    },
    {
     "name": "stderr",
     "output_type": "stream",
     "text": [
      "  6%|▌         | 909/16327 [2:10:16<34:53:35,  8.15s/it]"
     ]
    },
    {
     "name": "stdout",
     "output_type": "stream",
     "text": [
      "Markdown content saved to cs_ai_markdown\\2308.02219v2.md\n",
      "Process on 908: Completed\n"
     ]
    },
    {
     "name": "stderr",
     "output_type": "stream",
     "text": [
      "  6%|▌         | 910/16327 [2:10:25<35:42:04,  8.34s/it]"
     ]
    },
    {
     "name": "stdout",
     "output_type": "stream",
     "text": [
      "Markdown content saved to cs_ai_markdown\\2308.02126v1.md\n",
      "Process on 909: Completed\n"
     ]
    },
    {
     "name": "stderr",
     "output_type": "stream",
     "text": [
      "  6%|▌         | 911/16327 [2:10:30<31:34:47,  7.37s/it]"
     ]
    },
    {
     "name": "stdout",
     "output_type": "stream",
     "text": [
      "Markdown content saved to cs_ai_markdown\\2308.02666v1.md\n",
      "Process on 910: Completed\n"
     ]
    },
    {
     "name": "stderr",
     "output_type": "stream",
     "text": [
      "  6%|▌         | 912/16327 [2:10:49<46:27:31, 10.85s/it]"
     ]
    },
    {
     "name": "stdout",
     "output_type": "stream",
     "text": [
      "Markdown content saved to cs_ai_markdown\\2308.02741v1.md\n",
      "Process on 911: Completed\n"
     ]
    },
    {
     "name": "stderr",
     "output_type": "stream",
     "text": [
      "  6%|▌         | 913/16327 [2:10:54<39:35:48,  9.25s/it]"
     ]
    },
    {
     "name": "stdout",
     "output_type": "stream",
     "text": [
      "Markdown content saved to cs_ai_markdown\\2308.02448v1.md\n",
      "Process on 912: Completed\n"
     ]
    },
    {
     "name": "stderr",
     "output_type": "stream",
     "text": [
      "  6%|▌         | 914/16327 [2:10:57<31:34:55,  7.38s/it]"
     ]
    },
    {
     "name": "stdout",
     "output_type": "stream",
     "text": [
      "Markdown content saved to cs_ai_markdown\\2308.02665v1.md\n",
      "Process on 913: Completed\n"
     ]
    },
    {
     "name": "stderr",
     "output_type": "stream",
     "text": [
      "  6%|▌         | 915/16327 [2:11:03<29:36:02,  6.91s/it]"
     ]
    },
    {
     "name": "stdout",
     "output_type": "stream",
     "text": [
      "Markdown content saved to cs_ai_markdown\\2308.02152v1.md\n",
      "Process on 914: Completed\n"
     ]
    },
    {
     "name": "stderr",
     "output_type": "stream",
     "text": [
      "  6%|▌         | 916/16327 [2:11:18<39:51:45,  9.31s/it]"
     ]
    },
    {
     "name": "stdout",
     "output_type": "stream",
     "text": [
      "Markdown content saved to cs_ai_markdown\\2308.02135v1.md\n",
      "Process on 915: Completed\n"
     ]
    },
    {
     "name": "stderr",
     "output_type": "stream",
     "text": [
      "  6%|▌         | 917/16327 [2:11:30<43:11:43, 10.09s/it]"
     ]
    },
    {
     "name": "stdout",
     "output_type": "stream",
     "text": [
      "Markdown content saved to cs_ai_markdown\\2308.02614v1.md\n",
      "Process on 916: Completed\n"
     ]
    },
    {
     "name": "stderr",
     "output_type": "stream",
     "text": [
      "  6%|▌         | 918/16327 [2:11:34<34:49:13,  8.14s/it]"
     ]
    },
    {
     "name": "stdout",
     "output_type": "stream",
     "text": [
      "Markdown content saved to cs_ai_markdown\\2308.02575v1.md\n",
      "Process on 917: Completed\n"
     ]
    },
    {
     "name": "stderr",
     "output_type": "stream",
     "text": [
      "  6%|▌         | 919/16327 [2:11:41<34:10:31,  7.98s/it]"
     ]
    },
    {
     "name": "stdout",
     "output_type": "stream",
     "text": [
      "Markdown content saved to cs_ai_markdown\\2308.01543v1.md\n",
      "Process on 918: Completed\n"
     ]
    },
    {
     "name": "stderr",
     "output_type": "stream",
     "text": [
      "  6%|▌         | 920/16327 [2:11:46<30:19:28,  7.09s/it]"
     ]
    },
    {
     "name": "stdout",
     "output_type": "stream",
     "text": [
      "Markdown content saved to cs_ai_markdown\\2308.01797v1.md\n",
      "Process on 919: Completed\n"
     ]
    },
    {
     "name": "stderr",
     "output_type": "stream",
     "text": [
      "  6%|▌         | 921/16327 [2:11:54<31:29:47,  7.36s/it]"
     ]
    },
    {
     "name": "stdout",
     "output_type": "stream",
     "text": [
      "Markdown content saved to cs_ai_markdown\\2308.02561v1.md\n",
      "Process on 920: Completed\n"
     ]
    },
    {
     "name": "stderr",
     "output_type": "stream",
     "text": [
      "  6%|▌         | 922/16327 [2:13:32<147:06:19, 34.38s/it]"
     ]
    },
    {
     "name": "stdout",
     "output_type": "stream",
     "text": [
      "Markdown content saved to cs_ai_markdown\\2308.01538v1.md\n",
      "Process on 921: Completed\n"
     ]
    },
    {
     "name": "stderr",
     "output_type": "stream",
     "text": [
      "  6%|▌         | 923/16327 [2:13:40<113:57:19, 26.63s/it]"
     ]
    },
    {
     "name": "stdout",
     "output_type": "stream",
     "text": [
      "Markdown content saved to cs_ai_markdown\\2308.01895v1.md\n",
      "Process on 922: Completed\n"
     ]
    },
    {
     "name": "stderr",
     "output_type": "stream",
     "text": [
      "  6%|▌         | 924/16327 [2:13:46<86:48:07, 20.29s/it] "
     ]
    },
    {
     "name": "stdout",
     "output_type": "stream",
     "text": [
      "Markdown content saved to cs_ai_markdown\\2308.01682v1.md\n",
      "Process on 923: Completed\n"
     ]
    },
    {
     "name": "stderr",
     "output_type": "stream",
     "text": [
      "  6%|▌         | 925/16327 [2:13:53<70:15:30, 16.42s/it]"
     ]
    },
    {
     "name": "stdout",
     "output_type": "stream",
     "text": [
      "Markdown content saved to cs_ai_markdown\\2308.01649v1.md\n",
      "Process on 924: Completed\n"
     ]
    },
    {
     "name": "stderr",
     "output_type": "stream",
     "text": [
      "  6%|▌         | 926/16327 [2:13:59<57:09:40, 13.36s/it]"
     ]
    },
    {
     "name": "stdout",
     "output_type": "stream",
     "text": [
      "Markdown content saved to cs_ai_markdown\\2308.01941v1.md\n",
      "Process on 925: Completed\n"
     ]
    },
    {
     "name": "stderr",
     "output_type": "stream",
     "text": [
      "  6%|▌         | 927/16327 [2:14:09<52:18:17, 12.23s/it]"
     ]
    },
    {
     "name": "stdout",
     "output_type": "stream",
     "text": [
      "Markdown content saved to cs_ai_markdown\\2308.01264v1.md\n",
      "Process on 926: Completed\n"
     ]
    },
    {
     "name": "stderr",
     "output_type": "stream",
     "text": [
      "  6%|▌         | 928/16327 [2:14:20<50:18:42, 11.76s/it]"
     ]
    },
    {
     "name": "stdout",
     "output_type": "stream",
     "text": [
      "Markdown content saved to cs_ai_markdown\\2308.01285v1.md\n",
      "Process on 927: Completed\n"
     ]
    },
    {
     "name": "stderr",
     "output_type": "stream",
     "text": [
      "  6%|▌         | 929/16327 [2:14:25<42:41:01,  9.98s/it]"
     ]
    },
    {
     "name": "stdout",
     "output_type": "stream",
     "text": [
      "Markdown content saved to cs_ai_markdown\\2308.01274v1.md\n",
      "Process on 928: Completed\n"
     ]
    },
    {
     "name": "stderr",
     "output_type": "stream",
     "text": [
      "  6%|▌         | 930/16327 [2:14:30<35:34:14,  8.32s/it]"
     ]
    },
    {
     "name": "stdout",
     "output_type": "stream",
     "text": [
      "Markdown content saved to cs_ai_markdown\\2308.02558v1.md\n",
      "Process on 929: Completed\n"
     ]
    },
    {
     "name": "stderr",
     "output_type": "stream",
     "text": [
      "  6%|▌         | 931/16327 [2:14:33<28:54:57,  6.76s/it]"
     ]
    },
    {
     "name": "stdout",
     "output_type": "stream",
     "text": [
      "Markdown content saved to cs_ai_markdown\\2308.01137v1.md\n",
      "Process on 930: Completed\n"
     ]
    },
    {
     "name": "stderr",
     "output_type": "stream",
     "text": [
      "  6%|▌         | 932/16327 [2:14:39<28:32:14,  6.67s/it]"
     ]
    },
    {
     "name": "stdout",
     "output_type": "stream",
     "text": [
      "Markdown content saved to cs_ai_markdown\\2308.01085v1.md\n",
      "Process on 931: Completed\n"
     ]
    },
    {
     "name": "stderr",
     "output_type": "stream",
     "text": [
      "  6%|▌         | 933/16327 [2:14:45<27:15:53,  6.38s/it]"
     ]
    },
    {
     "name": "stdout",
     "output_type": "stream",
     "text": [
      "Markdown content saved to cs_ai_markdown\\2308.04448v1.md\n",
      "Process on 932: Completed\n"
     ]
    },
    {
     "name": "stderr",
     "output_type": "stream",
     "text": [
      "  6%|▌         | 934/16327 [2:14:49<24:16:29,  5.68s/it]"
     ]
    },
    {
     "name": "stdout",
     "output_type": "stream",
     "text": [
      "Markdown content saved to cs_ai_markdown\\2308.01320v1.md\n",
      "Process on 933: Completed\n"
     ]
    },
    {
     "name": "stderr",
     "output_type": "stream",
     "text": [
      "  6%|▌         | 935/16327 [2:14:58<28:13:09,  6.60s/it]"
     ]
    },
    {
     "name": "stdout",
     "output_type": "stream",
     "text": [
      "Markdown content saved to cs_ai_markdown\\2308.01369v1.md\n",
      "Process on 934: Completed\n"
     ]
    },
    {
     "name": "stderr",
     "output_type": "stream",
     "text": [
      "  6%|▌         | 936/16327 [2:15:02<25:25:45,  5.95s/it]"
     ]
    },
    {
     "name": "stdout",
     "output_type": "stream",
     "text": [
      "Markdown content saved to cs_ai_markdown\\2308.01044v1.md\n",
      "Process on 935: Completed\n"
     ]
    },
    {
     "name": "stderr",
     "output_type": "stream",
     "text": [
      "  6%|▌         | 937/16327 [2:15:06<22:02:52,  5.16s/it]"
     ]
    },
    {
     "name": "stdout",
     "output_type": "stream",
     "text": [
      "Markdown content saved to cs_ai_markdown\\2308.01936v2.md\n",
      "Process on 936: Completed\n"
     ]
    },
    {
     "name": "stderr",
     "output_type": "stream",
     "text": [
      "  6%|▌         | 938/16327 [2:15:13<24:47:54,  5.80s/it]"
     ]
    },
    {
     "name": "stdout",
     "output_type": "stream",
     "text": [
      "Markdown content saved to cs_ai_markdown\\2308.00350v1.md\n",
      "Process on 937: Completed\n"
     ]
    },
    {
     "name": "stderr",
     "output_type": "stream",
     "text": [
      "  6%|▌         | 939/16327 [2:15:24<31:32:58,  7.38s/it]"
     ]
    },
    {
     "name": "stdout",
     "output_type": "stream",
     "text": [
      "Markdown content saved to cs_ai_markdown\\2308.00253v2.md\n",
      "Process on 938: Completed\n"
     ]
    },
    {
     "name": "stderr",
     "output_type": "stream",
     "text": [
      "  6%|▌         | 940/16327 [2:15:29<28:59:41,  6.78s/it]"
     ]
    },
    {
     "name": "stdout",
     "output_type": "stream",
     "text": [
      "Markdown content saved to cs_ai_markdown\\2308.00391v1.md\n",
      "Process on 939: Completed\n"
     ]
    },
    {
     "name": "stderr",
     "output_type": "stream",
     "text": [
      "  6%|▌         | 941/16327 [2:16:05<66:08:56, 15.48s/it]"
     ]
    },
    {
     "name": "stdout",
     "output_type": "stream",
     "text": [
      "Markdown content saved to cs_ai_markdown\\2308.01207v1.md\n",
      "Process on 940: Completed\n"
     ]
    },
    {
     "name": "stderr",
     "output_type": "stream",
     "text": [
      "  6%|▌         | 942/16327 [2:16:13<55:51:18, 13.07s/it]"
     ]
    },
    {
     "name": "stdout",
     "output_type": "stream",
     "text": [
      "Markdown content saved to cs_ai_markdown\\2308.00868v2.md\n",
      "Process on 941: Completed\n"
     ]
    },
    {
     "name": "stderr",
     "output_type": "stream",
     "text": [
      "  6%|▌         | 943/16327 [2:16:20<48:34:57, 11.37s/it]"
     ]
    },
    {
     "name": "stdout",
     "output_type": "stream",
     "text": [
      "Markdown content saved to cs_ai_markdown\\2308.01423v2.md\n",
      "Process on 942: Completed\n"
     ]
    },
    {
     "name": "stderr",
     "output_type": "stream",
     "text": [
      "  6%|▌         | 944/16327 [2:16:49<71:18:08, 16.69s/it]"
     ]
    },
    {
     "name": "stdout",
     "output_type": "stream",
     "text": [
      "Markdown content saved to cs_ai_markdown\\2308.11624v1.md\n",
      "Process on 943: Completed\n"
     ]
    },
    {
     "name": "stderr",
     "output_type": "stream",
     "text": [
      "  6%|▌         | 945/16327 [2:16:56<58:41:13, 13.74s/it]"
     ]
    },
    {
     "name": "stdout",
     "output_type": "stream",
     "text": [
      "Markdown content saved to cs_ai_markdown\\2308.00858v1.md\n",
      "Process on 944: Completed\n"
     ]
    },
    {
     "name": "stderr",
     "output_type": "stream",
     "text": [
      "  6%|▌         | 946/16327 [2:17:04<50:52:21, 11.91s/it]"
     ]
    },
    {
     "name": "stdout",
     "output_type": "stream",
     "text": [
      "Markdown content saved to cs_ai_markdown\\2308.00864v2.md\n",
      "Process on 945: Completed\n"
     ]
    },
    {
     "name": "stderr",
     "output_type": "stream",
     "text": [
      "  6%|▌         | 947/16327 [2:17:14<48:20:31, 11.32s/it]"
     ]
    },
    {
     "name": "stdout",
     "output_type": "stream",
     "text": [
      "Markdown content saved to cs_ai_markdown\\2308.00607v1.md\n",
      "Process on 946: Completed\n"
     ]
    },
    {
     "name": "stderr",
     "output_type": "stream",
     "text": [
      "  6%|▌         | 948/16327 [2:17:16<37:23:22,  8.75s/it]"
     ]
    },
    {
     "name": "stdout",
     "output_type": "stream",
     "text": [
      "Markdown content saved to cs_ai_markdown\\2308.00521v1.md\n",
      "Process on 947: Completed\n"
     ]
    },
    {
     "name": "stderr",
     "output_type": "stream",
     "text": [
      "  6%|▌         | 949/16327 [2:17:27<40:18:15,  9.44s/it]"
     ]
    },
    {
     "name": "stdout",
     "output_type": "stream",
     "text": [
      "Markdown content saved to cs_ai_markdown\\2308.00377v1.md\n",
      "Process on 948: Completed\n"
     ]
    },
    {
     "name": "stderr",
     "output_type": "stream",
     "text": [
      "  6%|▌         | 950/16327 [2:17:33<35:26:51,  8.30s/it]"
     ]
    },
    {
     "name": "stdout",
     "output_type": "stream",
     "text": [
      "Markdown content saved to cs_ai_markdown\\2308.00479v1.md\n",
      "Process on 949: Completed\n"
     ]
    },
    {
     "name": "stderr",
     "output_type": "stream",
     "text": [
      "  6%|▌         | 951/16327 [2:17:40<33:49:10,  7.92s/it]"
     ]
    },
    {
     "name": "stdout",
     "output_type": "stream",
     "text": [
      "Markdown content saved to cs_ai_markdown\\2308.00549v1.md\n",
      "Process on 950: Completed\n"
     ]
    },
    {
     "name": "stderr",
     "output_type": "stream",
     "text": [
      "  6%|▌         | 952/16327 [2:17:50<36:43:15,  8.60s/it]"
     ]
    },
    {
     "name": "stdout",
     "output_type": "stream",
     "text": [
      "Markdown content saved to cs_ai_markdown\\2308.00381v1.md\n",
      "Process on 951: Completed\n"
     ]
    },
    {
     "name": "stderr",
     "output_type": "stream",
     "text": [
      "  6%|▌         | 953/16327 [2:18:17<59:21:03, 13.90s/it]"
     ]
    },
    {
     "name": "stdout",
     "output_type": "stream",
     "text": [
      "Markdown content saved to cs_ai_markdown\\2308.00352v4.md\n",
      "Process on 952: Completed\n"
     ]
    },
    {
     "name": "stderr",
     "output_type": "stream",
     "text": [
      "  6%|▌         | 954/16327 [2:18:23<49:19:26, 11.55s/it]"
     ]
    },
    {
     "name": "stdout",
     "output_type": "stream",
     "text": [
      "Markdown content saved to cs_ai_markdown\\2308.00364v1.md\n",
      "Process on 953: Completed\n"
     ]
    },
    {
     "name": "stderr",
     "output_type": "stream",
     "text": [
      "  6%|▌         | 955/16327 [2:18:36<51:22:38, 12.03s/it]"
     ]
    },
    {
     "name": "stdout",
     "output_type": "stream",
     "text": [
      "Markdown content saved to cs_ai_markdown\\2308.00382v1.md\n",
      "Process on 954: Completed\n"
     ]
    },
    {
     "name": "stderr",
     "output_type": "stream",
     "text": [
      "  6%|▌         | 956/16327 [2:18:43<44:56:54, 10.53s/it]"
     ]
    },
    {
     "name": "stdout",
     "output_type": "stream",
     "text": [
      "Markdown content saved to cs_ai_markdown\\2307.16890v2.md\n",
      "Process on 955: Completed\n"
     ]
    },
    {
     "name": "stderr",
     "output_type": "stream",
     "text": [
      "  6%|▌         | 957/16327 [2:18:53<44:39:20, 10.46s/it]"
     ]
    },
    {
     "name": "stdout",
     "output_type": "stream",
     "text": [
      "Markdown content saved to cs_ai_markdown\\2308.00076v1.md\n",
      "Process on 956: Completed\n"
     ]
    },
    {
     "name": "stderr",
     "output_type": "stream",
     "text": [
      "  6%|▌         | 958/16327 [2:19:12<55:32:41, 13.01s/it]"
     ]
    },
    {
     "name": "stdout",
     "output_type": "stream",
     "text": [
      "Markdown content saved to cs_ai_markdown\\2308.02677v1.md\n",
      "Process on 957: Completed\n"
     ]
    },
    {
     "name": "stderr",
     "output_type": "stream",
     "text": [
      "  6%|▌         | 959/16327 [2:19:16<44:01:45, 10.31s/it]"
     ]
    },
    {
     "name": "stdout",
     "output_type": "stream",
     "text": [
      "Markdown content saved to cs_ai_markdown\\2308.02524v1.md\n",
      "Process on 958: Completed\n"
     ]
    },
    {
     "name": "stderr",
     "output_type": "stream",
     "text": [
      "  6%|▌         | 960/16327 [2:19:30<48:16:51, 11.31s/it]"
     ]
    },
    {
     "name": "stdout",
     "output_type": "stream",
     "text": [
      "Markdown content saved to cs_ai_markdown\\2307.16387v9.md\n",
      "Process on 959: Completed\n"
     ]
    },
    {
     "name": "stderr",
     "output_type": "stream",
     "text": [
      "  6%|▌         | 961/16327 [2:19:37<42:33:03,  9.97s/it]"
     ]
    },
    {
     "name": "stdout",
     "output_type": "stream",
     "text": [
      "Markdown content saved to cs_ai_markdown\\2308.02030v1.md\n",
      "Process on 960: Completed\n"
     ]
    },
    {
     "name": "stderr",
     "output_type": "stream",
     "text": [
      "  6%|▌         | 962/16327 [2:19:39<33:24:20,  7.83s/it]"
     ]
    },
    {
     "name": "stdout",
     "output_type": "stream",
     "text": [
      "Markdown content saved to cs_ai_markdown\\2308.00133v1.md\n",
      "Process on 961: Completed\n"
     ]
    },
    {
     "name": "stderr",
     "output_type": "stream",
     "text": [
      "  6%|▌         | 963/16327 [2:19:46<31:23:09,  7.35s/it]"
     ]
    },
    {
     "name": "stdout",
     "output_type": "stream",
     "text": [
      "Markdown content saved to cs_ai_markdown\\2308.00184v1.md\n",
      "Process on 962: Completed\n"
     ]
    },
    {
     "name": "stderr",
     "output_type": "stream",
     "text": [
      "  6%|▌         | 964/16327 [2:19:51<29:04:22,  6.81s/it]"
     ]
    },
    {
     "name": "stdout",
     "output_type": "stream",
     "text": [
      "Markdown content saved to cs_ai_markdown\\2308.00116v1.md\n",
      "Process on 963: Completed\n"
     ]
    },
    {
     "name": "stderr",
     "output_type": "stream",
     "text": [
      "  6%|▌         | 965/16327 [2:20:10<44:54:55, 10.53s/it]"
     ]
    },
    {
     "name": "stdout",
     "output_type": "stream",
     "text": [
      "Markdown content saved to cs_ai_markdown\\2308.02527v1.md\n",
      "Process on 964: Completed\n"
     ]
    },
    {
     "name": "stderr",
     "output_type": "stream",
     "text": [
      "  6%|▌         | 966/16327 [2:20:32<58:33:47, 13.72s/it]"
     ]
    },
    {
     "name": "stdout",
     "output_type": "stream",
     "text": [
      "Markdown content saved to cs_ai_markdown\\2307.16360v1.md\n",
      "Process on 965: Completed\n"
     ]
    },
    {
     "name": "stderr",
     "output_type": "stream",
     "text": [
      "  6%|▌         | 967/16327 [2:20:35<44:52:57, 10.52s/it]"
     ]
    },
    {
     "name": "stdout",
     "output_type": "stream",
     "text": [
      "Markdown content saved to cs_ai_markdown\\2307.16699v1.md\n",
      "Process on 966: Completed\n"
     ]
    },
    {
     "name": "stderr",
     "output_type": "stream",
     "text": [
      "  6%|▌         | 968/16327 [2:20:59<62:58:38, 14.76s/it]"
     ]
    },
    {
     "name": "stdout",
     "output_type": "stream",
     "text": [
      "Markdown content saved to cs_ai_markdown\\2307.16489v2.md\n",
      "Process on 967: Completed\n"
     ]
    },
    {
     "name": "stderr",
     "output_type": "stream",
     "text": [
      "  6%|▌         | 969/16327 [2:21:04<49:52:53, 11.69s/it]"
     ]
    },
    {
     "name": "stdout",
     "output_type": "stream",
     "text": [
      "Markdown content saved to cs_ai_markdown\\2309.12321v2.md\n",
      "Process on 968: Completed\n"
     ]
    },
    {
     "name": "stderr",
     "output_type": "stream",
     "text": [
      "  6%|▌         | 970/16327 [2:21:09<41:48:29,  9.80s/it]"
     ]
    },
    {
     "name": "stdout",
     "output_type": "stream",
     "text": [
      "Markdown content saved to cs_ai_markdown\\2307.16513v1.md\n",
      "Process on 969: Completed\n"
     ]
    },
    {
     "name": "stderr",
     "output_type": "stream",
     "text": [
      "  6%|▌         | 971/16327 [2:21:14<35:05:11,  8.23s/it]"
     ]
    },
    {
     "name": "stdout",
     "output_type": "stream",
     "text": [
      "Markdown content saved to cs_ai_markdown\\2307.16840v1.md\n",
      "Process on 970: Completed\n"
     ]
    },
    {
     "name": "stderr",
     "output_type": "stream",
     "text": [
      "  6%|▌         | 972/16327 [2:21:16<28:00:06,  6.57s/it]"
     ]
    },
    {
     "name": "stdout",
     "output_type": "stream",
     "text": [
      "Markdown content saved to cs_ai_markdown\\2308.02399v2.md\n",
      "Process on 971: Completed\n"
     ]
    },
    {
     "name": "stderr",
     "output_type": "stream",
     "text": [
      "  6%|▌         | 973/16327 [2:21:20<24:49:32,  5.82s/it]"
     ]
    },
    {
     "name": "stdout",
     "output_type": "stream",
     "text": [
      "Markdown content saved to cs_ai_markdown\\2308.00081v2.md\n",
      "Process on 972: Completed\n"
     ]
    },
    {
     "name": "stderr",
     "output_type": "stream",
     "text": [
      "  6%|▌         | 974/16327 [2:21:30<29:05:03,  6.82s/it]"
     ]
    },
    {
     "name": "stdout",
     "output_type": "stream",
     "text": [
      "Markdown content saved to cs_ai_markdown\\2307.16427v1.md\n",
      "Process on 973: Completed\n"
     ]
    },
    {
     "name": "stderr",
     "output_type": "stream",
     "text": [
      "  6%|▌         | 975/16327 [2:21:34<26:03:25,  6.11s/it]"
     ]
    },
    {
     "name": "stdout",
     "output_type": "stream",
     "text": [
      "Markdown content saved to cs_ai_markdown\\2308.00031v1.md\n",
      "Process on 974: Completed\n"
     ]
    },
    {
     "name": "stderr",
     "output_type": "stream",
     "text": [
      "  6%|▌         | 976/16327 [2:21:38<23:13:18,  5.45s/it]"
     ]
    },
    {
     "name": "stdout",
     "output_type": "stream",
     "text": [
      "Markdown content saved to cs_ai_markdown\\2307.16780v1.md\n",
      "Process on 975: Completed\n"
     ]
    },
    {
     "name": "stderr",
     "output_type": "stream",
     "text": [
      "  6%|▌         | 977/16327 [2:21:44<23:57:57,  5.62s/it]"
     ]
    },
    {
     "name": "stdout",
     "output_type": "stream",
     "text": [
      "Markdown content saved to cs_ai_markdown\\2307.16121v1.md\n",
      "Process on 976: Completed\n"
     ]
    },
    {
     "name": "stderr",
     "output_type": "stream",
     "text": [
      "  6%|▌         | 978/16327 [2:21:48<21:16:01,  4.99s/it]"
     ]
    },
    {
     "name": "stdout",
     "output_type": "stream",
     "text": [
      "Markdown content saved to cs_ai_markdown\\2307.16265v1.md\n",
      "Process on 977: Completed\n"
     ]
    },
    {
     "name": "stderr",
     "output_type": "stream",
     "text": [
      "  6%|▌         | 979/16327 [2:21:56<26:19:52,  6.18s/it]"
     ]
    },
    {
     "name": "stdout",
     "output_type": "stream",
     "text": [
      "Markdown content saved to cs_ai_markdown\\2307.16228v1.md\n",
      "Process on 978: Completed\n"
     ]
    },
    {
     "name": "stderr",
     "output_type": "stream",
     "text": [
      "  6%|▌         | 980/16327 [2:22:19<47:06:04, 11.05s/it]"
     ]
    },
    {
     "name": "stdout",
     "output_type": "stream",
     "text": [
      "Markdown content saved to cs_ai_markdown\\2308.05751v1.md\n",
      "Process on 979: Completed\n"
     ]
    },
    {
     "name": "stderr",
     "output_type": "stream",
     "text": [
      "  6%|▌         | 981/16327 [2:22:25<41:19:59,  9.70s/it]"
     ]
    },
    {
     "name": "stdout",
     "output_type": "stream",
     "text": [
      "Markdown content saved to cs_ai_markdown\\2307.16235v1.md\n",
      "Process on 980: Completed\n"
     ]
    },
    {
     "name": "stderr",
     "output_type": "stream",
     "text": [
      "  6%|▌         | 982/16327 [2:22:30<34:55:24,  8.19s/it]"
     ]
    },
    {
     "name": "stdout",
     "output_type": "stream",
     "text": [
      "Markdown content saved to cs_ai_markdown\\2307.16307v1.md\n",
      "Process on 981: Completed\n"
     ]
    },
    {
     "name": "stderr",
     "output_type": "stream",
     "text": [
      "  6%|▌         | 983/16327 [2:22:38<34:11:46,  8.02s/it]"
     ]
    },
    {
     "name": "stdout",
     "output_type": "stream",
     "text": [
      "Markdown content saved to cs_ai_markdown\\2307.16236v1.md\n",
      "Process on 982: Completed\n"
     ]
    },
    {
     "name": "stderr",
     "output_type": "stream",
     "text": [
      "  6%|▌         | 984/16327 [2:23:26<85:52:43, 20.15s/it]"
     ]
    },
    {
     "name": "stdout",
     "output_type": "stream",
     "text": [
      "Markdown content saved to cs_ai_markdown\\2307.15898v2.md\n",
      "Process on 983: Completed\n"
     ]
    },
    {
     "name": "stderr",
     "output_type": "stream",
     "text": [
      "  6%|▌         | 985/16327 [2:23:36<73:01:25, 17.14s/it]"
     ]
    },
    {
     "name": "stdout",
     "output_type": "stream",
     "text": [
      "Markdown content saved to cs_ai_markdown\\2307.15989v2.md\n",
      "Process on 984: Completed\n"
     ]
    },
    {
     "name": "stderr",
     "output_type": "stream",
     "text": [
      "  6%|▌         | 986/16327 [2:23:42<57:59:05, 13.61s/it]"
     ]
    },
    {
     "name": "stdout",
     "output_type": "stream",
     "text": [
      "Markdown content saved to cs_ai_markdown\\2307.15933v1.md\n",
      "Process on 985: Completed\n"
     ]
    },
    {
     "name": "stderr",
     "output_type": "stream",
     "text": [
      "  6%|▌         | 987/16327 [2:23:50<51:18:10, 12.04s/it]"
     ]
    },
    {
     "name": "stdout",
     "output_type": "stream",
     "text": [
      "Markdown content saved to cs_ai_markdown\\2308.00710v1.md\n",
      "Process on 986: Completed\n"
     ]
    },
    {
     "name": "stderr",
     "output_type": "stream",
     "text": [
      "  6%|▌         | 988/16327 [2:23:57<44:43:15, 10.50s/it]"
     ]
    },
    {
     "name": "stdout",
     "output_type": "stream",
     "text": [
      "Markdown content saved to cs_ai_markdown\\2307.15759v1.md\n",
      "Process on 987: Completed\n"
     ]
    },
    {
     "name": "stderr",
     "output_type": "stream",
     "text": [
      "  6%|▌         | 989/16327 [2:24:05<41:41:59,  9.79s/it]"
     ]
    },
    {
     "name": "stdout",
     "output_type": "stream",
     "text": [
      "Markdown content saved to cs_ai_markdown\\2307.16806v1.md\n",
      "Process on 988: Completed\n"
     ]
    },
    {
     "name": "stderr",
     "output_type": "stream",
     "text": [
      "  6%|▌         | 990/16327 [2:24:08<33:05:32,  7.77s/it]"
     ]
    },
    {
     "name": "stdout",
     "output_type": "stream",
     "text": [
      "Markdown content saved to cs_ai_markdown\\2307.15727v1.md\n",
      "Process on 989: Completed\n"
     ]
    },
    {
     "name": "stderr",
     "output_type": "stream",
     "text": [
      "  6%|▌         | 991/16327 [2:24:15<31:49:32,  7.47s/it]"
     ]
    },
    {
     "name": "stdout",
     "output_type": "stream",
     "text": [
      "Markdown content saved to cs_ai_markdown\\2307.15316v1.md\n",
      "Process on 990: Completed\n"
     ]
    },
    {
     "name": "stderr",
     "output_type": "stream",
     "text": [
      "  6%|▌         | 992/16327 [2:24:24<33:47:02,  7.93s/it]"
     ]
    },
    {
     "name": "stdout",
     "output_type": "stream",
     "text": [
      "Markdown content saved to cs_ai_markdown\\2307.15456v1.md\n",
      "Process on 991: Completed\n"
     ]
    },
    {
     "name": "stderr",
     "output_type": "stream",
     "text": [
      "  6%|▌         | 993/16327 [2:24:37<40:23:55,  9.48s/it]"
     ]
    },
    {
     "name": "stdout",
     "output_type": "stream",
     "text": [
      "Markdown content saved to cs_ai_markdown\\2308.06272v1.md\n",
      "Process on 992: Completed\n"
     ]
    },
    {
     "name": "stderr",
     "output_type": "stream",
     "text": [
      "  6%|▌         | 994/16327 [2:24:43<35:55:17,  8.43s/it]"
     ]
    },
    {
     "name": "stdout",
     "output_type": "stream",
     "text": [
      "Markdown content saved to cs_ai_markdown\\2307.15361v1.md\n",
      "Process on 993: Completed\n"
     ]
    },
    {
     "name": "stderr",
     "output_type": "stream",
     "text": [
      "  6%|▌         | 995/16327 [2:25:03<51:11:28, 12.02s/it]"
     ]
    },
    {
     "name": "stdout",
     "output_type": "stream",
     "text": [
      "Markdown content saved to cs_ai_markdown\\2307.15786v1.md\n",
      "Process on 994: Completed\n"
     ]
    },
    {
     "name": "stderr",
     "output_type": "stream",
     "text": [
      "  6%|▌         | 996/16327 [2:25:08<42:02:53,  9.87s/it]"
     ]
    },
    {
     "name": "stdout",
     "output_type": "stream",
     "text": [
      "Markdown content saved to cs_ai_markdown\\2307.15429v1.md\n",
      "Process on 995: Completed\n"
     ]
    },
    {
     "name": "stderr",
     "output_type": "stream",
     "text": [
      "  6%|▌         | 997/16327 [2:25:18<41:52:31,  9.83s/it]"
     ]
    },
    {
     "name": "stdout",
     "output_type": "stream",
     "text": [
      "Markdown content saved to cs_ai_markdown\\2307.15266v1.md\n",
      "Process on 996: Completed\n"
     ]
    },
    {
     "name": "stderr",
     "output_type": "stream",
     "text": [
      "  6%|▌         | 998/16327 [2:25:29<42:50:38, 10.06s/it]"
     ]
    },
    {
     "name": "stdout",
     "output_type": "stream",
     "text": [
      "Markdown content saved to cs_ai_markdown\\2307.15724v1.md\n",
      "Process on 997: Completed\n"
     ]
    },
    {
     "name": "stderr",
     "output_type": "stream",
     "text": [
      "  6%|▌         | 999/16327 [2:25:33<35:03:48,  8.24s/it]"
     ]
    },
    {
     "name": "stdout",
     "output_type": "stream",
     "text": [
      "Markdown content saved to cs_ai_markdown\\2307.15776v2.md\n",
      "Process on 998: Completed\n"
     ]
    },
    {
     "name": "stderr",
     "output_type": "stream",
     "text": [
      "100%|██████████| 16327/16327 [2:25:38<00:00,  1.87it/s]  "
     ]
    },
    {
     "name": "stdout",
     "output_type": "stream",
     "text": [
      "Markdown content saved to cs_ai_markdown\\2307.15439v1.md\n",
      "Process on 999: Completed\n"
     ]
    },
    {
     "name": "stderr",
     "output_type": "stream",
     "text": [
      "\n"
     ]
    }
   ],
   "source": [
    "from tqdm import tqdm\n",
    "from arxiv2text import arxiv_to_md\n",
    "\n",
    "except_list = []\n",
    "\n",
    "for i in tqdm(range(len(pdf_url_list))):\n",
    "    if i<1000 and i >180:\n",
    "        try:\n",
    "            arxiv_to_md(pdf_url_list[i], \"cs_ai_markdown\")\n",
    "            print(f\"Process on {i}: Completed\")\n",
    "        except Exception as e:\n",
    "            print(e)\n",
    "            except_list.append(i)"
   ]
  },
  {
   "cell_type": "code",
   "execution_count": null,
   "metadata": {},
   "outputs": [],
   "source": []
  }
 ],
 "metadata": {
  "kernelspec": {
   "display_name": "cs",
   "language": "python",
   "name": "cs"
  },
  "language_info": {
   "codemirror_mode": {
    "name": "ipython",
    "version": 3
   },
   "file_extension": ".py",
   "mimetype": "text/x-python",
   "name": "python",
   "nbconvert_exporter": "python",
   "pygments_lexer": "ipython3",
   "version": "3.9.12"
  }
 },
 "nbformat": 4,
 "nbformat_minor": 2
}
